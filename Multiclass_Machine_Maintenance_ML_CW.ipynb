{
  "nbformat": 4,
  "nbformat_minor": 0,
  "metadata": {
    "colab": {
      "provenance": []
    },
    "kernelspec": {
      "name": "python3",
      "display_name": "Python 3"
    },
    "language_info": {
      "name": "python"
    }
  },
  "cells": [
    {
      "cell_type": "markdown",
      "source": [
        "# Introduction"
      ],
      "metadata": {
        "id": "pvYxcUXo8e2U"
      }
    },
    {
      "cell_type": "markdown",
      "source": [
        "This synthetic dataset is modeled after an existing milling machine and consists of 10 000 data points from a stored as rows with 14 features in columns. \n",
        "- UID: unique identifier ranging from 1 to 10000\n",
        "\n",
        "- product ID: consisting of a letter L, M, or H for low (50% of all products), medium (30%) and high (20%) as product quality variants and a variant-specific serial number\n",
        "\n",
        "- type: just the product type L, M or H from product ID column\n",
        "\n",
        "- air temperature [K]: generated using a random walk process later normalized to a standard deviation of 2 K around 300 K\n",
        "\n",
        "- process temperature [K]: generated using a random walk process normalized to a standard deviation of 1 K, added to the air temperature plus 10 K.\n",
        "\n",
        "- rotational speed [rpm]: calculated from a power of 2860 W, overlaid with a normally distributed noise\n",
        "\n",
        "- torque [Nm]: torque values are normally distributed around 40 Nm with a SD = 10 Nm and no negative values.\n",
        "\n",
        "- tool wear [min]: The quality variants H/M/L add 5/3/2 minutes of tool wear to the used tool in the process.\n",
        "\n",
        "- machine failure iindicates whether the machine has failed (1) in this particular datapoint for any of the following failure modes are true.\n",
        "\n",
        "- tool wear failure (TWF): the tool will be replaced of fail at a randomly selected tool wear time between 200 - 240 mins.\n",
        "\n",
        "- heat dissipation failure (HDF): heat dissipation causes a process failure, if the difference between air- and process temperature is below 8.6 K and the tools rotational speed is below 1380 rpm. \n",
        "\n",
        "- power failure (PWF): the product of torque and rotational speed (in rad/s) equals the power required for the process. If this power is below 3500 W or above 9000 W, the process fails.\n",
        "\n",
        "- overstrain failure (OSF): if the product of tool wear and torque exceeds 11,000 minNm for the L product variant (12,000 M, 13,000 H), the process fails due to overstrain.\n",
        "\n",
        "- random failures (RNF): each process has a chance of 0,1 % to fail regardless of its process parameters. \n",
        "\n",
        "\n",
        "This dataset is part of the following publication: S. Matzka, \"Explainable Artificial Intelligence for Predictive Maintenance Applications,\" 2020 Third International Conference on Artificial Intelligence for Industries (AI4I), 2020, pp. 69-74, doi: 10.1109/AI4I49448.2020.00023.\n"
      ],
      "metadata": {
        "id": "JkZdKR5N97fJ"
      }
    },
    {
      "cell_type": "markdown",
      "source": [
        "# Importing Libraries"
      ],
      "metadata": {
        "id": "s0IulFDA_12x"
      }
    },
    {
      "cell_type": "code",
      "source": [
        "#!pip install matplotlib --upgrade"
      ],
      "metadata": {
        "id": "aQK5-A_z3yIj"
      },
      "execution_count": null,
      "outputs": []
    },
    {
      "cell_type": "code",
      "source": [
        "import pandas as pd\n",
        "import numpy as np\n",
        "import matplotlib.pyplot as plt\n",
        "\n",
        "%matplotlib inline\n",
        "import seaborn as sns\n",
        "\n",
        "import warnings\n",
        "warnings.filterwarnings('ignore')"
      ],
      "metadata": {
        "id": "BHVubtDi8mfW"
      },
      "execution_count": 1,
      "outputs": []
    },
    {
      "cell_type": "code",
      "source": [
        "raw_data = pd.read_csv('ai4i2020.csv')"
      ],
      "metadata": {
        "id": "zcseTFEH86-_"
      },
      "execution_count": 4,
      "outputs": []
    },
    {
      "cell_type": "markdown",
      "source": [
        "# Data Exploration "
      ],
      "metadata": {
        "id": "5Lgt3M6GDI3A"
      }
    },
    {
      "cell_type": "code",
      "source": [
        "raw_data.head()"
      ],
      "metadata": {
        "colab": {
          "base_uri": "https://localhost:8080/",
          "height": 268
        },
        "id": "J_SRZ_I79MVm",
        "outputId": "a32b042d-6d03-49eb-8518-97ddd29d1647"
      },
      "execution_count": 5,
      "outputs": [
        {
          "output_type": "execute_result",
          "data": {
            "text/plain": [
              "   UDI Product ID Type  Air temperature [K]  Process temperature [K]  \\\n",
              "0    1     M14860    M                298.1                    308.6   \n",
              "1    2     L47181    L                298.2                    308.7   \n",
              "2    3     L47182    L                298.1                    308.5   \n",
              "3    4     L47183    L                298.2                    308.6   \n",
              "4    5     L47184    L                298.2                    308.7   \n",
              "\n",
              "   Rotational speed [rpm]  Torque [Nm]  Tool wear [min]  Machine failure  TWF  \\\n",
              "0                    1551         42.8                0                0    0   \n",
              "1                    1408         46.3                3                0    0   \n",
              "2                    1498         49.4                5                0    0   \n",
              "3                    1433         39.5                7                0    0   \n",
              "4                    1408         40.0                9                0    0   \n",
              "\n",
              "   HDF  PWF  OSF  RNF  \n",
              "0    0    0    0    0  \n",
              "1    0    0    0    0  \n",
              "2    0    0    0    0  \n",
              "3    0    0    0    0  \n",
              "4    0    0    0    0  "
            ],
            "text/html": [
              "\n",
              "  <div id=\"df-000f4ad2-6495-4b0a-bd6c-cdf0b0af1892\">\n",
              "    <div class=\"colab-df-container\">\n",
              "      <div>\n",
              "<style scoped>\n",
              "    .dataframe tbody tr th:only-of-type {\n",
              "        vertical-align: middle;\n",
              "    }\n",
              "\n",
              "    .dataframe tbody tr th {\n",
              "        vertical-align: top;\n",
              "    }\n",
              "\n",
              "    .dataframe thead th {\n",
              "        text-align: right;\n",
              "    }\n",
              "</style>\n",
              "<table border=\"1\" class=\"dataframe\">\n",
              "  <thead>\n",
              "    <tr style=\"text-align: right;\">\n",
              "      <th></th>\n",
              "      <th>UDI</th>\n",
              "      <th>Product ID</th>\n",
              "      <th>Type</th>\n",
              "      <th>Air temperature [K]</th>\n",
              "      <th>Process temperature [K]</th>\n",
              "      <th>Rotational speed [rpm]</th>\n",
              "      <th>Torque [Nm]</th>\n",
              "      <th>Tool wear [min]</th>\n",
              "      <th>Machine failure</th>\n",
              "      <th>TWF</th>\n",
              "      <th>HDF</th>\n",
              "      <th>PWF</th>\n",
              "      <th>OSF</th>\n",
              "      <th>RNF</th>\n",
              "    </tr>\n",
              "  </thead>\n",
              "  <tbody>\n",
              "    <tr>\n",
              "      <th>0</th>\n",
              "      <td>1</td>\n",
              "      <td>M14860</td>\n",
              "      <td>M</td>\n",
              "      <td>298.1</td>\n",
              "      <td>308.6</td>\n",
              "      <td>1551</td>\n",
              "      <td>42.8</td>\n",
              "      <td>0</td>\n",
              "      <td>0</td>\n",
              "      <td>0</td>\n",
              "      <td>0</td>\n",
              "      <td>0</td>\n",
              "      <td>0</td>\n",
              "      <td>0</td>\n",
              "    </tr>\n",
              "    <tr>\n",
              "      <th>1</th>\n",
              "      <td>2</td>\n",
              "      <td>L47181</td>\n",
              "      <td>L</td>\n",
              "      <td>298.2</td>\n",
              "      <td>308.7</td>\n",
              "      <td>1408</td>\n",
              "      <td>46.3</td>\n",
              "      <td>3</td>\n",
              "      <td>0</td>\n",
              "      <td>0</td>\n",
              "      <td>0</td>\n",
              "      <td>0</td>\n",
              "      <td>0</td>\n",
              "      <td>0</td>\n",
              "    </tr>\n",
              "    <tr>\n",
              "      <th>2</th>\n",
              "      <td>3</td>\n",
              "      <td>L47182</td>\n",
              "      <td>L</td>\n",
              "      <td>298.1</td>\n",
              "      <td>308.5</td>\n",
              "      <td>1498</td>\n",
              "      <td>49.4</td>\n",
              "      <td>5</td>\n",
              "      <td>0</td>\n",
              "      <td>0</td>\n",
              "      <td>0</td>\n",
              "      <td>0</td>\n",
              "      <td>0</td>\n",
              "      <td>0</td>\n",
              "    </tr>\n",
              "    <tr>\n",
              "      <th>3</th>\n",
              "      <td>4</td>\n",
              "      <td>L47183</td>\n",
              "      <td>L</td>\n",
              "      <td>298.2</td>\n",
              "      <td>308.6</td>\n",
              "      <td>1433</td>\n",
              "      <td>39.5</td>\n",
              "      <td>7</td>\n",
              "      <td>0</td>\n",
              "      <td>0</td>\n",
              "      <td>0</td>\n",
              "      <td>0</td>\n",
              "      <td>0</td>\n",
              "      <td>0</td>\n",
              "    </tr>\n",
              "    <tr>\n",
              "      <th>4</th>\n",
              "      <td>5</td>\n",
              "      <td>L47184</td>\n",
              "      <td>L</td>\n",
              "      <td>298.2</td>\n",
              "      <td>308.7</td>\n",
              "      <td>1408</td>\n",
              "      <td>40.0</td>\n",
              "      <td>9</td>\n",
              "      <td>0</td>\n",
              "      <td>0</td>\n",
              "      <td>0</td>\n",
              "      <td>0</td>\n",
              "      <td>0</td>\n",
              "      <td>0</td>\n",
              "    </tr>\n",
              "  </tbody>\n",
              "</table>\n",
              "</div>\n",
              "      <button class=\"colab-df-convert\" onclick=\"convertToInteractive('df-000f4ad2-6495-4b0a-bd6c-cdf0b0af1892')\"\n",
              "              title=\"Convert this dataframe to an interactive table.\"\n",
              "              style=\"display:none;\">\n",
              "        \n",
              "  <svg xmlns=\"http://www.w3.org/2000/svg\" height=\"24px\"viewBox=\"0 0 24 24\"\n",
              "       width=\"24px\">\n",
              "    <path d=\"M0 0h24v24H0V0z\" fill=\"none\"/>\n",
              "    <path d=\"M18.56 5.44l.94 2.06.94-2.06 2.06-.94-2.06-.94-.94-2.06-.94 2.06-2.06.94zm-11 1L8.5 8.5l.94-2.06 2.06-.94-2.06-.94L8.5 2.5l-.94 2.06-2.06.94zm10 10l.94 2.06.94-2.06 2.06-.94-2.06-.94-.94-2.06-.94 2.06-2.06.94z\"/><path d=\"M17.41 7.96l-1.37-1.37c-.4-.4-.92-.59-1.43-.59-.52 0-1.04.2-1.43.59L10.3 9.45l-7.72 7.72c-.78.78-.78 2.05 0 2.83L4 21.41c.39.39.9.59 1.41.59.51 0 1.02-.2 1.41-.59l7.78-7.78 2.81-2.81c.8-.78.8-2.07 0-2.86zM5.41 20L4 18.59l7.72-7.72 1.47 1.35L5.41 20z\"/>\n",
              "  </svg>\n",
              "      </button>\n",
              "      \n",
              "  <style>\n",
              "    .colab-df-container {\n",
              "      display:flex;\n",
              "      flex-wrap:wrap;\n",
              "      gap: 12px;\n",
              "    }\n",
              "\n",
              "    .colab-df-convert {\n",
              "      background-color: #E8F0FE;\n",
              "      border: none;\n",
              "      border-radius: 50%;\n",
              "      cursor: pointer;\n",
              "      display: none;\n",
              "      fill: #1967D2;\n",
              "      height: 32px;\n",
              "      padding: 0 0 0 0;\n",
              "      width: 32px;\n",
              "    }\n",
              "\n",
              "    .colab-df-convert:hover {\n",
              "      background-color: #E2EBFA;\n",
              "      box-shadow: 0px 1px 2px rgba(60, 64, 67, 0.3), 0px 1px 3px 1px rgba(60, 64, 67, 0.15);\n",
              "      fill: #174EA6;\n",
              "    }\n",
              "\n",
              "    [theme=dark] .colab-df-convert {\n",
              "      background-color: #3B4455;\n",
              "      fill: #D2E3FC;\n",
              "    }\n",
              "\n",
              "    [theme=dark] .colab-df-convert:hover {\n",
              "      background-color: #434B5C;\n",
              "      box-shadow: 0px 1px 3px 1px rgba(0, 0, 0, 0.15);\n",
              "      filter: drop-shadow(0px 1px 2px rgba(0, 0, 0, 0.3));\n",
              "      fill: #FFFFFF;\n",
              "    }\n",
              "  </style>\n",
              "\n",
              "      <script>\n",
              "        const buttonEl =\n",
              "          document.querySelector('#df-000f4ad2-6495-4b0a-bd6c-cdf0b0af1892 button.colab-df-convert');\n",
              "        buttonEl.style.display =\n",
              "          google.colab.kernel.accessAllowed ? 'block' : 'none';\n",
              "\n",
              "        async function convertToInteractive(key) {\n",
              "          const element = document.querySelector('#df-000f4ad2-6495-4b0a-bd6c-cdf0b0af1892');\n",
              "          const dataTable =\n",
              "            await google.colab.kernel.invokeFunction('convertToInteractive',\n",
              "                                                     [key], {});\n",
              "          if (!dataTable) return;\n",
              "\n",
              "          const docLinkHtml = 'Like what you see? Visit the ' +\n",
              "            '<a target=\"_blank\" href=https://colab.research.google.com/notebooks/data_table.ipynb>data table notebook</a>'\n",
              "            + ' to learn more about interactive tables.';\n",
              "          element.innerHTML = '';\n",
              "          dataTable['output_type'] = 'display_data';\n",
              "          await google.colab.output.renderOutput(dataTable, element);\n",
              "          const docLink = document.createElement('div');\n",
              "          docLink.innerHTML = docLinkHtml;\n",
              "          element.appendChild(docLink);\n",
              "        }\n",
              "      </script>\n",
              "    </div>\n",
              "  </div>\n",
              "  "
            ]
          },
          "metadata": {},
          "execution_count": 5
        }
      ]
    },
    {
      "cell_type": "markdown",
      "source": [
        "Determine dataframe dimensions"
      ],
      "metadata": {
        "id": "8lR-KksBE1Gt"
      }
    },
    {
      "cell_type": "code",
      "source": [
        "raw_data.shape"
      ],
      "metadata": {
        "colab": {
          "base_uri": "https://localhost:8080/"
        },
        "id": "pGwW4yx8EuI-",
        "outputId": "5c507efd-e8d2-4630-b14b-9b433c536254"
      },
      "execution_count": 6,
      "outputs": [
        {
          "output_type": "execute_result",
          "data": {
            "text/plain": [
              "(10000, 14)"
            ]
          },
          "metadata": {},
          "execution_count": 6
        }
      ]
    },
    {
      "cell_type": "markdown",
      "source": [
        "Determine the unique values in each column, including the ID columns. This will help identify if there are duplicate values which may affect prediction. "
      ],
      "metadata": {
        "id": "AWCcsk4-DPXs"
      }
    },
    {
      "cell_type": "code",
      "source": [
        "raw_data.nunique()"
      ],
      "metadata": {
        "colab": {
          "base_uri": "https://localhost:8080/"
        },
        "id": "-SVo5vMtDN_o",
        "outputId": "359d0785-5d1d-45e2-87ed-1af4e31b1a3b"
      },
      "execution_count": 7,
      "outputs": [
        {
          "output_type": "execute_result",
          "data": {
            "text/plain": [
              "UDI                        10000\n",
              "Product ID                 10000\n",
              "Type                           3\n",
              "Air temperature [K]           93\n",
              "Process temperature [K]       82\n",
              "Rotational speed [rpm]       941\n",
              "Torque [Nm]                  577\n",
              "Tool wear [min]              246\n",
              "Machine failure                2\n",
              "TWF                            2\n",
              "HDF                            2\n",
              "PWF                            2\n",
              "OSF                            2\n",
              "RNF                            2\n",
              "dtype: int64"
            ]
          },
          "metadata": {},
          "execution_count": 7
        }
      ]
    },
    {
      "cell_type": "markdown",
      "source": [
        "Since the UDI and Product ID have 10000 unique values, which is equivalent to the total number of rows or observations in the dataset, there are no duplicate values in the dataset. To further ensure that there are no duplicated values, their sum can be detemined. "
      ],
      "metadata": {
        "id": "XG2P3d6qMhWW"
      }
    },
    {
      "cell_type": "code",
      "source": [
        "print(raw_data.duplicated().sum())"
      ],
      "metadata": {
        "colab": {
          "base_uri": "https://localhost:8080/"
        },
        "id": "L9Dj-3xPNg9u",
        "outputId": "e82b931e-c53b-4f4e-e550-72b2427649f0"
      },
      "execution_count": 8,
      "outputs": [
        {
          "output_type": "stream",
          "name": "stdout",
          "text": [
            "0\n"
          ]
        }
      ]
    },
    {
      "cell_type": "markdown",
      "source": [
        "To begin the data preparation process, missing values need to be handled. Therefore, it is important to determine their sum."
      ],
      "metadata": {
        "id": "XoWFJbgeFI0f"
      }
    },
    {
      "cell_type": "code",
      "source": [
        "raw_data.isna().sum()"
      ],
      "metadata": {
        "colab": {
          "base_uri": "https://localhost:8080/"
        },
        "id": "fw4u7bbZFym7",
        "outputId": "a1f14d09-09eb-4101-b2ac-0b52e239e441"
      },
      "execution_count": 9,
      "outputs": [
        {
          "output_type": "execute_result",
          "data": {
            "text/plain": [
              "UDI                        0\n",
              "Product ID                 0\n",
              "Type                       0\n",
              "Air temperature [K]        0\n",
              "Process temperature [K]    0\n",
              "Rotational speed [rpm]     0\n",
              "Torque [Nm]                0\n",
              "Tool wear [min]            0\n",
              "Machine failure            0\n",
              "TWF                        0\n",
              "HDF                        0\n",
              "PWF                        0\n",
              "OSF                        0\n",
              "RNF                        0\n",
              "dtype: int64"
            ]
          },
          "metadata": {},
          "execution_count": 9
        }
      ]
    },
    {
      "cell_type": "markdown",
      "source": [
        "To further ensure that there are no missing values, the dataframe can be searched for ? values which are missing values that are labeled with a question mark. These can be replaced with nan."
      ],
      "metadata": {
        "id": "Fl2sfVNXJUDY"
      }
    },
    {
      "cell_type": "code",
      "source": [
        "raw_data.replace(\"?\",np.nan,inplace=True)\n",
        "raw_data.isna().sum()"
      ],
      "metadata": {
        "colab": {
          "base_uri": "https://localhost:8080/"
        },
        "id": "It9APH8AJm3-",
        "outputId": "ac83b00d-9db3-47a6-8229-db6aa2decb48"
      },
      "execution_count": 10,
      "outputs": [
        {
          "output_type": "execute_result",
          "data": {
            "text/plain": [
              "UDI                        0\n",
              "Product ID                 0\n",
              "Type                       0\n",
              "Air temperature [K]        0\n",
              "Process temperature [K]    0\n",
              "Rotational speed [rpm]     0\n",
              "Torque [Nm]                0\n",
              "Tool wear [min]            0\n",
              "Machine failure            0\n",
              "TWF                        0\n",
              "HDF                        0\n",
              "PWF                        0\n",
              "OSF                        0\n",
              "RNF                        0\n",
              "dtype: int64"
            ]
          },
          "metadata": {},
          "execution_count": 10
        }
      ]
    },
    {
      "cell_type": "markdown",
      "source": [
        "As seen, the sum of the missing values for all the columns is 0. Therefore, no imputations or row dropping are needed. Next, some statistics and relationships for the values in the dataframe can be determined."
      ],
      "metadata": {
        "id": "PhPQZ06gGM3t"
      }
    },
    {
      "cell_type": "code",
      "source": [
        "raw_data.info()"
      ],
      "metadata": {
        "colab": {
          "base_uri": "https://localhost:8080/"
        },
        "id": "g-B5CjJVF7V7",
        "outputId": "f7bbe22f-828f-4b4e-99b8-54f276f30f9a"
      },
      "execution_count": 11,
      "outputs": [
        {
          "output_type": "stream",
          "name": "stdout",
          "text": [
            "<class 'pandas.core.frame.DataFrame'>\n",
            "RangeIndex: 10000 entries, 0 to 9999\n",
            "Data columns (total 14 columns):\n",
            " #   Column                   Non-Null Count  Dtype  \n",
            "---  ------                   --------------  -----  \n",
            " 0   UDI                      10000 non-null  int64  \n",
            " 1   Product ID               10000 non-null  object \n",
            " 2   Type                     10000 non-null  object \n",
            " 3   Air temperature [K]      10000 non-null  float64\n",
            " 4   Process temperature [K]  10000 non-null  float64\n",
            " 5   Rotational speed [rpm]   10000 non-null  int64  \n",
            " 6   Torque [Nm]              10000 non-null  float64\n",
            " 7   Tool wear [min]          10000 non-null  int64  \n",
            " 8   Machine failure          10000 non-null  int64  \n",
            " 9   TWF                      10000 non-null  int64  \n",
            " 10  HDF                      10000 non-null  int64  \n",
            " 11  PWF                      10000 non-null  int64  \n",
            " 12  OSF                      10000 non-null  int64  \n",
            " 13  RNF                      10000 non-null  int64  \n",
            "dtypes: float64(3), int64(9), object(2)\n",
            "memory usage: 1.1+ MB\n"
          ]
        }
      ]
    },
    {
      "cell_type": "markdown",
      "source": [
        "It can be seen that the feature types for the dataframe enteries all numerical (float64 and int64) with the exception of the Product ID and Type. These two values along with the UDI will have no significance on the model as they are unique identifier or related to the unique identifiers for each machine. Therefore, the UDI, Product ID, and Type columns are dropped."
      ],
      "metadata": {
        "id": "5yfHhDiIHjYW"
      }
    },
    {
      "cell_type": "code",
      "source": [
        "processed_data = raw_data.copy()"
      ],
      "metadata": {
        "id": "AfDRU8BEN3Am"
      },
      "execution_count": 12,
      "outputs": []
    },
    {
      "cell_type": "code",
      "source": [
        "processed_data.drop(['UDI','Product ID','Type'],axis=1,inplace=True)"
      ],
      "metadata": {
        "id": "F3pA3PtSHfXw"
      },
      "execution_count": 13,
      "outputs": []
    },
    {
      "cell_type": "code",
      "source": [
        "print(processed_data.columns)"
      ],
      "metadata": {
        "colab": {
          "base_uri": "https://localhost:8080/"
        },
        "id": "e6TxM13BHah9",
        "outputId": "c2496bda-5d52-402c-87a8-7122802cec78"
      },
      "execution_count": 14,
      "outputs": [
        {
          "output_type": "stream",
          "name": "stdout",
          "text": [
            "Index(['Air temperature [K]', 'Process temperature [K]',\n",
            "       'Rotational speed [rpm]', 'Torque [Nm]', 'Tool wear [min]',\n",
            "       'Machine failure', 'TWF', 'HDF', 'PWF', 'OSF', 'RNF'],\n",
            "      dtype='object')\n"
          ]
        }
      ]
    },
    {
      "cell_type": "markdown",
      "source": [
        "Now that the irrelevant features are dropped, it is important to check for skew within the data. To do that, the describe function is used."
      ],
      "metadata": {
        "id": "vpgmrTXVkDSu"
      }
    },
    {
      "cell_type": "code",
      "source": [
        "processed_data.describe(include='all')"
      ],
      "metadata": {
        "colab": {
          "base_uri": "https://localhost:8080/",
          "height": 379
        },
        "id": "IucaVaPQC6hy",
        "outputId": "8050416e-7ba1-4ab9-859a-5e8c9a40bd74"
      },
      "execution_count": 15,
      "outputs": [
        {
          "output_type": "execute_result",
          "data": {
            "text/plain": [
              "       Air temperature [K]  Process temperature [K]  Rotational speed [rpm]  \\\n",
              "count         10000.000000             10000.000000            10000.000000   \n",
              "mean            300.004930               310.005560             1538.776100   \n",
              "std               2.000259                 1.483734              179.284096   \n",
              "min             295.300000               305.700000             1168.000000   \n",
              "25%             298.300000               308.800000             1423.000000   \n",
              "50%             300.100000               310.100000             1503.000000   \n",
              "75%             301.500000               311.100000             1612.000000   \n",
              "max             304.500000               313.800000             2886.000000   \n",
              "\n",
              "        Torque [Nm]  Tool wear [min]  Machine failure           TWF  \\\n",
              "count  10000.000000     10000.000000     10000.000000  10000.000000   \n",
              "mean      39.986910       107.951000         0.033900      0.004600   \n",
              "std        9.968934        63.654147         0.180981      0.067671   \n",
              "min        3.800000         0.000000         0.000000      0.000000   \n",
              "25%       33.200000        53.000000         0.000000      0.000000   \n",
              "50%       40.100000       108.000000         0.000000      0.000000   \n",
              "75%       46.800000       162.000000         0.000000      0.000000   \n",
              "max       76.600000       253.000000         1.000000      1.000000   \n",
              "\n",
              "                HDF           PWF           OSF          RNF  \n",
              "count  10000.000000  10000.000000  10000.000000  10000.00000  \n",
              "mean       0.011500      0.009500      0.009800      0.00190  \n",
              "std        0.106625      0.097009      0.098514      0.04355  \n",
              "min        0.000000      0.000000      0.000000      0.00000  \n",
              "25%        0.000000      0.000000      0.000000      0.00000  \n",
              "50%        0.000000      0.000000      0.000000      0.00000  \n",
              "75%        0.000000      0.000000      0.000000      0.00000  \n",
              "max        1.000000      1.000000      1.000000      1.00000  "
            ],
            "text/html": [
              "\n",
              "  <div id=\"df-89d0f356-5843-450e-aeef-d3ee5d75ff66\">\n",
              "    <div class=\"colab-df-container\">\n",
              "      <div>\n",
              "<style scoped>\n",
              "    .dataframe tbody tr th:only-of-type {\n",
              "        vertical-align: middle;\n",
              "    }\n",
              "\n",
              "    .dataframe tbody tr th {\n",
              "        vertical-align: top;\n",
              "    }\n",
              "\n",
              "    .dataframe thead th {\n",
              "        text-align: right;\n",
              "    }\n",
              "</style>\n",
              "<table border=\"1\" class=\"dataframe\">\n",
              "  <thead>\n",
              "    <tr style=\"text-align: right;\">\n",
              "      <th></th>\n",
              "      <th>Air temperature [K]</th>\n",
              "      <th>Process temperature [K]</th>\n",
              "      <th>Rotational speed [rpm]</th>\n",
              "      <th>Torque [Nm]</th>\n",
              "      <th>Tool wear [min]</th>\n",
              "      <th>Machine failure</th>\n",
              "      <th>TWF</th>\n",
              "      <th>HDF</th>\n",
              "      <th>PWF</th>\n",
              "      <th>OSF</th>\n",
              "      <th>RNF</th>\n",
              "    </tr>\n",
              "  </thead>\n",
              "  <tbody>\n",
              "    <tr>\n",
              "      <th>count</th>\n",
              "      <td>10000.000000</td>\n",
              "      <td>10000.000000</td>\n",
              "      <td>10000.000000</td>\n",
              "      <td>10000.000000</td>\n",
              "      <td>10000.000000</td>\n",
              "      <td>10000.000000</td>\n",
              "      <td>10000.000000</td>\n",
              "      <td>10000.000000</td>\n",
              "      <td>10000.000000</td>\n",
              "      <td>10000.000000</td>\n",
              "      <td>10000.00000</td>\n",
              "    </tr>\n",
              "    <tr>\n",
              "      <th>mean</th>\n",
              "      <td>300.004930</td>\n",
              "      <td>310.005560</td>\n",
              "      <td>1538.776100</td>\n",
              "      <td>39.986910</td>\n",
              "      <td>107.951000</td>\n",
              "      <td>0.033900</td>\n",
              "      <td>0.004600</td>\n",
              "      <td>0.011500</td>\n",
              "      <td>0.009500</td>\n",
              "      <td>0.009800</td>\n",
              "      <td>0.00190</td>\n",
              "    </tr>\n",
              "    <tr>\n",
              "      <th>std</th>\n",
              "      <td>2.000259</td>\n",
              "      <td>1.483734</td>\n",
              "      <td>179.284096</td>\n",
              "      <td>9.968934</td>\n",
              "      <td>63.654147</td>\n",
              "      <td>0.180981</td>\n",
              "      <td>0.067671</td>\n",
              "      <td>0.106625</td>\n",
              "      <td>0.097009</td>\n",
              "      <td>0.098514</td>\n",
              "      <td>0.04355</td>\n",
              "    </tr>\n",
              "    <tr>\n",
              "      <th>min</th>\n",
              "      <td>295.300000</td>\n",
              "      <td>305.700000</td>\n",
              "      <td>1168.000000</td>\n",
              "      <td>3.800000</td>\n",
              "      <td>0.000000</td>\n",
              "      <td>0.000000</td>\n",
              "      <td>0.000000</td>\n",
              "      <td>0.000000</td>\n",
              "      <td>0.000000</td>\n",
              "      <td>0.000000</td>\n",
              "      <td>0.00000</td>\n",
              "    </tr>\n",
              "    <tr>\n",
              "      <th>25%</th>\n",
              "      <td>298.300000</td>\n",
              "      <td>308.800000</td>\n",
              "      <td>1423.000000</td>\n",
              "      <td>33.200000</td>\n",
              "      <td>53.000000</td>\n",
              "      <td>0.000000</td>\n",
              "      <td>0.000000</td>\n",
              "      <td>0.000000</td>\n",
              "      <td>0.000000</td>\n",
              "      <td>0.000000</td>\n",
              "      <td>0.00000</td>\n",
              "    </tr>\n",
              "    <tr>\n",
              "      <th>50%</th>\n",
              "      <td>300.100000</td>\n",
              "      <td>310.100000</td>\n",
              "      <td>1503.000000</td>\n",
              "      <td>40.100000</td>\n",
              "      <td>108.000000</td>\n",
              "      <td>0.000000</td>\n",
              "      <td>0.000000</td>\n",
              "      <td>0.000000</td>\n",
              "      <td>0.000000</td>\n",
              "      <td>0.000000</td>\n",
              "      <td>0.00000</td>\n",
              "    </tr>\n",
              "    <tr>\n",
              "      <th>75%</th>\n",
              "      <td>301.500000</td>\n",
              "      <td>311.100000</td>\n",
              "      <td>1612.000000</td>\n",
              "      <td>46.800000</td>\n",
              "      <td>162.000000</td>\n",
              "      <td>0.000000</td>\n",
              "      <td>0.000000</td>\n",
              "      <td>0.000000</td>\n",
              "      <td>0.000000</td>\n",
              "      <td>0.000000</td>\n",
              "      <td>0.00000</td>\n",
              "    </tr>\n",
              "    <tr>\n",
              "      <th>max</th>\n",
              "      <td>304.500000</td>\n",
              "      <td>313.800000</td>\n",
              "      <td>2886.000000</td>\n",
              "      <td>76.600000</td>\n",
              "      <td>253.000000</td>\n",
              "      <td>1.000000</td>\n",
              "      <td>1.000000</td>\n",
              "      <td>1.000000</td>\n",
              "      <td>1.000000</td>\n",
              "      <td>1.000000</td>\n",
              "      <td>1.00000</td>\n",
              "    </tr>\n",
              "  </tbody>\n",
              "</table>\n",
              "</div>\n",
              "      <button class=\"colab-df-convert\" onclick=\"convertToInteractive('df-89d0f356-5843-450e-aeef-d3ee5d75ff66')\"\n",
              "              title=\"Convert this dataframe to an interactive table.\"\n",
              "              style=\"display:none;\">\n",
              "        \n",
              "  <svg xmlns=\"http://www.w3.org/2000/svg\" height=\"24px\"viewBox=\"0 0 24 24\"\n",
              "       width=\"24px\">\n",
              "    <path d=\"M0 0h24v24H0V0z\" fill=\"none\"/>\n",
              "    <path d=\"M18.56 5.44l.94 2.06.94-2.06 2.06-.94-2.06-.94-.94-2.06-.94 2.06-2.06.94zm-11 1L8.5 8.5l.94-2.06 2.06-.94-2.06-.94L8.5 2.5l-.94 2.06-2.06.94zm10 10l.94 2.06.94-2.06 2.06-.94-2.06-.94-.94-2.06-.94 2.06-2.06.94z\"/><path d=\"M17.41 7.96l-1.37-1.37c-.4-.4-.92-.59-1.43-.59-.52 0-1.04.2-1.43.59L10.3 9.45l-7.72 7.72c-.78.78-.78 2.05 0 2.83L4 21.41c.39.39.9.59 1.41.59.51 0 1.02-.2 1.41-.59l7.78-7.78 2.81-2.81c.8-.78.8-2.07 0-2.86zM5.41 20L4 18.59l7.72-7.72 1.47 1.35L5.41 20z\"/>\n",
              "  </svg>\n",
              "      </button>\n",
              "      \n",
              "  <style>\n",
              "    .colab-df-container {\n",
              "      display:flex;\n",
              "      flex-wrap:wrap;\n",
              "      gap: 12px;\n",
              "    }\n",
              "\n",
              "    .colab-df-convert {\n",
              "      background-color: #E8F0FE;\n",
              "      border: none;\n",
              "      border-radius: 50%;\n",
              "      cursor: pointer;\n",
              "      display: none;\n",
              "      fill: #1967D2;\n",
              "      height: 32px;\n",
              "      padding: 0 0 0 0;\n",
              "      width: 32px;\n",
              "    }\n",
              "\n",
              "    .colab-df-convert:hover {\n",
              "      background-color: #E2EBFA;\n",
              "      box-shadow: 0px 1px 2px rgba(60, 64, 67, 0.3), 0px 1px 3px 1px rgba(60, 64, 67, 0.15);\n",
              "      fill: #174EA6;\n",
              "    }\n",
              "\n",
              "    [theme=dark] .colab-df-convert {\n",
              "      background-color: #3B4455;\n",
              "      fill: #D2E3FC;\n",
              "    }\n",
              "\n",
              "    [theme=dark] .colab-df-convert:hover {\n",
              "      background-color: #434B5C;\n",
              "      box-shadow: 0px 1px 3px 1px rgba(0, 0, 0, 0.15);\n",
              "      filter: drop-shadow(0px 1px 2px rgba(0, 0, 0, 0.3));\n",
              "      fill: #FFFFFF;\n",
              "    }\n",
              "  </style>\n",
              "\n",
              "      <script>\n",
              "        const buttonEl =\n",
              "          document.querySelector('#df-89d0f356-5843-450e-aeef-d3ee5d75ff66 button.colab-df-convert');\n",
              "        buttonEl.style.display =\n",
              "          google.colab.kernel.accessAllowed ? 'block' : 'none';\n",
              "\n",
              "        async function convertToInteractive(key) {\n",
              "          const element = document.querySelector('#df-89d0f356-5843-450e-aeef-d3ee5d75ff66');\n",
              "          const dataTable =\n",
              "            await google.colab.kernel.invokeFunction('convertToInteractive',\n",
              "                                                     [key], {});\n",
              "          if (!dataTable) return;\n",
              "\n",
              "          const docLinkHtml = 'Like what you see? Visit the ' +\n",
              "            '<a target=\"_blank\" href=https://colab.research.google.com/notebooks/data_table.ipynb>data table notebook</a>'\n",
              "            + ' to learn more about interactive tables.';\n",
              "          element.innerHTML = '';\n",
              "          dataTable['output_type'] = 'display_data';\n",
              "          await google.colab.output.renderOutput(dataTable, element);\n",
              "          const docLink = document.createElement('div');\n",
              "          docLink.innerHTML = docLinkHtml;\n",
              "          element.appendChild(docLink);\n",
              "        }\n",
              "      </script>\n",
              "    </div>\n",
              "  </div>\n",
              "  "
            ]
          },
          "metadata": {},
          "execution_count": 15
        }
      ]
    },
    {
      "cell_type": "markdown",
      "source": [
        "It can be seen that the data lies closely to one another especially for Air temperature and Process temperature which perhaps points to a balanced distribution around the mean. This is indicated by their lower standard deviation when compared to rotational speed for example. The data balance can be further explored."
      ],
      "metadata": {
        "id": "QbS5qSjPkBFh"
      }
    },
    {
      "cell_type": "code",
      "source": [
        "plt.figure(figsize=(20,40), dpi= 100)\n",
        "\n",
        "for i, column in enumerate(processed_data.columns, 1):\n",
        "    plt.subplot(9,3,i)\n",
        "    sns.distplot(processed_data[column])"
      ],
      "metadata": {
        "colab": {
          "base_uri": "https://localhost:8080/",
          "height": 1000
        },
        "id": "RFGO2kWnj8Vb",
        "outputId": "ffc469ae-d318-43fb-e6b5-32c4aded1b96"
      },
      "execution_count": 16,
      "outputs": [
        {
          "output_type": "display_data",
          "data": {
            "text/plain": [
              "<Figure size 2000x4000 with 11 Axes>"
            ],
            "image/png": "[encoded data removed]"
          },
          "metadata": {
            "needs_background": "light"
          }
        }
      ]
    },
    {
      "cell_type": "markdown",
      "source": [
        "The above distribution curves depit continuous values for the features. It can be seen that the data is are normally distributed and there is no noticeable skewness. It is also evident that the machine failure is imbalanced. To better visualize the imbalance, let's look at a count plot.\n"
      ],
      "metadata": {
        "id": "E_hxCQBIsP2q"
      }
    },
    {
      "cell_type": "code",
      "source": [
        "plt.figure(figsize=(15,10), dpi= 100)\n",
        "\n",
        "ax = sns.countplot(processed_data['Machine failure'],order=pd.value_counts(processed_data['Machine failure']).index)\n",
        "ax.bar_label(ax.containers[0], fontsize=17)\n",
        "plt.title('\\nCount Plot for Machine Failure \\n', fontsize=20)\n",
        "plt.xticks(fontsize=10,rotation=70)\n",
        "plt.yticks(fontsize=10)\n",
        "plt.show()"
      ],
      "metadata": {
        "colab": {
          "base_uri": "https://localhost:8080/",
          "height": 929
        },
        "id": "dkPrnAzZuCn9",
        "outputId": "33eccf52-0e9a-4fe2-9f81-c4ecec3ec4a0"
      },
      "execution_count": 17,
      "outputs": [
        {
          "output_type": "display_data",
          "data": {
            "text/plain": [
              "<Figure size 1500x1000 with 1 Axes>"
            ],
            "image/png": "[encoded data removed]"
          },
          "metadata": {
            "needs_background": "light"
          }
        }
      ]
    },
    {
      "cell_type": "markdown",
      "source": [
        "It can be seen that the output variable (y) is very unbalanced yielding 9661 entries indicating no failure and 339 entries indicating failure. This will be handled later using the oversampling technique."
      ],
      "metadata": {
        "id": "-k_Uk9Rbxxy9"
      }
    },
    {
      "cell_type": "markdown",
      "source": [
        "Next, it is important to determine the relationships between the features in order to determine which will have a greater significance on the prediction."
      ],
      "metadata": {
        "id": "mzqVIjfdnRvJ"
      }
    },
    {
      "cell_type": "code",
      "source": [
        "plt.figure(figsize=(15,10), dpi= 100)\n",
        "sns.heatmap(processed_data.corr(), xticklabels=processed_data.corr().columns, yticklabels=processed_data.corr().columns, cmap='RdYlGn', center=0, linewidths=0.2, annot=True)\n",
        "\n",
        "plt.title('\\nHeatmap for Machine Maintenance Features\\n', fontsize=20)\n",
        "plt.xticks(fontsize=10,rotation=70)\n",
        "plt.yticks(fontsize=10)\n",
        "plt.show()"
      ],
      "metadata": {
        "colab": {
          "base_uri": "https://localhost:8080/",
          "height": 1000
        },
        "id": "AT02RmIDg-6D",
        "outputId": "db5cbe6c-c21a-4eef-e94f-cdf4c3c3765f"
      },
      "execution_count": 18,
      "outputs": [
        {
          "output_type": "display_data",
          "data": {
            "text/plain": [
              "<Figure size 1500x1000 with 2 Axes>"
            ],
            "image/png": "[encoded data removed]"
          },
          "metadata": {
            "needs_background": "light"
          }
        }
      ]
    },
    {
      "cell_type": "markdown",
      "source": [
        "From the graph, it is seeen that Air tempreature is highly correlated with Process temperature, which is sensible since the higher a process temperature goes, the higher the air temperature will be. Additionally, it is seen that torque and rotational speed are inversely proportional. There are no significant correlations between the input features and the output."
      ],
      "metadata": {
        "id": "5T-XA60LnmuF"
      }
    },
    {
      "cell_type": "markdown",
      "source": [
        "# Data Preprocessing"
      ],
      "metadata": {
        "id": "xJGu96fK-VIp"
      }
    },
    {
      "cell_type": "markdown",
      "source": [
        "For the purpose of the analysis and since normal machine learning models and classifiers work by determining the output through how closely it lies to the features without getting affected by the distance between the outputs. It is possible to group the machine failures into one column for multiclass classification. The success instance will be indicated by 0, 'TWF', 'HDF', 'PWF', 'OSF', 'RNF' will be indicated by 1, 2, 3, 4, and 5 respectively."
      ],
      "metadata": {
        "id": "-sGFEEWp5Gd2"
      }
    },
    {
      "cell_type": "code",
      "source": [
        "processed_data_grouped = processed_data.copy()"
      ],
      "metadata": {
        "id": "pHPMpqocnmRb"
      },
      "execution_count": 19,
      "outputs": []
    },
    {
      "cell_type": "code",
      "source": [
        "processed_data_grouped['Machine failure']=0\n",
        "processed_data_grouped['Machine failure'][processed_data_grouped['TWF']==1]=1\n",
        "processed_data_grouped['Machine failure'][processed_data_grouped['HDF']==1]=2\n",
        "processed_data_grouped['Machine failure'][processed_data_grouped['PWF']==1]=3\n",
        "processed_data_grouped['Machine failure'][processed_data_grouped['OSF']==1]=4\n",
        "processed_data_grouped['Machine failure'][processed_data_grouped['RNF']==1]=5"
      ],
      "metadata": {
        "id": "jlDqMOSPeZaP"
      },
      "execution_count": 20,
      "outputs": []
    },
    {
      "cell_type": "code",
      "source": [
        "plt.figure(figsize=(15,10), dpi= 100)\n",
        "\n",
        "ax = sns.countplot(processed_data_grouped['Machine failure'],order=pd.value_counts(processed_data_grouped['Machine failure']).index)\n",
        "ax.bar_label(ax.containers[0], fontsize=17)\n",
        "plt.title('\\nCount Plot for Machine Failure after Grouping \\n', fontsize=20)\n",
        "plt.xticks(fontsize=10,rotation=70)\n",
        "plt.yticks(fontsize=10)\n",
        "plt.show()"
      ],
      "metadata": {
        "colab": {
          "base_uri": "https://localhost:8080/",
          "height": 929
        },
        "id": "rEgr6NkLd-fF",
        "outputId": "c089f77b-769c-4443-8a39-17f31bf4aa83"
      },
      "execution_count": 21,
      "outputs": [
        {
          "output_type": "display_data",
          "data": {
            "text/plain": [
              "<Figure size 1500x1000 with 1 Axes>"
            ],
            "image/png": "[encoded data removed]"
          },
          "metadata": {
            "needs_background": "light"
          }
        }
      ]
    },
    {
      "cell_type": "markdown",
      "source": [
        "The graph shows the failures and helps in understing them better. However, it should be noted that the number of successes has decreased, perhaps due to some mislabelling in the dataset for the failures. Let's take a look at the mislabelliing further."
      ],
      "metadata": {
        "id": "BNL2NVrA8ELW"
      }
    },
    {
      "cell_type": "code",
      "source": [
        "mislabelled = processed_data.loc[(processed_data['Machine failure'] == 0) & ((processed_data['TWF'] + processed_data['HDF'] + processed_data['PWF'] + processed_data['OSF'] + processed_data['RNF']) > 0)]"
      ],
      "metadata": {
        "id": "8qRFxrIVVNfB"
      },
      "execution_count": 22,
      "outputs": []
    },
    {
      "cell_type": "code",
      "source": [
        "mislabelled.head(19)"
      ],
      "metadata": {
        "colab": {
          "base_uri": "https://localhost:8080/",
          "height": 614
        },
        "id": "GfLexAZZcMPC",
        "outputId": "17964336-b20f-40d2-8f8b-e2c17f321bd1"
      },
      "execution_count": 23,
      "outputs": [
        {
          "output_type": "execute_result",
          "data": {
            "text/plain": [
              "      Air temperature [K]  Process temperature [K]  Rotational speed [rpm]  \\\n",
              "1221                297.0                    308.3                    1399   \n",
              "1302                298.6                    309.8                    1505   \n",
              "1748                298.4                    307.7                    1626   \n",
              "2072                299.6                    309.5                    1570   \n",
              "2559                299.3                    309.0                    1447   \n",
              "3065                300.1                    309.2                    1687   \n",
              "3452                301.6                    310.5                    1602   \n",
              "5471                302.7                    312.3                    1346   \n",
              "5489                302.6                    312.1                    1499   \n",
              "5495                302.9                    312.5                    1357   \n",
              "5509                302.8                    312.2                    1509   \n",
              "5553                302.5                    311.9                    1306   \n",
              "5639                302.6                    312.1                    1668   \n",
              "6091                300.9                    310.7                    1412   \n",
              "6913                300.8                    311.2                    1481   \n",
              "6960                300.7                    311.0                    1413   \n",
              "7488                300.3                    311.7                    1545   \n",
              "7868                300.4                    311.9                    1438   \n",
              "\n",
              "      Torque [Nm]  Tool wear [min]  Machine failure  TWF  HDF  PWF  OSF  RNF  \n",
              "1221         46.4              132                0    0    0    0    0    1  \n",
              "1302         45.7              144                0    0    0    0    0    1  \n",
              "1748         31.1              166                0    0    0    0    0    1  \n",
              "2072         35.5              189                0    0    0    0    0    1  \n",
              "2559         50.4              140                0    0    0    0    0    1  \n",
              "3065         27.7               95                0    0    0    0    0    1  \n",
              "3452         32.3                2                0    0    0    0    0    1  \n",
              "5471         61.2              170                0    0    0    0    0    1  \n",
              "5489         35.0              215                0    0    0    0    0    1  \n",
              "5495         55.0               12                0    0    0    0    0    1  \n",
              "5509         36.5               52                0    0    0    0    0    1  \n",
              "5553         59.7              172                0    0    0    0    0    1  \n",
              "5639         28.7              180                0    0    0    0    0    1  \n",
              "6091         57.5               16                0    0    0    0    0    1  \n",
              "6913         38.5              181                0    0    0    0    0    1  \n",
              "6960         52.0               91                0    0    0    0    0    1  \n",
              "7488         43.5              160                0    0    0    0    0    1  \n",
              "7868         46.7               41                0    0    0    0    0    1  "
            ],
            "text/html": [
              "\n",
              "  <div id=\"df-ad1851fe-d010-419a-bee5-302d0b997b40\">\n",
              "    <div class=\"colab-df-container\">\n",
              "      <div>\n",
              "<style scoped>\n",
              "    .dataframe tbody tr th:only-of-type {\n",
              "        vertical-align: middle;\n",
              "    }\n",
              "\n",
              "    .dataframe tbody tr th {\n",
              "        vertical-align: top;\n",
              "    }\n",
              "\n",
              "    .dataframe thead th {\n",
              "        text-align: right;\n",
              "    }\n",
              "</style>\n",
              "<table border=\"1\" class=\"dataframe\">\n",
              "  <thead>\n",
              "    <tr style=\"text-align: right;\">\n",
              "      <th></th>\n",
              "      <th>Air temperature [K]</th>\n",
              "      <th>Process temperature [K]</th>\n",
              "      <th>Rotational speed [rpm]</th>\n",
              "      <th>Torque [Nm]</th>\n",
              "      <th>Tool wear [min]</th>\n",
              "      <th>Machine failure</th>\n",
              "      <th>TWF</th>\n",
              "      <th>HDF</th>\n",
              "      <th>PWF</th>\n",
              "      <th>OSF</th>\n",
              "      <th>RNF</th>\n",
              "    </tr>\n",
              "  </thead>\n",
              "  <tbody>\n",
              "    <tr>\n",
              "      <th>1221</th>\n",
              "      <td>297.0</td>\n",
              "      <td>308.3</td>\n",
              "      <td>1399</td>\n",
              "      <td>46.4</td>\n",
              "      <td>132</td>\n",
              "      <td>0</td>\n",
              "      <td>0</td>\n",
              "      <td>0</td>\n",
              "      <td>0</td>\n",
              "      <td>0</td>\n",
              "      <td>1</td>\n",
              "    </tr>\n",
              "    <tr>\n",
              "      <th>1302</th>\n",
              "      <td>298.6</td>\n",
              "      <td>309.8</td>\n",
              "      <td>1505</td>\n",
              "      <td>45.7</td>\n",
              "      <td>144</td>\n",
              "      <td>0</td>\n",
              "      <td>0</td>\n",
              "      <td>0</td>\n",
              "      <td>0</td>\n",
              "      <td>0</td>\n",
              "      <td>1</td>\n",
              "    </tr>\n",
              "    <tr>\n",
              "      <th>1748</th>\n",
              "      <td>298.4</td>\n",
              "      <td>307.7</td>\n",
              "      <td>1626</td>\n",
              "      <td>31.1</td>\n",
              "      <td>166</td>\n",
              "      <td>0</td>\n",
              "      <td>0</td>\n",
              "      <td>0</td>\n",
              "      <td>0</td>\n",
              "      <td>0</td>\n",
              "      <td>1</td>\n",
              "    </tr>\n",
              "    <tr>\n",
              "      <th>2072</th>\n",
              "      <td>299.6</td>\n",
              "      <td>309.5</td>\n",
              "      <td>1570</td>\n",
              "      <td>35.5</td>\n",
              "      <td>189</td>\n",
              "      <td>0</td>\n",
              "      <td>0</td>\n",
              "      <td>0</td>\n",
              "      <td>0</td>\n",
              "      <td>0</td>\n",
              "      <td>1</td>\n",
              "    </tr>\n",
              "    <tr>\n",
              "      <th>2559</th>\n",
              "      <td>299.3</td>\n",
              "      <td>309.0</td>\n",
              "      <td>1447</td>\n",
              "      <td>50.4</td>\n",
              "      <td>140</td>\n",
              "      <td>0</td>\n",
              "      <td>0</td>\n",
              "      <td>0</td>\n",
              "      <td>0</td>\n",
              "      <td>0</td>\n",
              "      <td>1</td>\n",
              "    </tr>\n",
              "    <tr>\n",
              "      <th>3065</th>\n",
              "      <td>300.1</td>\n",
              "      <td>309.2</td>\n",
              "      <td>1687</td>\n",
              "      <td>27.7</td>\n",
              "      <td>95</td>\n",
              "      <td>0</td>\n",
              "      <td>0</td>\n",
              "      <td>0</td>\n",
              "      <td>0</td>\n",
              "      <td>0</td>\n",
              "      <td>1</td>\n",
              "    </tr>\n",
              "    <tr>\n",
              "      <th>3452</th>\n",
              "      <td>301.6</td>\n",
              "      <td>310.5</td>\n",
              "      <td>1602</td>\n",
              "      <td>32.3</td>\n",
              "      <td>2</td>\n",
              "      <td>0</td>\n",
              "      <td>0</td>\n",
              "      <td>0</td>\n",
              "      <td>0</td>\n",
              "      <td>0</td>\n",
              "      <td>1</td>\n",
              "    </tr>\n",
              "    <tr>\n",
              "      <th>5471</th>\n",
              "      <td>302.7</td>\n",
              "      <td>312.3</td>\n",
              "      <td>1346</td>\n",
              "      <td>61.2</td>\n",
              "      <td>170</td>\n",
              "      <td>0</td>\n",
              "      <td>0</td>\n",
              "      <td>0</td>\n",
              "      <td>0</td>\n",
              "      <td>0</td>\n",
              "      <td>1</td>\n",
              "    </tr>\n",
              "    <tr>\n",
              "      <th>5489</th>\n",
              "      <td>302.6</td>\n",
              "      <td>312.1</td>\n",
              "      <td>1499</td>\n",
              "      <td>35.0</td>\n",
              "      <td>215</td>\n",
              "      <td>0</td>\n",
              "      <td>0</td>\n",
              "      <td>0</td>\n",
              "      <td>0</td>\n",
              "      <td>0</td>\n",
              "      <td>1</td>\n",
              "    </tr>\n",
              "    <tr>\n",
              "      <th>5495</th>\n",
              "      <td>302.9</td>\n",
              "      <td>312.5</td>\n",
              "      <td>1357</td>\n",
              "      <td>55.0</td>\n",
              "      <td>12</td>\n",
              "      <td>0</td>\n",
              "      <td>0</td>\n",
              "      <td>0</td>\n",
              "      <td>0</td>\n",
              "      <td>0</td>\n",
              "      <td>1</td>\n",
              "    </tr>\n",
              "    <tr>\n",
              "      <th>5509</th>\n",
              "      <td>302.8</td>\n",
              "      <td>312.2</td>\n",
              "      <td>1509</td>\n",
              "      <td>36.5</td>\n",
              "      <td>52</td>\n",
              "      <td>0</td>\n",
              "      <td>0</td>\n",
              "      <td>0</td>\n",
              "      <td>0</td>\n",
              "      <td>0</td>\n",
              "      <td>1</td>\n",
              "    </tr>\n",
              "    <tr>\n",
              "      <th>5553</th>\n",
              "      <td>302.5</td>\n",
              "      <td>311.9</td>\n",
              "      <td>1306</td>\n",
              "      <td>59.7</td>\n",
              "      <td>172</td>\n",
              "      <td>0</td>\n",
              "      <td>0</td>\n",
              "      <td>0</td>\n",
              "      <td>0</td>\n",
              "      <td>0</td>\n",
              "      <td>1</td>\n",
              "    </tr>\n",
              "    <tr>\n",
              "      <th>5639</th>\n",
              "      <td>302.6</td>\n",
              "      <td>312.1</td>\n",
              "      <td>1668</td>\n",
              "      <td>28.7</td>\n",
              "      <td>180</td>\n",
              "      <td>0</td>\n",
              "      <td>0</td>\n",
              "      <td>0</td>\n",
              "      <td>0</td>\n",
              "      <td>0</td>\n",
              "      <td>1</td>\n",
              "    </tr>\n",
              "    <tr>\n",
              "      <th>6091</th>\n",
              "      <td>300.9</td>\n",
              "      <td>310.7</td>\n",
              "      <td>1412</td>\n",
              "      <td>57.5</td>\n",
              "      <td>16</td>\n",
              "      <td>0</td>\n",
              "      <td>0</td>\n",
              "      <td>0</td>\n",
              "      <td>0</td>\n",
              "      <td>0</td>\n",
              "      <td>1</td>\n",
              "    </tr>\n",
              "    <tr>\n",
              "      <th>6913</th>\n",
              "      <td>300.8</td>\n",
              "      <td>311.2</td>\n",
              "      <td>1481</td>\n",
              "      <td>38.5</td>\n",
              "      <td>181</td>\n",
              "      <td>0</td>\n",
              "      <td>0</td>\n",
              "      <td>0</td>\n",
              "      <td>0</td>\n",
              "      <td>0</td>\n",
              "      <td>1</td>\n",
              "    </tr>\n",
              "    <tr>\n",
              "      <th>6960</th>\n",
              "      <td>300.7</td>\n",
              "      <td>311.0</td>\n",
              "      <td>1413</td>\n",
              "      <td>52.0</td>\n",
              "      <td>91</td>\n",
              "      <td>0</td>\n",
              "      <td>0</td>\n",
              "      <td>0</td>\n",
              "      <td>0</td>\n",
              "      <td>0</td>\n",
              "      <td>1</td>\n",
              "    </tr>\n",
              "    <tr>\n",
              "      <th>7488</th>\n",
              "      <td>300.3</td>\n",
              "      <td>311.7</td>\n",
              "      <td>1545</td>\n",
              "      <td>43.5</td>\n",
              "      <td>160</td>\n",
              "      <td>0</td>\n",
              "      <td>0</td>\n",
              "      <td>0</td>\n",
              "      <td>0</td>\n",
              "      <td>0</td>\n",
              "      <td>1</td>\n",
              "    </tr>\n",
              "    <tr>\n",
              "      <th>7868</th>\n",
              "      <td>300.4</td>\n",
              "      <td>311.9</td>\n",
              "      <td>1438</td>\n",
              "      <td>46.7</td>\n",
              "      <td>41</td>\n",
              "      <td>0</td>\n",
              "      <td>0</td>\n",
              "      <td>0</td>\n",
              "      <td>0</td>\n",
              "      <td>0</td>\n",
              "      <td>1</td>\n",
              "    </tr>\n",
              "  </tbody>\n",
              "</table>\n",
              "</div>\n",
              "      <button class=\"colab-df-convert\" onclick=\"convertToInteractive('df-ad1851fe-d010-419a-bee5-302d0b997b40')\"\n",
              "              title=\"Convert this dataframe to an interactive table.\"\n",
              "              style=\"display:none;\">\n",
              "        \n",
              "  <svg xmlns=\"http://www.w3.org/2000/svg\" height=\"24px\"viewBox=\"0 0 24 24\"\n",
              "       width=\"24px\">\n",
              "    <path d=\"M0 0h24v24H0V0z\" fill=\"none\"/>\n",
              "    <path d=\"M18.56 5.44l.94 2.06.94-2.06 2.06-.94-2.06-.94-.94-2.06-.94 2.06-2.06.94zm-11 1L8.5 8.5l.94-2.06 2.06-.94-2.06-.94L8.5 2.5l-.94 2.06-2.06.94zm10 10l.94 2.06.94-2.06 2.06-.94-2.06-.94-.94-2.06-.94 2.06-2.06.94z\"/><path d=\"M17.41 7.96l-1.37-1.37c-.4-.4-.92-.59-1.43-.59-.52 0-1.04.2-1.43.59L10.3 9.45l-7.72 7.72c-.78.78-.78 2.05 0 2.83L4 21.41c.39.39.9.59 1.41.59.51 0 1.02-.2 1.41-.59l7.78-7.78 2.81-2.81c.8-.78.8-2.07 0-2.86zM5.41 20L4 18.59l7.72-7.72 1.47 1.35L5.41 20z\"/>\n",
              "  </svg>\n",
              "      </button>\n",
              "      \n",
              "  <style>\n",
              "    .colab-df-container {\n",
              "      display:flex;\n",
              "      flex-wrap:wrap;\n",
              "      gap: 12px;\n",
              "    }\n",
              "\n",
              "    .colab-df-convert {\n",
              "      background-color: #E8F0FE;\n",
              "      border: none;\n",
              "      border-radius: 50%;\n",
              "      cursor: pointer;\n",
              "      display: none;\n",
              "      fill: #1967D2;\n",
              "      height: 32px;\n",
              "      padding: 0 0 0 0;\n",
              "      width: 32px;\n",
              "    }\n",
              "\n",
              "    .colab-df-convert:hover {\n",
              "      background-color: #E2EBFA;\n",
              "      box-shadow: 0px 1px 2px rgba(60, 64, 67, 0.3), 0px 1px 3px 1px rgba(60, 64, 67, 0.15);\n",
              "      fill: #174EA6;\n",
              "    }\n",
              "\n",
              "    [theme=dark] .colab-df-convert {\n",
              "      background-color: #3B4455;\n",
              "      fill: #D2E3FC;\n",
              "    }\n",
              "\n",
              "    [theme=dark] .colab-df-convert:hover {\n",
              "      background-color: #434B5C;\n",
              "      box-shadow: 0px 1px 3px 1px rgba(0, 0, 0, 0.15);\n",
              "      filter: drop-shadow(0px 1px 2px rgba(0, 0, 0, 0.3));\n",
              "      fill: #FFFFFF;\n",
              "    }\n",
              "  </style>\n",
              "\n",
              "      <script>\n",
              "        const buttonEl =\n",
              "          document.querySelector('#df-ad1851fe-d010-419a-bee5-302d0b997b40 button.colab-df-convert');\n",
              "        buttonEl.style.display =\n",
              "          google.colab.kernel.accessAllowed ? 'block' : 'none';\n",
              "\n",
              "        async function convertToInteractive(key) {\n",
              "          const element = document.querySelector('#df-ad1851fe-d010-419a-bee5-302d0b997b40');\n",
              "          const dataTable =\n",
              "            await google.colab.kernel.invokeFunction('convertToInteractive',\n",
              "                                                     [key], {});\n",
              "          if (!dataTable) return;\n",
              "\n",
              "          const docLinkHtml = 'Like what you see? Visit the ' +\n",
              "            '<a target=\"_blank\" href=https://colab.research.google.com/notebooks/data_table.ipynb>data table notebook</a>'\n",
              "            + ' to learn more about interactive tables.';\n",
              "          element.innerHTML = '';\n",
              "          dataTable['output_type'] = 'display_data';\n",
              "          await google.colab.output.renderOutput(dataTable, element);\n",
              "          const docLink = document.createElement('div');\n",
              "          docLink.innerHTML = docLinkHtml;\n",
              "          element.appendChild(docLink);\n",
              "        }\n",
              "      </script>\n",
              "    </div>\n",
              "  </div>\n",
              "  "
            ]
          },
          "metadata": {},
          "execution_count": 23
        }
      ]
    },
    {
      "cell_type": "code",
      "source": [
        "mislabelled.shape"
      ],
      "metadata": {
        "colab": {
          "base_uri": "https://localhost:8080/"
        },
        "id": "s2i3Gt2OiPCc",
        "outputId": "44c1beb1-3b7f-4695-ad70-d7bec1c2b573"
      },
      "execution_count": 25,
      "outputs": [
        {
          "output_type": "execute_result",
          "data": {
            "text/plain": [
              "(19, 11)"
            ]
          },
          "metadata": {},
          "execution_count": 25
        }
      ]
    },
    {
      "cell_type": "markdown",
      "source": [
        "It can be seen that the mislabelled data is mostly composed of RNF failures and since they compose a very small number of the dataset, they can be removed. Therefore, the grouping can be redefined as follows."
      ],
      "metadata": {
        "id": "ywb1QM08if11"
      }
    },
    {
      "cell_type": "code",
      "source": [
        "processed_data_grouped = processed_data.copy()\n",
        "\n",
        "processed_data_grouped['Machine failure']=0\n",
        "processed_data_grouped['Machine failure'][processed_data_grouped['TWF']==1]=1\n",
        "processed_data_grouped['Machine failure'][processed_data_grouped['HDF']==1]=2\n",
        "processed_data_grouped['Machine failure'][processed_data_grouped['PWF']==1]=3\n",
        "processed_data_grouped['Machine failure'][processed_data_grouped['OSF']==1]=4"
      ],
      "metadata": {
        "id": "gqIZTpQ0icrr"
      },
      "execution_count": 26,
      "outputs": []
    },
    {
      "cell_type": "markdown",
      "source": [
        "The columns can be dropped. Let's take a look at the correlation one more time to see if any interesting details have appeared."
      ],
      "metadata": {
        "id": "ntp5L0XUVVH3"
      }
    },
    {
      "cell_type": "code",
      "source": [
        "processed_data_grouped.drop(['TWF','HDF','PWF','OSF','RNF'], axis=1, inplace=True)"
      ],
      "metadata": {
        "id": "6ezkAX4F8XUG"
      },
      "execution_count": 27,
      "outputs": []
    },
    {
      "cell_type": "code",
      "source": [
        "plt.figure(figsize=(15,10), dpi= 100)\n",
        "sns.heatmap(processed_data_grouped.corr(), xticklabels=processed_data_grouped.corr().columns, yticklabels=processed_data_grouped.corr().columns, cmap='RdYlGn', center=0, linewidths=0.2, annot=True)\n",
        "\n",
        "plt.title('\\nHeatmap for Machine Maintenance Features after Grouping\\n', fontsize=20)\n",
        "plt.xticks(fontsize=10,rotation=70)\n",
        "plt.yticks(fontsize=10)\n",
        "plt.show()"
      ],
      "metadata": {
        "colab": {
          "base_uri": "https://localhost:8080/",
          "height": 1000
        },
        "id": "ujGxD9yb5z7N",
        "outputId": "77f89cbc-bf88-4f6c-ad3e-51a4f3bafa49"
      },
      "execution_count": 28,
      "outputs": [
        {
          "output_type": "display_data",
          "data": {
            "text/plain": [
              "<Figure size 1500x1000 with 2 Axes>"
            ],
            "image/png": "[encoded data removed]"
          },
          "metadata": {
            "needs_background": "light"
          }
        }
      ]
    },
    {
      "cell_type": "markdown",
      "source": [
        "Again, there are no significant correlations between the input features and the output."
      ],
      "metadata": {
        "id": "zbEkmdgF9Mza"
      }
    },
    {
      "cell_type": "markdown",
      "source": [
        "This project will consider comparisons between the applied models by using base data without any scaling, then using another version of the data with feature scaling applied, and finally an data version with feature scaling and oversampling applied. This will help draw iinsight as to how these modifications affect the accuracy of the results."
      ],
      "metadata": {
        "id": "XO2AUGk_Btu4"
      }
    },
    {
      "cell_type": "markdown",
      "source": [
        "## Base: Defining the Dependent and Independent Variables"
      ],
      "metadata": {
        "id": "ZFYTEa2a9uO9"
      }
    },
    {
      "cell_type": "code",
      "source": [
        "X=processed_data_grouped.iloc[:,:-1].values\n",
        "y=processed_data_grouped.iloc[:,-1].values"
      ],
      "metadata": {
        "id": "dF3yz9OW9Kt0"
      },
      "execution_count": 29,
      "outputs": []
    },
    {
      "cell_type": "code",
      "source": [
        "print(X)"
      ],
      "metadata": {
        "colab": {
          "base_uri": "https://localhost:8080/"
        },
        "id": "dLNIjFbH_oGf",
        "outputId": "35cdbe06-f2dc-4129-acdf-83adced8357f"
      },
      "execution_count": 30,
      "outputs": [
        {
          "output_type": "stream",
          "name": "stdout",
          "text": [
            "[[ 298.1  308.6 1551.    42.8    0. ]\n",
            " [ 298.2  308.7 1408.    46.3    3. ]\n",
            " [ 298.1  308.5 1498.    49.4    5. ]\n",
            " ...\n",
            " [ 299.   308.6 1645.    33.4   22. ]\n",
            " [ 299.   308.7 1408.    48.5   25. ]\n",
            " [ 299.   308.7 1500.    40.2   30. ]]\n"
          ]
        }
      ]
    },
    {
      "cell_type": "code",
      "source": [
        "print(y)"
      ],
      "metadata": {
        "colab": {
          "base_uri": "https://localhost:8080/"
        },
        "id": "Y1gpLz1U_pDn",
        "outputId": "cf394752-8042-4860-a38b-271ff57a2018"
      },
      "execution_count": 31,
      "outputs": [
        {
          "output_type": "stream",
          "name": "stdout",
          "text": [
            "[0 0 0 ... 0 0 0]\n"
          ]
        }
      ]
    },
    {
      "cell_type": "markdown",
      "source": [
        "## Base: Splitting the Data"
      ],
      "metadata": {
        "id": "m8rjAE7XDCTx"
      }
    },
    {
      "cell_type": "code",
      "source": [
        "from sklearn.model_selection import train_test_split\n",
        "X_train, X_test, y_train, y_test = train_test_split(X,y,test_size=0.20,random_state=0)"
      ],
      "metadata": {
        "id": "Z1XPio4oC7bv"
      },
      "execution_count": 32,
      "outputs": []
    },
    {
      "cell_type": "markdown",
      "source": [
        "# Scaled: Defining the Dependent and Independent Variables\n",
        "\n"
      ],
      "metadata": {
        "id": "FAX960rhA0hM"
      }
    },
    {
      "cell_type": "code",
      "source": [
        "scaled_df=processed_data_grouped.copy() "
      ],
      "metadata": {
        "id": "xWbls02hDlw7"
      },
      "execution_count": 33,
      "outputs": []
    },
    {
      "cell_type": "code",
      "source": [
        "X_scaled=processed_data_grouped.iloc[:,:-1].values\n",
        "y_scaled=processed_data_grouped.iloc[:,-1].values"
      ],
      "metadata": {
        "id": "e8sa6CwxCoHB"
      },
      "execution_count": 34,
      "outputs": []
    },
    {
      "cell_type": "markdown",
      "source": [
        "## Scaled: Splitting the Data"
      ],
      "metadata": {
        "id": "Zn_zzaG_Educ"
      }
    },
    {
      "cell_type": "code",
      "source": [
        "X_scaled_train , X_scaled_test, y_scaled_train, y_scaled_test = train_test_split(X_scaled,y_scaled,test_size=0.20,random_state=0)"
      ],
      "metadata": {
        "id": "SEP0LSN-EKQo"
      },
      "execution_count": 35,
      "outputs": []
    },
    {
      "cell_type": "markdown",
      "source": [
        "## Scaling the Data"
      ],
      "metadata": {
        "id": "57eTN64lEzsv"
      }
    },
    {
      "cell_type": "code",
      "source": [
        "from sklearn.preprocessing import StandardScaler\n",
        "sc = StandardScaler()\n",
        "X_scaled_train = sc.fit_transform(X_scaled_train)\n",
        "X_scaled_test = sc.transform(X_scaled_test)"
      ],
      "metadata": {
        "id": "ILWdmYTvEDTD"
      },
      "execution_count": 36,
      "outputs": []
    },
    {
      "cell_type": "code",
      "source": [
        "print(X_scaled_train)"
      ],
      "metadata": {
        "colab": {
          "base_uri": "https://localhost:8080/"
        },
        "id": "Avgv-LJrEyLm",
        "outputId": "7a2bdbe2-e15f-4dfd-c6b6-be5d913d725a"
      },
      "execution_count": 37,
      "outputs": [
        {
          "output_type": "stream",
          "name": "stdout",
          "text": [
            "[[-0.09509118  0.40612254  0.93821897 -0.74940818  0.26299762]\n",
            " [-0.89093729 -0.8664902   0.36891261 -1.06077593 -0.94382689]\n",
            " [ 0.2530915  -0.1297144   0.06193369 -0.25724626  0.63915072]\n",
            " ...\n",
            " [ 0.65101456  0.07122445 -0.46830262  0.41570984  1.26607254]\n",
            " [-0.84119691 -0.59857173 -0.65807141  0.74716583 -1.16324953]\n",
            " [-0.14483156 -0.53159211 -1.07667902  1.75157792  0.48242026]]\n"
          ]
        }
      ]
    },
    {
      "cell_type": "code",
      "source": [
        "print(X_scaled_test)"
      ],
      "metadata": {
        "colab": {
          "base_uri": "https://localhost:8080/"
        },
        "id": "74dEP2aXFI8i",
        "outputId": "b8738592-39d5-4d13-f836-14ffa15036f4"
      },
      "execution_count": 38,
      "outputs": [
        {
          "output_type": "stream",
          "name": "stdout",
          "text": [
            "[[-1.1396392  -1.2013883  -1.14365624  1.3096366   0.76453508]\n",
            " [-2.18418723 -2.54098066 -0.51853553  0.99826885  0.40405503]\n",
            " [-0.39353347 -1.00044944 -0.2729524   0.32531275  0.79588118]\n",
            " ...\n",
            " [-0.19457194  0.74102063  0.61449575 -0.61883461  0.40405503]\n",
            " [-0.19457194 -0.66555135 -0.07760218  0.28513627  0.82722727]\n",
            " [ 0.84997609  0.67404102 -1.09342333  0.92796001 -1.28863389]]\n"
          ]
        }
      ]
    },
    {
      "cell_type": "markdown",
      "source": [
        "# Oversampled and Scaled: Defining the Dependent and Independent Variables\n"
      ],
      "metadata": {
        "id": "qy2UyyMqFdHb"
      }
    },
    {
      "cell_type": "code",
      "source": [
        "oversampled_scaled_df=processed_data_grouped.copy() "
      ],
      "metadata": {
        "id": "Rfxp6nDpF0g2"
      },
      "execution_count": 39,
      "outputs": []
    },
    {
      "cell_type": "code",
      "source": [
        "X_oversampled_scaled=processed_data_grouped.iloc[:,:-1].values\n",
        "y_oversampled_scaled=processed_data_grouped.iloc[:,-1].values"
      ],
      "metadata": {
        "id": "AneLCtblF7tp"
      },
      "execution_count": 40,
      "outputs": []
    },
    {
      "cell_type": "markdown",
      "source": [
        "## Oversampled and Scaled: Splitting the Data"
      ],
      "metadata": {
        "id": "obJN-uoZGVyU"
      }
    },
    {
      "cell_type": "code",
      "source": [
        "X_oversampled_scaled_train , X_oversampled_scaled_test, y_oversampled_scaled_train, y_oversampled_scaled_test = train_test_split(X_oversampled_scaled,y_oversampled_scaled,test_size=0.20,random_state=0)"
      ],
      "metadata": {
        "id": "s6u2TijeGGpZ"
      },
      "execution_count": 41,
      "outputs": []
    },
    {
      "cell_type": "markdown",
      "source": [
        "The data was oversampled with the failure (1 to 4) results yeilding to 9670 so that the data is balanced between failing or succeeding."
      ],
      "metadata": {
        "id": "0zdljwIAMLmo"
      }
    },
    {
      "cell_type": "code",
      "source": [
        "from imblearn.over_sampling import SMOTE\n",
        "strategy = {0:9670, 1:2418, 2:2417, 3:2418, 4:2417} \n",
        "oversample = SMOTE(sampling_strategy=strategy)\n",
        "X_oversampled_scaled_train, y_oversampled_scaled_train = oversample.fit_resample(X_oversampled_scaled_train, y_oversampled_scaled_train)"
      ],
      "metadata": {
        "id": "0RnjvuZMHqXB"
      },
      "execution_count": 42,
      "outputs": []
    },
    {
      "cell_type": "code",
      "source": [
        "X_oversampled_scaled_train = sc.fit_transform(X_oversampled_scaled_train)\n",
        "X_oversampled_scaled_test = sc.transform(X_oversampled_scaled_test)"
      ],
      "metadata": {
        "id": "Garcrx4LLDsV"
      },
      "execution_count": 43,
      "outputs": []
    },
    {
      "cell_type": "markdown",
      "source": [
        "# Modelling and Evaluation"
      ],
      "metadata": {
        "id": "CCF904qqLhJD"
      }
    },
    {
      "cell_type": "code",
      "source": [
        "model_eval_metrics = pd.DataFrame(columns=['Accuracy','Recall','Precision','F1-Score','AUC score'])"
      ],
      "metadata": {
        "id": "S01W1Phx5VKI"
      },
      "execution_count": 73,
      "outputs": []
    },
    {
      "cell_type": "markdown",
      "source": [
        "## Random Forest"
      ],
      "metadata": {
        "id": "L44_UTn4LoDl"
      }
    },
    {
      "cell_type": "markdown",
      "source": [
        "### Base Model"
      ],
      "metadata": {
        "id": "hUjPvJDHL81t"
      }
    },
    {
      "cell_type": "code",
      "source": [
        "from sklearn.ensemble import RandomForestClassifier\n",
        "classifier=RandomForestClassifier(n_estimators=10, criterion='entropy', max_depth=5, max_features=\"sqrt\", random_state=0) \n",
        "classifier.fit(X_train,y_train)"
      ],
      "metadata": {
        "colab": {
          "base_uri": "https://localhost:8080/"
        },
        "id": "zKYQbDLTL5YH",
        "outputId": "0a739078-ddac-4136-8ad7-02cd106679b6"
      },
      "execution_count": 74,
      "outputs": [
        {
          "output_type": "execute_result",
          "data": {
            "text/plain": [
              "RandomForestClassifier(criterion='entropy', max_depth=5, max_features='sqrt',\n",
              "                       n_estimators=10, random_state=0)"
            ]
          },
          "metadata": {},
          "execution_count": 74
        }
      ]
    },
    {
      "cell_type": "code",
      "source": [
        "from sklearn.metrics import accuracy_score\n",
        "y_pred = classifier.predict(X_test)\n",
        "accuracy_score(y_test, y_pred)"
      ],
      "metadata": {
        "colab": {
          "base_uri": "https://localhost:8080/"
        },
        "id": "uW6rnyQRMzPf",
        "outputId": "0dbd4583-14bf-45f7-9723-a0ea8cafbcff"
      },
      "execution_count": 75,
      "outputs": [
        {
          "output_type": "execute_result",
          "data": {
            "text/plain": [
              "0.9745"
            ]
          },
          "metadata": {},
          "execution_count": 75
        }
      ]
    },
    {
      "cell_type": "code",
      "source": [
        "from sklearn.metrics import accuracy_score , recall_score, precision_score,f1_score, roc_curve,auc,confusion_matrix, ConfusionMatrixDisplay, roc_auc_score, classification_report\n",
        "print(classification_report(y_test,y_pred, digits=4))"
      ],
      "metadata": {
        "colab": {
          "base_uri": "https://localhost:8080/"
        },
        "id": "el0ghHt9Pri5",
        "outputId": "8d34376d-8ae5-4c77-deed-cbfe6737df84"
      },
      "execution_count": 76,
      "outputs": [
        {
          "output_type": "stream",
          "name": "stdout",
          "text": [
            "              precision    recall  f1-score   support\n",
            "\n",
            "           0     0.9767    0.9979    0.9872      1930\n",
            "           1     0.0000    0.0000    0.0000         9\n",
            "           2     0.8182    0.4500    0.5806        20\n",
            "           3     0.8333    0.5556    0.6667        18\n",
            "           4     0.8000    0.1739    0.2857        23\n",
            "\n",
            "    accuracy                         0.9745      2000\n",
            "   macro avg     0.6856    0.4355    0.5040      2000\n",
            "weighted avg     0.9674    0.9745    0.9677      2000\n",
            "\n"
          ]
        }
      ]
    },
    {
      "cell_type": "markdown",
      "source": [
        "As evident, the base model yields very high accuracy. However, as expected, the recall is very low for the failures and the precision reaches 0 for some of the failures due to the imbalance in the data."
      ],
      "metadata": {
        "id": "FYq0fNDTPdta"
      }
    },
    {
      "cell_type": "code",
      "source": [
        "accuracy = accuracy_score(y_test, y_pred)\n",
        "recall = recall_score(y_test, y_pred, average='weighted')\n",
        "precision = precision_score(y_test, y_pred, average='weighted')\n",
        "f1_sc = f1_score(y_test, y_pred, average='weighted')\n",
        "\n",
        "auc = roc_auc_score(y_test, classifier.predict_proba(X_test), multi_class =\"ovo\", average='weighted')\n",
        "model_eval_metrics.loc['Base-Random-Forest'] = [accuracy, recall, precision, f1_sc, auc]"
      ],
      "metadata": {
        "id": "j9MkxUnt6YU4"
      },
      "execution_count": 77,
      "outputs": []
    },
    {
      "cell_type": "markdown",
      "source": [
        "### Scaled Model"
      ],
      "metadata": {
        "id": "u7modxUvQuWR"
      }
    },
    {
      "cell_type": "code",
      "source": [
        "classifier.fit(X_scaled_train,y_scaled_train)"
      ],
      "metadata": {
        "colab": {
          "base_uri": "https://localhost:8080/"
        },
        "id": "oJenVcMKQtYz",
        "outputId": "b4293e9a-bbae-4c2e-eb06-be3ce75bd1c6"
      },
      "execution_count": 78,
      "outputs": [
        {
          "output_type": "execute_result",
          "data": {
            "text/plain": [
              "RandomForestClassifier(criterion='entropy', max_depth=5, max_features='sqrt',\n",
              "                       n_estimators=10, random_state=0)"
            ]
          },
          "metadata": {},
          "execution_count": 78
        }
      ]
    },
    {
      "cell_type": "code",
      "source": [
        "y_scaled_pred = classifier.predict(X_scaled_test)"
      ],
      "metadata": {
        "id": "a1CvPS3qRaSZ"
      },
      "execution_count": 79,
      "outputs": []
    },
    {
      "cell_type": "code",
      "source": [
        "print(classification_report(y_scaled_test,y_scaled_pred, digits=4))"
      ],
      "metadata": {
        "colab": {
          "base_uri": "https://localhost:8080/"
        },
        "id": "8LrGxP22Rj1d",
        "outputId": "4112fffd-51d8-461c-a23f-3eaf438abc3d"
      },
      "execution_count": 80,
      "outputs": [
        {
          "output_type": "stream",
          "name": "stdout",
          "text": [
            "              precision    recall  f1-score   support\n",
            "\n",
            "           0     0.9767    0.9979    0.9872      1930\n",
            "           1     0.0000    0.0000    0.0000         9\n",
            "           2     0.8182    0.4500    0.5806        20\n",
            "           3     0.8333    0.5556    0.6667        18\n",
            "           4     0.8000    0.1739    0.2857        23\n",
            "\n",
            "    accuracy                         0.9745      2000\n",
            "   macro avg     0.6856    0.4355    0.5040      2000\n",
            "weighted avg     0.9674    0.9745    0.9677      2000\n",
            "\n"
          ]
        }
      ]
    },
    {
      "cell_type": "code",
      "source": [
        "accuracy = accuracy_score(y_scaled_test,y_scaled_pred)\n",
        "recall = recall_score(y_scaled_test,y_scaled_pred, average='weighted')\n",
        "precision = precision_score(y_scaled_test,y_scaled_pred, average='weighted')\n",
        "f1_sc = f1_score(y_scaled_test,y_scaled_pred, average='weighted')\n",
        "\n",
        "auc = roc_auc_score(y_scaled_test, classifier.predict_proba(X_scaled_test), multi_class =\"ovo\", average='weighted')\n",
        "model_eval_metrics.loc['Scaled-Random-Forest'] = [accuracy, recall, precision, f1_sc, auc]"
      ],
      "metadata": {
        "id": "TAvixcDi8SV2"
      },
      "execution_count": 81,
      "outputs": []
    },
    {
      "cell_type": "markdown",
      "source": [
        "### Oversampled and Scaled Model"
      ],
      "metadata": {
        "id": "-GFor2uQSGJT"
      }
    },
    {
      "cell_type": "code",
      "source": [
        "classifier.fit(X_oversampled_scaled_train,y_oversampled_scaled_train)"
      ],
      "metadata": {
        "colab": {
          "base_uri": "https://localhost:8080/"
        },
        "id": "zooQrmT5SFN9",
        "outputId": "ac3fd053-8ae6-4f2f-fb59-700908b87f9a"
      },
      "execution_count": 82,
      "outputs": [
        {
          "output_type": "execute_result",
          "data": {
            "text/plain": [
              "RandomForestClassifier(criterion='entropy', max_depth=5, max_features='sqrt',\n",
              "                       n_estimators=10, random_state=0)"
            ]
          },
          "metadata": {},
          "execution_count": 82
        }
      ]
    },
    {
      "cell_type": "code",
      "source": [
        "y_oversampled_scaled_pred = classifier.predict(X_oversampled_scaled_test)"
      ],
      "metadata": {
        "id": "AddMr7qFScir"
      },
      "execution_count": 83,
      "outputs": []
    },
    {
      "cell_type": "code",
      "source": [
        "print(classification_report(y_oversampled_scaled_test,y_oversampled_scaled_pred, digits=4))"
      ],
      "metadata": {
        "colab": {
          "base_uri": "https://localhost:8080/"
        },
        "id": "XrJf0GljSlFN",
        "outputId": "51a36cc2-409f-4e58-8145-67c8b25bb4d8"
      },
      "execution_count": 84,
      "outputs": [
        {
          "output_type": "stream",
          "name": "stdout",
          "text": [
            "              precision    recall  f1-score   support\n",
            "\n",
            "           0     0.9960    0.9124    0.9524      1930\n",
            "           1     0.0571    0.6667    0.1053         9\n",
            "           2     0.4390    0.9000    0.5902        20\n",
            "           3     0.5714    0.8889    0.6957        18\n",
            "           4     0.3793    0.9565    0.5432        23\n",
            "\n",
            "    accuracy                         0.9115      2000\n",
            "   macro avg     0.4886    0.8649    0.5773      2000\n",
            "weighted avg     0.9753    0.9115    0.9380      2000\n",
            "\n"
          ]
        }
      ]
    },
    {
      "cell_type": "code",
      "source": [
        "accuracy = accuracy_score(y_oversampled_scaled_test,y_oversampled_scaled_pred)\n",
        "recall = recall_score(y_oversampled_scaled_test,y_oversampled_scaled_pred, average='weighted')\n",
        "precision = precision_score(y_oversampled_scaled_test,y_oversampled_scaled_pred, average='weighted')\n",
        "f1_sc = f1_score(y_oversampled_scaled_test,y_oversampled_scaled_pred, average='weighted')\n",
        "\n",
        "auc = roc_auc_score(y_oversampled_scaled_test, classifier.predict_proba(X_oversampled_scaled_test), multi_class =\"ovo\", average='weighted')\n",
        "model_eval_metrics.loc['Oversampled-Random-Forest'] = [accuracy, recall, precision, f1_sc, auc]"
      ],
      "metadata": {
        "id": "fDxs1xet88rC"
      },
      "execution_count": 85,
      "outputs": []
    },
    {
      "cell_type": "code",
      "source": [
        "from sklearn.model_selection import GridSearchCV\n",
        "\n",
        "grid = {'n_estimators' : [30,50,60,70,80],\n",
        "    'max_features' : ['sqrt', 'log2'],\n",
        "    'max_depth' : [6,8,10,20],\n",
        "    'criterion': ['gini', 'entropy'],\n",
        "    'random_state': [0]}\n",
        "\n",
        "gs=GridSearchCV(estimator= RandomForestClassifier(), param_grid=grid, scoring='accuracy', cv=5, n_jobs=-1, verbose=5)\n",
        "gs.fit(X_oversampled_scaled_train,y_oversampled_scaled_train)\n",
        "\n",
        "best_accuracy=gs.best_score_\n",
        "best_parameters=gs.best_params_\n",
        "\n",
        "print(\"Best Accuracy:\", best_accuracy)\n",
        "print(\"Best Parameters:\", best_parameters)"
      ],
      "metadata": {
        "colab": {
          "base_uri": "https://localhost:8080/"
        },
        "id": "B8FAsakMTTHQ",
        "outputId": "a9233f5b-6925-4d95-d443-cbc5c61a61fa"
      },
      "execution_count": 86,
      "outputs": [
        {
          "output_type": "stream",
          "name": "stdout",
          "text": [
            "Fitting 5 folds for each of 80 candidates, totalling 400 fits\n",
            "Best Accuracy: 0.9895036194415718\n",
            "Best Parameters: {'criterion': 'entropy', 'max_depth': 20, 'max_features': 'sqrt', 'n_estimators': 60, 'random_state': 0}\n"
          ]
        }
      ]
    },
    {
      "cell_type": "code",
      "source": [
        "classifier=RandomForestClassifier(n_estimators=60, criterion='entropy', max_depth=20, max_features=\"sqrt\", random_state=0) \n",
        "classifier.fit(X_oversampled_scaled_train,y_oversampled_scaled_train)"
      ],
      "metadata": {
        "colab": {
          "base_uri": "https://localhost:8080/"
        },
        "id": "XTIJkDYAT-ov",
        "outputId": "9e4ff2de-fe71-439f-96d0-235638fb9620"
      },
      "execution_count": 87,
      "outputs": [
        {
          "output_type": "execute_result",
          "data": {
            "text/plain": [
              "RandomForestClassifier(criterion='entropy', max_depth=20, max_features='sqrt',\n",
              "                       n_estimators=60, random_state=0)"
            ]
          },
          "metadata": {},
          "execution_count": 87
        }
      ]
    },
    {
      "cell_type": "code",
      "source": [
        "from sklearn.metrics import confusion_matrix, ConfusionMatrixDisplay\n",
        "# Predict the X_test\n",
        "y_oversampled_scaled_pred=classifier.predict(X_oversampled_scaled_test)\n",
        "\n",
        "# Create the confusion matrix\n",
        "cm = confusion_matrix(y_oversampled_scaled_test,y_oversampled_scaled_pred)\n",
        "disp = ConfusionMatrixDisplay(confusion_matrix=cm ,display_labels=[\"No failure\",\"TWF\", \"HDF\", \"PWF\", \"OSF\"])\n",
        "disp.plot(cmap=plt.cm.OrRd)\n",
        "plt.xlabel(\"Predicted labels\")\n",
        "plt.ylabel(\"Actual labels\")\n",
        "plt.show()"
      ],
      "metadata": {
        "colab": {
          "base_uri": "https://localhost:8080/",
          "height": 279
        },
        "id": "mpiklHHYVsKI",
        "outputId": "57ccf2f5-aa28-4414-c9ca-1c4ad9c4765b"
      },
      "execution_count": 88,
      "outputs": [
        {
          "output_type": "display_data",
          "data": {
            "text/plain": [
              "<Figure size 432x288 with 2 Axes>"
            ],
            "image/png": "[encoded data removed]"
          },
          "metadata": {
            "needs_background": "light"
          }
        }
      ]
    },
    {
      "cell_type": "code",
      "source": [
        "print(classification_report(y_oversampled_scaled_test,y_oversampled_scaled_pred, digits=4))\n",
        "# Plotting the ROC curve and calculating the AUC\n",
        "# get false and true positive rates\n",
        "y_oversampled_scaled_pred_prob=classifier.predict_proba(X_oversampled_scaled_test)\n",
        "auc_score = roc_auc_score(y_oversampled_scaled_test,y_oversampled_scaled_pred_prob, multi_class =\"ovo\")\n",
        "print(\"AUC: \", auc_score)"
      ],
      "metadata": {
        "colab": {
          "base_uri": "https://localhost:8080/"
        },
        "id": "Y_hGt4pzYxKb",
        "outputId": "a2b0125d-6d1b-42d7-abc1-93e7ba8ac569"
      },
      "execution_count": 89,
      "outputs": [
        {
          "output_type": "stream",
          "name": "stdout",
          "text": [
            "              precision    recall  f1-score   support\n",
            "\n",
            "           0     0.9937    0.9767    0.9851      1930\n",
            "           1     0.1034    0.3333    0.1579         9\n",
            "           2     0.7200    0.9000    0.8000        20\n",
            "           3     0.8333    0.8333    0.8333        18\n",
            "           4     0.7097    0.9565    0.8148        23\n",
            "\n",
            "    accuracy                         0.9715      2000\n",
            "   macro avg     0.6720    0.8000    0.7182      2000\n",
            "weighted avg     0.9822    0.9715    0.9762      2000\n",
            "\n",
            "AUC:  0.9541164269980726\n"
          ]
        }
      ]
    },
    {
      "cell_type": "code",
      "source": [
        "accuracy = accuracy_score(y_oversampled_scaled_test,y_oversampled_scaled_pred)\n",
        "recall = recall_score(y_oversampled_scaled_test,y_oversampled_scaled_pred, average='weighted')\n",
        "precision = precision_score(y_oversampled_scaled_test,y_oversampled_scaled_pred, average='weighted')\n",
        "f1_sc = f1_score(y_oversampled_scaled_test,y_oversampled_scaled_pred, average='weighted')\n",
        "\n",
        "auc = roc_auc_score(y_oversampled_scaled_test, classifier.predict_proba(X_oversampled_scaled_test), multi_class =\"ovo\", average='weighted')\n",
        "model_eval_metrics.loc['GS-Oversampled-Random-Forest'] = [accuracy, recall, precision, f1_sc, auc]\n",
        "model_eval_metrics.head()"
      ],
      "metadata": {
        "colab": {
          "base_uri": "https://localhost:8080/",
          "height": 175
        },
        "id": "BKzf_ZXX-TBH",
        "outputId": "2e484ea0-2eb7-4f9e-fa97-a11c355e570c"
      },
      "execution_count": 90,
      "outputs": [
        {
          "output_type": "execute_result",
          "data": {
            "text/plain": [
              "                              Accuracy  Recall  Precision  F1-Score  AUC score\n",
              "Base-Random-Forest              0.9745  0.9745   0.967372  0.967727   0.981142\n",
              "Scaled-Random-Forest            0.9745  0.9745   0.967372  0.967727   0.981670\n",
              "Oversampled-Random-Forest       0.9115  0.9115   0.975332  0.937956   0.978800\n",
              "GS-Oversampled-Random-Forest    0.9715  0.9715   0.982222  0.976208   0.953226"
            ],
            "text/html": [
              "\n",
              "  <div id=\"df-a3d1e7aa-2dac-4de7-a1bb-2264930fc974\">\n",
              "    <div class=\"colab-df-container\">\n",
              "      <div>\n",
              "<style scoped>\n",
              "    .dataframe tbody tr th:only-of-type {\n",
              "        vertical-align: middle;\n",
              "    }\n",
              "\n",
              "    .dataframe tbody tr th {\n",
              "        vertical-align: top;\n",
              "    }\n",
              "\n",
              "    .dataframe thead th {\n",
              "        text-align: right;\n",
              "    }\n",
              "</style>\n",
              "<table border=\"1\" class=\"dataframe\">\n",
              "  <thead>\n",
              "    <tr style=\"text-align: right;\">\n",
              "      <th></th>\n",
              "      <th>Accuracy</th>\n",
              "      <th>Recall</th>\n",
              "      <th>Precision</th>\n",
              "      <th>F1-Score</th>\n",
              "      <th>AUC score</th>\n",
              "    </tr>\n",
              "  </thead>\n",
              "  <tbody>\n",
              "    <tr>\n",
              "      <th>Base-Random-Forest</th>\n",
              "      <td>0.9745</td>\n",
              "      <td>0.9745</td>\n",
              "      <td>0.967372</td>\n",
              "      <td>0.967727</td>\n",
              "      <td>0.981142</td>\n",
              "    </tr>\n",
              "    <tr>\n",
              "      <th>Scaled-Random-Forest</th>\n",
              "      <td>0.9745</td>\n",
              "      <td>0.9745</td>\n",
              "      <td>0.967372</td>\n",
              "      <td>0.967727</td>\n",
              "      <td>0.981670</td>\n",
              "    </tr>\n",
              "    <tr>\n",
              "      <th>Oversampled-Random-Forest</th>\n",
              "      <td>0.9115</td>\n",
              "      <td>0.9115</td>\n",
              "      <td>0.975332</td>\n",
              "      <td>0.937956</td>\n",
              "      <td>0.978800</td>\n",
              "    </tr>\n",
              "    <tr>\n",
              "      <th>GS-Oversampled-Random-Forest</th>\n",
              "      <td>0.9715</td>\n",
              "      <td>0.9715</td>\n",
              "      <td>0.982222</td>\n",
              "      <td>0.976208</td>\n",
              "      <td>0.953226</td>\n",
              "    </tr>\n",
              "  </tbody>\n",
              "</table>\n",
              "</div>\n",
              "      <button class=\"colab-df-convert\" onclick=\"convertToInteractive('df-a3d1e7aa-2dac-4de7-a1bb-2264930fc974')\"\n",
              "              title=\"Convert this dataframe to an interactive table.\"\n",
              "              style=\"display:none;\">\n",
              "        \n",
              "  <svg xmlns=\"http://www.w3.org/2000/svg\" height=\"24px\"viewBox=\"0 0 24 24\"\n",
              "       width=\"24px\">\n",
              "    <path d=\"M0 0h24v24H0V0z\" fill=\"none\"/>\n",
              "    <path d=\"M18.56 5.44l.94 2.06.94-2.06 2.06-.94-2.06-.94-.94-2.06-.94 2.06-2.06.94zm-11 1L8.5 8.5l.94-2.06 2.06-.94-2.06-.94L8.5 2.5l-.94 2.06-2.06.94zm10 10l.94 2.06.94-2.06 2.06-.94-2.06-.94-.94-2.06-.94 2.06-2.06.94z\"/><path d=\"M17.41 7.96l-1.37-1.37c-.4-.4-.92-.59-1.43-.59-.52 0-1.04.2-1.43.59L10.3 9.45l-7.72 7.72c-.78.78-.78 2.05 0 2.83L4 21.41c.39.39.9.59 1.41.59.51 0 1.02-.2 1.41-.59l7.78-7.78 2.81-2.81c.8-.78.8-2.07 0-2.86zM5.41 20L4 18.59l7.72-7.72 1.47 1.35L5.41 20z\"/>\n",
              "  </svg>\n",
              "      </button>\n",
              "      \n",
              "  <style>\n",
              "    .colab-df-container {\n",
              "      display:flex;\n",
              "      flex-wrap:wrap;\n",
              "      gap: 12px;\n",
              "    }\n",
              "\n",
              "    .colab-df-convert {\n",
              "      background-color: #E8F0FE;\n",
              "      border: none;\n",
              "      border-radius: 50%;\n",
              "      cursor: pointer;\n",
              "      display: none;\n",
              "      fill: #1967D2;\n",
              "      height: 32px;\n",
              "      padding: 0 0 0 0;\n",
              "      width: 32px;\n",
              "    }\n",
              "\n",
              "    .colab-df-convert:hover {\n",
              "      background-color: #E2EBFA;\n",
              "      box-shadow: 0px 1px 2px rgba(60, 64, 67, 0.3), 0px 1px 3px 1px rgba(60, 64, 67, 0.15);\n",
              "      fill: #174EA6;\n",
              "    }\n",
              "\n",
              "    [theme=dark] .colab-df-convert {\n",
              "      background-color: #3B4455;\n",
              "      fill: #D2E3FC;\n",
              "    }\n",
              "\n",
              "    [theme=dark] .colab-df-convert:hover {\n",
              "      background-color: #434B5C;\n",
              "      box-shadow: 0px 1px 3px 1px rgba(0, 0, 0, 0.15);\n",
              "      filter: drop-shadow(0px 1px 2px rgba(0, 0, 0, 0.3));\n",
              "      fill: #FFFFFF;\n",
              "    }\n",
              "  </style>\n",
              "\n",
              "      <script>\n",
              "        const buttonEl =\n",
              "          document.querySelector('#df-a3d1e7aa-2dac-4de7-a1bb-2264930fc974 button.colab-df-convert');\n",
              "        buttonEl.style.display =\n",
              "          google.colab.kernel.accessAllowed ? 'block' : 'none';\n",
              "\n",
              "        async function convertToInteractive(key) {\n",
              "          const element = document.querySelector('#df-a3d1e7aa-2dac-4de7-a1bb-2264930fc974');\n",
              "          const dataTable =\n",
              "            await google.colab.kernel.invokeFunction('convertToInteractive',\n",
              "                                                     [key], {});\n",
              "          if (!dataTable) return;\n",
              "\n",
              "          const docLinkHtml = 'Like what you see? Visit the ' +\n",
              "            '<a target=\"_blank\" href=https://colab.research.google.com/notebooks/data_table.ipynb>data table notebook</a>'\n",
              "            + ' to learn more about interactive tables.';\n",
              "          element.innerHTML = '';\n",
              "          dataTable['output_type'] = 'display_data';\n",
              "          await google.colab.output.renderOutput(dataTable, element);\n",
              "          const docLink = document.createElement('div');\n",
              "          docLink.innerHTML = docLinkHtml;\n",
              "          element.appendChild(docLink);\n",
              "        }\n",
              "      </script>\n",
              "    </div>\n",
              "  </div>\n",
              "  "
            ]
          },
          "metadata": {},
          "execution_count": 90
        }
      ]
    },
    {
      "cell_type": "markdown",
      "source": [
        "## Logistic Regression"
      ],
      "metadata": {
        "id": "rWvc1XFYXK1s"
      }
    },
    {
      "cell_type": "markdown",
      "source": [
        "### Base Model"
      ],
      "metadata": {
        "id": "lFnE7ob_X4o9"
      }
    },
    {
      "cell_type": "code",
      "source": [
        "from sklearn.linear_model import LogisticRegression\n",
        "lr_model= LogisticRegression(random_state=0)\n",
        "lr_model.fit(X_train,y_train)"
      ],
      "metadata": {
        "colab": {
          "base_uri": "https://localhost:8080/"
        },
        "id": "dvmLu2UXWMqH",
        "outputId": "eb94f102-dae3-4347-bd7f-3159a70fb768"
      },
      "execution_count": 91,
      "outputs": [
        {
          "output_type": "execute_result",
          "data": {
            "text/plain": [
              "LogisticRegression(random_state=0)"
            ]
          },
          "metadata": {},
          "execution_count": 91
        }
      ]
    },
    {
      "cell_type": "code",
      "source": [
        "y_pred = lr_model.predict(X_test)\n",
        "accuracy_score(y_test, y_pred)"
      ],
      "metadata": {
        "colab": {
          "base_uri": "https://localhost:8080/"
        },
        "id": "avKP621Cai_G",
        "outputId": "1ebcb7d9-3aac-4e24-d2f3-53273d10161c"
      },
      "execution_count": 92,
      "outputs": [
        {
          "output_type": "execute_result",
          "data": {
            "text/plain": [
              "0.9655"
            ]
          },
          "metadata": {},
          "execution_count": 92
        }
      ]
    },
    {
      "cell_type": "code",
      "source": [
        "print(classification_report(y_test,y_pred, digits=4))"
      ],
      "metadata": {
        "colab": {
          "base_uri": "https://localhost:8080/"
        },
        "id": "MZaEqtw4atIm",
        "outputId": "fbe0fa70-68df-4317-cdff-058bb1f2f07d"
      },
      "execution_count": 93,
      "outputs": [
        {
          "output_type": "stream",
          "name": "stdout",
          "text": [
            "              precision    recall  f1-score   support\n",
            "\n",
            "           0     0.9721    0.9938    0.9828      1930\n",
            "           1     0.0000    0.0000    0.0000         9\n",
            "           2     0.0000    0.0000    0.0000        20\n",
            "           3     0.6667    0.1111    0.1905        18\n",
            "           4     0.5238    0.4783    0.5000        23\n",
            "\n",
            "    accuracy                         0.9655      2000\n",
            "   macro avg     0.4325    0.3166    0.3347      2000\n",
            "weighted avg     0.9501    0.9655    0.9559      2000\n",
            "\n"
          ]
        }
      ]
    },
    {
      "cell_type": "code",
      "source": [
        "accuracy = accuracy_score(y_test, y_pred)\n",
        "recall = recall_score(y_test, y_pred, average='weighted')\n",
        "precision = precision_score(y_test, y_pred, average='weighted')\n",
        "f1_sc = f1_score(y_test, y_pred, average='weighted')\n",
        "\n",
        "auc = roc_auc_score(y_test, classifier.predict_proba(X_test), multi_class =\"ovo\", average='weighted')\n",
        "model_eval_metrics.loc['Base-Logistric-Reg'] = [accuracy, recall, precision, f1_sc, auc]"
      ],
      "metadata": {
        "id": "WF6qJ9osBTIz"
      },
      "execution_count": 94,
      "outputs": []
    },
    {
      "cell_type": "markdown",
      "source": [
        "### Scaled"
      ],
      "metadata": {
        "id": "jRw3i2Jwa1hM"
      }
    },
    {
      "cell_type": "code",
      "source": [
        "lr_model.fit(X_scaled_train,y_scaled_train)"
      ],
      "metadata": {
        "colab": {
          "base_uri": "https://localhost:8080/"
        },
        "id": "Qzd8v_YqbxH3",
        "outputId": "965e5152-d33d-4bd3-f380-96c0fd20e115"
      },
      "execution_count": 95,
      "outputs": [
        {
          "output_type": "execute_result",
          "data": {
            "text/plain": [
              "LogisticRegression(random_state=0)"
            ]
          },
          "metadata": {},
          "execution_count": 95
        }
      ]
    },
    {
      "cell_type": "code",
      "source": [
        "y_scaled_pred = lr_model.predict(X_scaled_test)"
      ],
      "metadata": {
        "id": "lCPolckLb8tD"
      },
      "execution_count": 96,
      "outputs": []
    },
    {
      "cell_type": "code",
      "source": [
        "print(classification_report(y_scaled_test,y_scaled_pred, digits=4))"
      ],
      "metadata": {
        "colab": {
          "base_uri": "https://localhost:8080/"
        },
        "id": "usMx5vFXcEQF",
        "outputId": "48213551-f673-43b7-8fc7-e8f7ab75c844"
      },
      "execution_count": 97,
      "outputs": [
        {
          "output_type": "stream",
          "name": "stdout",
          "text": [
            "              precision    recall  f1-score   support\n",
            "\n",
            "           0     0.9796    0.9959    0.9877      1930\n",
            "           1     0.0000    0.0000    0.0000         9\n",
            "           2     0.8571    0.3000    0.4444        20\n",
            "           3     0.8333    0.5556    0.6667        18\n",
            "           4     0.6316    0.5217    0.5714        23\n",
            "\n",
            "    accuracy                         0.9750      2000\n",
            "   macro avg     0.6603    0.4746    0.5340      2000\n",
            "weighted avg     0.9687    0.9750    0.9701      2000\n",
            "\n"
          ]
        }
      ]
    },
    {
      "cell_type": "code",
      "source": [
        "accuracy = accuracy_score(y_scaled_test,y_scaled_pred)\n",
        "recall = recall_score(y_scaled_test,y_scaled_pred, average='weighted')\n",
        "precision = precision_score(y_scaled_test,y_scaled_pred, average='weighted')\n",
        "f1_sc = f1_score(y_scaled_test,y_scaled_pred, average='weighted')\n",
        "\n",
        "auc = roc_auc_score(y_scaled_test, classifier.predict_proba(X_scaled_test), multi_class =\"ovo\", average='weighted')\n",
        "model_eval_metrics.loc['Scaled-Logistic-Reg'] = [accuracy, recall, precision, f1_sc, auc]"
      ],
      "metadata": {
        "id": "py5WU1OsAhXV"
      },
      "execution_count": 98,
      "outputs": []
    },
    {
      "cell_type": "markdown",
      "source": [
        "### Oversampled and Scaled"
      ],
      "metadata": {
        "id": "kY7EJt7Wcg0s"
      }
    },
    {
      "cell_type": "code",
      "source": [
        "lr_model.fit(X_oversampled_scaled_train,y_oversampled_scaled_train)"
      ],
      "metadata": {
        "colab": {
          "base_uri": "https://localhost:8080/"
        },
        "id": "R_Fi0U9KcgZO",
        "outputId": "864bc2e1-177c-4b60-ce55-3eb42c8a465e"
      },
      "execution_count": 99,
      "outputs": [
        {
          "output_type": "execute_result",
          "data": {
            "text/plain": [
              "LogisticRegression(random_state=0)"
            ]
          },
          "metadata": {},
          "execution_count": 99
        }
      ]
    },
    {
      "cell_type": "code",
      "source": [
        "y_oversampled_scaled_pred = lr_model.predict(X_oversampled_scaled_test)"
      ],
      "metadata": {
        "id": "sPjak-55dC1c"
      },
      "execution_count": 100,
      "outputs": []
    },
    {
      "cell_type": "code",
      "source": [
        "print(classification_report(y_oversampled_scaled_test,y_oversampled_scaled_pred, digits=4))"
      ],
      "metadata": {
        "colab": {
          "base_uri": "https://localhost:8080/"
        },
        "id": "rHhx0iR_eAuL",
        "outputId": "a5b8d790-244c-4fdc-b802-5c8f2fd4c963"
      },
      "execution_count": 101,
      "outputs": [
        {
          "output_type": "stream",
          "name": "stdout",
          "text": [
            "              precision    recall  f1-score   support\n",
            "\n",
            "           0     0.9989    0.9254    0.9607      1930\n",
            "           1     0.0824    0.7778    0.1489         9\n",
            "           2     0.3571    1.0000    0.5263        20\n",
            "           3     0.5312    0.9444    0.6800        18\n",
            "           4     0.5897    1.0000    0.7419        23\n",
            "\n",
            "    accuracy                         0.9265      2000\n",
            "   macro avg     0.5119    0.9295    0.6116      2000\n",
            "weighted avg     0.9794    0.9265    0.9477      2000\n",
            "\n"
          ]
        }
      ]
    },
    {
      "cell_type": "code",
      "source": [
        "accuracy = accuracy_score(y_oversampled_scaled_test,y_oversampled_scaled_pred)\n",
        "recall = recall_score(y_oversampled_scaled_test,y_oversampled_scaled_pred, average='weighted')\n",
        "precision = precision_score(y_oversampled_scaled_test,y_oversampled_scaled_pred, average='weighted')\n",
        "f1_sc = f1_score(y_oversampled_scaled_test,y_oversampled_scaled_pred, average='weighted')\n",
        "\n",
        "auc = roc_auc_score(y_oversampled_scaled_test, classifier.predict_proba(X_oversampled_scaled_test), multi_class =\"ovo\", average='weighted')\n",
        "model_eval_metrics.loc['Oversampled-Logistic-Reg'] = [accuracy, recall, precision, f1_sc, auc]"
      ],
      "metadata": {
        "id": "hZei0g0a-cjy"
      },
      "execution_count": 102,
      "outputs": []
    },
    {
      "cell_type": "code",
      "source": [
        "grid={\"C\":np.logspace(-3,3,7), \"penalty\":[\"l1\",\"l2\"], \"max_iter\":[1000]}\n",
        "logreg=LogisticRegression()\n",
        "logreg_cv=GridSearchCV(logreg,grid,cv=10)\n",
        "logreg_cv.fit(X_oversampled_scaled_train,y_oversampled_scaled_train)\n",
        "\n",
        "print(\"tuned hyperparameters :(best parameters) \",logreg_cv.best_params_)\n",
        "print(\"accuracy :\",logreg_cv.best_score_)"
      ],
      "metadata": {
        "colab": {
          "base_uri": "https://localhost:8080/"
        },
        "id": "3UYOnJyUeQHJ",
        "outputId": "7c3d4bfc-8375-4f89-9a55-c87058cc139f"
      },
      "execution_count": 103,
      "outputs": [
        {
          "output_type": "stream",
          "name": "stdout",
          "text": [
            "tuned hyperparameters :(best parameters)  {'C': 10.0, 'max_iter': 1000, 'penalty': 'l2'}\n",
            "accuracy : 0.946277145811789\n"
          ]
        }
      ]
    },
    {
      "cell_type": "code",
      "source": [
        "lr_model= LogisticRegression(C = 10.0, penalty = 'l2', max_iter=1000, random_state=0)\n",
        "lr_model.fit(X_oversampled_scaled_train,y_oversampled_scaled_train)"
      ],
      "metadata": {
        "colab": {
          "base_uri": "https://localhost:8080/"
        },
        "id": "-bfa8aMnejiy",
        "outputId": "dd6b2b2f-5646-48a7-d88f-ff6edf995675"
      },
      "execution_count": 104,
      "outputs": [
        {
          "output_type": "execute_result",
          "data": {
            "text/plain": [
              "LogisticRegression(C=10.0, max_iter=1000, random_state=0)"
            ]
          },
          "metadata": {},
          "execution_count": 104
        }
      ]
    },
    {
      "cell_type": "code",
      "source": [
        "y_oversampled_scaled_pred=lr_model.predict(X_oversampled_scaled_test)\n",
        "\n",
        "# Create the confusion matrix\n",
        "cm = confusion_matrix(y_oversampled_scaled_test, y_oversampled_scaled_pred)\n",
        "disp = ConfusionMatrixDisplay(confusion_matrix=cm ,display_labels=[\"No failure\",\"TWF\", \"HDF\", \"PWF\", \"OSF\"])\n",
        "disp.plot(cmap=plt.cm.OrRd)\n",
        "plt.xlabel(\"Predicted labels\")\n",
        "plt.ylabel(\"Actual labels\")\n",
        "plt.show()"
      ],
      "metadata": {
        "colab": {
          "base_uri": "https://localhost:8080/",
          "height": 279
        },
        "id": "-zBvZaERepIz",
        "outputId": "078d004d-a898-47ee-c75c-2e49c266511b"
      },
      "execution_count": 105,
      "outputs": [
        {
          "output_type": "display_data",
          "data": {
            "text/plain": [
              "<Figure size 432x288 with 2 Axes>"
            ],
            "image/png": "[encoded data removed]"
          },
          "metadata": {
            "needs_background": "light"
          }
        }
      ]
    },
    {
      "cell_type": "code",
      "source": [
        "print(classification_report(y_oversampled_scaled_test, y_oversampled_scaled_pred, digits=4))\n",
        "# Plotting the ROC curve and calculating the AUC\n",
        "# get false and true positive rates\n",
        "y_oversampled_scaled_pred_prob=classifier.predict_proba(X_oversampled_scaled_test)\n",
        "auc_score = roc_auc_score(y_oversampled_scaled_test, y_oversampled_scaled_pred_prob, multi_class =\"ovo\")\n",
        "print(\"AUC: \", auc_score)"
      ],
      "metadata": {
        "colab": {
          "base_uri": "https://localhost:8080/"
        },
        "id": "e783r73SjUIK",
        "outputId": "857e15b2-2917-45a7-8061-b7fd235c65b3"
      },
      "execution_count": 106,
      "outputs": [
        {
          "output_type": "stream",
          "name": "stdout",
          "text": [
            "              precision    recall  f1-score   support\n",
            "\n",
            "           0     0.9983    0.9290    0.9624      1930\n",
            "           1     0.0833    0.7778    0.1505         9\n",
            "           2     0.3519    0.9500    0.5135        20\n",
            "           3     0.5862    0.9444    0.7234        18\n",
            "           4     0.6216    1.0000    0.7667        23\n",
            "\n",
            "    accuracy                         0.9295      2000\n",
            "   macro avg     0.5283    0.9202    0.6233      2000\n",
            "weighted avg     0.9797    0.9295    0.9499      2000\n",
            "\n",
            "AUC:  0.9541164269980726\n"
          ]
        }
      ]
    },
    {
      "cell_type": "code",
      "source": [
        "accuracy = accuracy_score(y_oversampled_scaled_test,y_oversampled_scaled_pred)\n",
        "recall = recall_score(y_oversampled_scaled_test,y_oversampled_scaled_pred, average='weighted')\n",
        "precision = precision_score(y_oversampled_scaled_test,y_oversampled_scaled_pred, average='weighted')\n",
        "f1_sc = f1_score(y_oversampled_scaled_test,y_oversampled_scaled_pred, average='weighted')\n",
        "\n",
        "auc = roc_auc_score(y_oversampled_scaled_test, classifier.predict_proba(X_oversampled_scaled_test), multi_class =\"ovo\", average='weighted')\n",
        "model_eval_metrics.loc['GS-Oversampled-Logistic-Reg'] = [accuracy, recall, precision, f1_sc, auc]\n",
        "model_eval_metrics.tail(-4)"
      ],
      "metadata": {
        "colab": {
          "base_uri": "https://localhost:8080/",
          "height": 175
        },
        "id": "Ift0HgQx-nh4",
        "outputId": "f5e779a6-0b18-4e25-ed7d-4dea5bf02599"
      },
      "execution_count": 107,
      "outputs": [
        {
          "output_type": "execute_result",
          "data": {
            "text/plain": [
              "                             Accuracy  Recall  Precision  F1-Score  AUC score\n",
              "Base-Logistric-Reg             0.9655  0.9655   0.950123  0.955899   0.505267\n",
              "Scaled-Logistic-Reg            0.9750  0.9750   0.968661  0.970115   0.917268\n",
              "Oversampled-Logistic-Reg       0.9265  0.9265   0.979426  0.947692   0.953226\n",
              "GS-Oversampled-Logistic-Reg    0.9295  0.9295   0.979706  0.949881   0.953226"
            ],
            "text/html": [
              "\n",
              "  <div id=\"df-7571939d-3556-4ed2-8239-668b97391f26\">\n",
              "    <div class=\"colab-df-container\">\n",
              "      <div>\n",
              "<style scoped>\n",
              "    .dataframe tbody tr th:only-of-type {\n",
              "        vertical-align: middle;\n",
              "    }\n",
              "\n",
              "    .dataframe tbody tr th {\n",
              "        vertical-align: top;\n",
              "    }\n",
              "\n",
              "    .dataframe thead th {\n",
              "        text-align: right;\n",
              "    }\n",
              "</style>\n",
              "<table border=\"1\" class=\"dataframe\">\n",
              "  <thead>\n",
              "    <tr style=\"text-align: right;\">\n",
              "      <th></th>\n",
              "      <th>Accuracy</th>\n",
              "      <th>Recall</th>\n",
              "      <th>Precision</th>\n",
              "      <th>F1-Score</th>\n",
              "      <th>AUC score</th>\n",
              "    </tr>\n",
              "  </thead>\n",
              "  <tbody>\n",
              "    <tr>\n",
              "      <th>Base-Logistric-Reg</th>\n",
              "      <td>0.9655</td>\n",
              "      <td>0.9655</td>\n",
              "      <td>0.950123</td>\n",
              "      <td>0.955899</td>\n",
              "      <td>0.505267</td>\n",
              "    </tr>\n",
              "    <tr>\n",
              "      <th>Scaled-Logistic-Reg</th>\n",
              "      <td>0.9750</td>\n",
              "      <td>0.9750</td>\n",
              "      <td>0.968661</td>\n",
              "      <td>0.970115</td>\n",
              "      <td>0.917268</td>\n",
              "    </tr>\n",
              "    <tr>\n",
              "      <th>Oversampled-Logistic-Reg</th>\n",
              "      <td>0.9265</td>\n",
              "      <td>0.9265</td>\n",
              "      <td>0.979426</td>\n",
              "      <td>0.947692</td>\n",
              "      <td>0.953226</td>\n",
              "    </tr>\n",
              "    <tr>\n",
              "      <th>GS-Oversampled-Logistic-Reg</th>\n",
              "      <td>0.9295</td>\n",
              "      <td>0.9295</td>\n",
              "      <td>0.979706</td>\n",
              "      <td>0.949881</td>\n",
              "      <td>0.953226</td>\n",
              "    </tr>\n",
              "  </tbody>\n",
              "</table>\n",
              "</div>\n",
              "      <button class=\"colab-df-convert\" onclick=\"convertToInteractive('df-7571939d-3556-4ed2-8239-668b97391f26')\"\n",
              "              title=\"Convert this dataframe to an interactive table.\"\n",
              "              style=\"display:none;\">\n",
              "        \n",
              "  <svg xmlns=\"http://www.w3.org/2000/svg\" height=\"24px\"viewBox=\"0 0 24 24\"\n",
              "       width=\"24px\">\n",
              "    <path d=\"M0 0h24v24H0V0z\" fill=\"none\"/>\n",
              "    <path d=\"M18.56 5.44l.94 2.06.94-2.06 2.06-.94-2.06-.94-.94-2.06-.94 2.06-2.06.94zm-11 1L8.5 8.5l.94-2.06 2.06-.94-2.06-.94L8.5 2.5l-.94 2.06-2.06.94zm10 10l.94 2.06.94-2.06 2.06-.94-2.06-.94-.94-2.06-.94 2.06-2.06.94z\"/><path d=\"M17.41 7.96l-1.37-1.37c-.4-.4-.92-.59-1.43-.59-.52 0-1.04.2-1.43.59L10.3 9.45l-7.72 7.72c-.78.78-.78 2.05 0 2.83L4 21.41c.39.39.9.59 1.41.59.51 0 1.02-.2 1.41-.59l7.78-7.78 2.81-2.81c.8-.78.8-2.07 0-2.86zM5.41 20L4 18.59l7.72-7.72 1.47 1.35L5.41 20z\"/>\n",
              "  </svg>\n",
              "      </button>\n",
              "      \n",
              "  <style>\n",
              "    .colab-df-container {\n",
              "      display:flex;\n",
              "      flex-wrap:wrap;\n",
              "      gap: 12px;\n",
              "    }\n",
              "\n",
              "    .colab-df-convert {\n",
              "      background-color: #E8F0FE;\n",
              "      border: none;\n",
              "      border-radius: 50%;\n",
              "      cursor: pointer;\n",
              "      display: none;\n",
              "      fill: #1967D2;\n",
              "      height: 32px;\n",
              "      padding: 0 0 0 0;\n",
              "      width: 32px;\n",
              "    }\n",
              "\n",
              "    .colab-df-convert:hover {\n",
              "      background-color: #E2EBFA;\n",
              "      box-shadow: 0px 1px 2px rgba(60, 64, 67, 0.3), 0px 1px 3px 1px rgba(60, 64, 67, 0.15);\n",
              "      fill: #174EA6;\n",
              "    }\n",
              "\n",
              "    [theme=dark] .colab-df-convert {\n",
              "      background-color: #3B4455;\n",
              "      fill: #D2E3FC;\n",
              "    }\n",
              "\n",
              "    [theme=dark] .colab-df-convert:hover {\n",
              "      background-color: #434B5C;\n",
              "      box-shadow: 0px 1px 3px 1px rgba(0, 0, 0, 0.15);\n",
              "      filter: drop-shadow(0px 1px 2px rgba(0, 0, 0, 0.3));\n",
              "      fill: #FFFFFF;\n",
              "    }\n",
              "  </style>\n",
              "\n",
              "      <script>\n",
              "        const buttonEl =\n",
              "          document.querySelector('#df-7571939d-3556-4ed2-8239-668b97391f26 button.colab-df-convert');\n",
              "        buttonEl.style.display =\n",
              "          google.colab.kernel.accessAllowed ? 'block' : 'none';\n",
              "\n",
              "        async function convertToInteractive(key) {\n",
              "          const element = document.querySelector('#df-7571939d-3556-4ed2-8239-668b97391f26');\n",
              "          const dataTable =\n",
              "            await google.colab.kernel.invokeFunction('convertToInteractive',\n",
              "                                                     [key], {});\n",
              "          if (!dataTable) return;\n",
              "\n",
              "          const docLinkHtml = 'Like what you see? Visit the ' +\n",
              "            '<a target=\"_blank\" href=https://colab.research.google.com/notebooks/data_table.ipynb>data table notebook</a>'\n",
              "            + ' to learn more about interactive tables.';\n",
              "          element.innerHTML = '';\n",
              "          dataTable['output_type'] = 'display_data';\n",
              "          await google.colab.output.renderOutput(dataTable, element);\n",
              "          const docLink = document.createElement('div');\n",
              "          docLink.innerHTML = docLinkHtml;\n",
              "          element.appendChild(docLink);\n",
              "        }\n",
              "      </script>\n",
              "    </div>\n",
              "  </div>\n",
              "  "
            ]
          },
          "metadata": {},
          "execution_count": 107
        }
      ]
    },
    {
      "cell_type": "markdown",
      "source": [
        "## KNN"
      ],
      "metadata": {
        "id": "SaYCZI0Q9zvU"
      }
    },
    {
      "cell_type": "markdown",
      "source": [
        "### Base Model"
      ],
      "metadata": {
        "id": "c9jXkrny-KPp"
      }
    },
    {
      "cell_type": "code",
      "source": [
        "from sklearn.neighbors import KNeighborsClassifier\n",
        "knn = KNeighborsClassifier(n_neighbors=3)\n",
        "knn.fit(X_train,y_train)"
      ],
      "metadata": {
        "colab": {
          "base_uri": "https://localhost:8080/"
        },
        "outputId": "0ee2ab67-f416-4d54-e944-2e03ad4077c5",
        "id": "tkgNtu_Q-KPq"
      },
      "execution_count": 108,
      "outputs": [
        {
          "output_type": "execute_result",
          "data": {
            "text/plain": [
              "KNeighborsClassifier(n_neighbors=3)"
            ]
          },
          "metadata": {},
          "execution_count": 108
        }
      ]
    },
    {
      "cell_type": "code",
      "source": [
        "y_pred = knn.predict(X_test)\n",
        "accuracy_score(y_test, y_pred)"
      ],
      "metadata": {
        "colab": {
          "base_uri": "https://localhost:8080/"
        },
        "outputId": "8f99f8f7-ef6b-4eb9-82ca-61a04e56ef3d",
        "id": "6fyncfxz-KPq"
      },
      "execution_count": 109,
      "outputs": [
        {
          "output_type": "execute_result",
          "data": {
            "text/plain": [
              "0.967"
            ]
          },
          "metadata": {},
          "execution_count": 109
        }
      ]
    },
    {
      "cell_type": "code",
      "source": [
        "print(classification_report(y_test,y_pred, digits=4))"
      ],
      "metadata": {
        "colab": {
          "base_uri": "https://localhost:8080/"
        },
        "outputId": "b8d014b1-c4df-4801-8cc3-b1f309c7aac1",
        "id": "a_h0OJFI-KPr"
      },
      "execution_count": 110,
      "outputs": [
        {
          "output_type": "stream",
          "name": "stdout",
          "text": [
            "              precision    recall  f1-score   support\n",
            "\n",
            "           0     0.9726    0.9938    0.9831      1930\n",
            "           1     0.0000    0.0000    0.0000         9\n",
            "           2     0.0000    0.0000    0.0000        20\n",
            "           3     0.7500    0.3333    0.4615        18\n",
            "           4     0.7692    0.4348    0.5556        23\n",
            "\n",
            "    accuracy                         0.9670      2000\n",
            "   macro avg     0.4984    0.3524    0.4000      2000\n",
            "weighted avg     0.9542    0.9670    0.9592      2000\n",
            "\n"
          ]
        }
      ]
    },
    {
      "cell_type": "code",
      "source": [
        "accuracy = accuracy_score(y_test, y_pred)\n",
        "recall = recall_score(y_test, y_pred, average='weighted')\n",
        "precision = precision_score(y_test, y_pred, average='weighted')\n",
        "f1_sc = f1_score(y_test, y_pred, average='weighted')\n",
        "\n",
        "auc = roc_auc_score(y_test, classifier.predict_proba(X_test), multi_class =\"ovo\", average='weighted')\n",
        "model_eval_metrics.loc['Base-KNN'] = [accuracy, recall, precision, f1_sc, auc]"
      ],
      "metadata": {
        "id": "mDFZxI-gBCCs"
      },
      "execution_count": 111,
      "outputs": []
    },
    {
      "cell_type": "markdown",
      "source": [
        "### Scaled"
      ],
      "metadata": {
        "id": "JbqI60uQ-KPr"
      }
    },
    {
      "cell_type": "code",
      "source": [
        "knn.fit(X_scaled_train,y_scaled_train)"
      ],
      "metadata": {
        "colab": {
          "base_uri": "https://localhost:8080/"
        },
        "outputId": "4cc4562e-e906-4b0f-d8fc-1cd901c739b4",
        "id": "E0jyOpYV-KPr"
      },
      "execution_count": 112,
      "outputs": [
        {
          "output_type": "execute_result",
          "data": {
            "text/plain": [
              "KNeighborsClassifier(n_neighbors=3)"
            ]
          },
          "metadata": {},
          "execution_count": 112
        }
      ]
    },
    {
      "cell_type": "code",
      "source": [
        "y_scaled_pred = knn.predict(X_scaled_test)"
      ],
      "metadata": {
        "id": "FihMpwuy-KPr"
      },
      "execution_count": 113,
      "outputs": []
    },
    {
      "cell_type": "code",
      "source": [
        "print(classification_report(y_scaled_test,y_scaled_pred, digits=4))"
      ],
      "metadata": {
        "colab": {
          "base_uri": "https://localhost:8080/"
        },
        "outputId": "dfcc33d4-52fd-4ace-9921-65cd6d00ac05",
        "id": "jbk7r5Ld-KPr"
      },
      "execution_count": 114,
      "outputs": [
        {
          "output_type": "stream",
          "name": "stdout",
          "text": [
            "              precision    recall  f1-score   support\n",
            "\n",
            "           0     0.9775    0.9917    0.9846      1930\n",
            "           1     0.0000    0.0000    0.0000         9\n",
            "           2     0.4286    0.3000    0.3529        20\n",
            "           3     0.7500    0.3333    0.4615        18\n",
            "           4     0.6500    0.5652    0.6047        23\n",
            "\n",
            "    accuracy                         0.9695      2000\n",
            "   macro avg     0.5612    0.4381    0.4807      2000\n",
            "weighted avg     0.9618    0.9695    0.9647      2000\n",
            "\n"
          ]
        }
      ]
    },
    {
      "cell_type": "code",
      "source": [
        "accuracy = accuracy_score(y_scaled_test,y_scaled_pred)\n",
        "recall = recall_score(y_scaled_test,y_scaled_pred, average='weighted')\n",
        "precision = precision_score(y_scaled_test,y_scaled_pred, average='weighted')\n",
        "f1_sc = f1_score(y_scaled_test,y_scaled_pred, average='weighted')\n",
        "\n",
        "auc = roc_auc_score(y_scaled_test, classifier.predict_proba(X_scaled_test), multi_class =\"ovo\", average='weighted')\n",
        "model_eval_metrics.loc['Scaled-KNN'] = [accuracy, recall, precision, f1_sc, auc]"
      ],
      "metadata": {
        "id": "zQVkQt2GAuhx"
      },
      "execution_count": 115,
      "outputs": []
    },
    {
      "cell_type": "markdown",
      "source": [
        "### Oversampled and Scaled"
      ],
      "metadata": {
        "id": "LEXt9zCC-KPs"
      }
    },
    {
      "cell_type": "code",
      "source": [
        "knn.fit(X_oversampled_scaled_train,y_oversampled_scaled_train)"
      ],
      "metadata": {
        "colab": {
          "base_uri": "https://localhost:8080/"
        },
        "outputId": "4fdeb27b-696d-41af-c314-e572d6812a53",
        "id": "VD_oSLBD-KPs"
      },
      "execution_count": 116,
      "outputs": [
        {
          "output_type": "execute_result",
          "data": {
            "text/plain": [
              "KNeighborsClassifier(n_neighbors=3)"
            ]
          },
          "metadata": {},
          "execution_count": 116
        }
      ]
    },
    {
      "cell_type": "code",
      "source": [
        "y_oversampled_scaled_pred = knn.predict(X_oversampled_scaled_test)"
      ],
      "metadata": {
        "id": "bvEs4zjS-KPs"
      },
      "execution_count": 117,
      "outputs": []
    },
    {
      "cell_type": "code",
      "source": [
        "print(classification_report(y_oversampled_scaled_test,y_oversampled_scaled_pred, digits=4))"
      ],
      "metadata": {
        "colab": {
          "base_uri": "https://localhost:8080/"
        },
        "outputId": "217231dd-4ced-453d-977e-8c8eda7a0df5",
        "id": "JOLaPSuL-KPs"
      },
      "execution_count": 118,
      "outputs": [
        {
          "output_type": "stream",
          "name": "stdout",
          "text": [
            "              precision    recall  f1-score   support\n",
            "\n",
            "           0     0.9956    0.9487    0.9716      1930\n",
            "           1     0.0962    0.5556    0.1639         9\n",
            "           2     0.4762    1.0000    0.6452        20\n",
            "           3     0.5600    0.7778    0.6512        18\n",
            "           4     0.5238    0.9565    0.6769        23\n",
            "\n",
            "    accuracy                         0.9460      2000\n",
            "   macro avg     0.5304    0.8477    0.6218      2000\n",
            "weighted avg     0.9771    0.9460    0.9584      2000\n",
            "\n"
          ]
        }
      ]
    },
    {
      "cell_type": "code",
      "source": [
        "accuracy = accuracy_score(y_oversampled_scaled_test,y_oversampled_scaled_pred)\n",
        "recall = recall_score(y_oversampled_scaled_test,y_oversampled_scaled_pred, average='weighted')\n",
        "precision = precision_score(y_oversampled_scaled_test,y_oversampled_scaled_pred, average='weighted')\n",
        "f1_sc = f1_score(y_oversampled_scaled_test,y_oversampled_scaled_pred, average='weighted')\n",
        "\n",
        "auc = roc_auc_score(y_oversampled_scaled_test, classifier.predict_proba(X_oversampled_scaled_test), multi_class =\"ovo\", average='weighted')\n",
        "model_eval_metrics.loc['Oversampled-KNN'] = [accuracy, recall, precision, f1_sc, auc]"
      ],
      "metadata": {
        "id": "1NE0bUtyAGHU"
      },
      "execution_count": 119,
      "outputs": []
    },
    {
      "cell_type": "code",
      "source": [
        "k_range = list(range(1, 31))\n",
        "param_grid = dict(n_neighbors=k_range)\n",
        "knn_classifier = KNeighborsClassifier()  \n",
        "\n",
        "grid = GridSearchCV(knn_classifier, param_grid, cv=10, scoring='accuracy', return_train_score=False,verbose=5)\n",
        "\n",
        "knn_grid = grid.fit(X_oversampled_scaled_train,y_oversampled_scaled_train)\n",
        "\n",
        "print(\"tuned hyperparameters :(best parameters) \",knn_grid.best_params_)\n",
        "print(\"accuracy :\",knn_grid.best_score_)"
      ],
      "metadata": {
        "colab": {
          "base_uri": "https://localhost:8080/"
        },
        "outputId": "b7643b56-caa1-4632-c29f-07ae1d12940b",
        "id": "S2rHX-Xc-KPt"
      },
      "execution_count": 120,
      "outputs": [
        {
          "output_type": "stream",
          "name": "stdout",
          "text": [
            "Fitting 10 folds for each of 30 candidates, totalling 300 fits\n",
            "[CV 1/10] END ....................n_neighbors=1;, score=0.978 total time=   0.1s\n",
            "[CV 2/10] END ....................n_neighbors=1;, score=0.982 total time=   0.1s\n",
            "[CV 3/10] END ....................n_neighbors=1;, score=0.988 total time=   0.1s\n",
            "[CV 4/10] END ....................n_neighbors=1;, score=0.981 total time=   0.1s\n",
            "[CV 5/10] END ....................n_neighbors=1;, score=0.983 total time=   0.1s\n",
            "[CV 6/10] END ....................n_neighbors=1;, score=0.986 total time=   0.1s\n",
            "[CV 7/10] END ....................n_neighbors=1;, score=0.977 total time=   0.1s\n",
            "[CV 8/10] END ....................n_neighbors=1;, score=0.988 total time=   0.1s\n",
            "[CV 9/10] END ....................n_neighbors=1;, score=0.987 total time=   0.1s\n",
            "[CV 10/10] END ...................n_neighbors=1;, score=0.986 total time=   0.1s\n",
            "[CV 1/10] END ....................n_neighbors=2;, score=0.979 total time=   0.1s\n",
            "[CV 2/10] END ....................n_neighbors=2;, score=0.981 total time=   0.1s\n",
            "[CV 3/10] END ....................n_neighbors=2;, score=0.988 total time=   0.1s\n",
            "[CV 4/10] END ....................n_neighbors=2;, score=0.979 total time=   0.1s\n",
            "[CV 5/10] END ....................n_neighbors=2;, score=0.981 total time=   0.1s\n",
            "[CV 6/10] END ....................n_neighbors=2;, score=0.987 total time=   0.1s\n",
            "[CV 7/10] END ....................n_neighbors=2;, score=0.977 total time=   0.1s\n",
            "[CV 8/10] END ....................n_neighbors=2;, score=0.987 total time=   0.1s\n",
            "[CV 9/10] END ....................n_neighbors=2;, score=0.987 total time=   0.1s\n",
            "[CV 10/10] END ...................n_neighbors=2;, score=0.984 total time=   0.1s\n",
            "[CV 1/10] END ....................n_neighbors=3;, score=0.973 total time=   0.1s\n",
            "[CV 2/10] END ....................n_neighbors=3;, score=0.976 total time=   0.1s\n",
            "[CV 3/10] END ....................n_neighbors=3;, score=0.976 total time=   0.1s\n",
            "[CV 4/10] END ....................n_neighbors=3;, score=0.974 total time=   0.1s\n",
            "[CV 5/10] END ....................n_neighbors=3;, score=0.980 total time=   0.1s\n",
            "[CV 6/10] END ....................n_neighbors=3;, score=0.975 total time=   0.1s\n",
            "[CV 7/10] END ....................n_neighbors=3;, score=0.972 total time=   0.1s\n",
            "[CV 8/10] END ....................n_neighbors=3;, score=0.982 total time=   0.1s\n",
            "[CV 9/10] END ....................n_neighbors=3;, score=0.978 total time=   0.1s\n",
            "[CV 10/10] END ...................n_neighbors=3;, score=0.979 total time=   0.1s\n",
            "[CV 1/10] END ....................n_neighbors=4;, score=0.977 total time=   0.1s\n",
            "[CV 2/10] END ....................n_neighbors=4;, score=0.978 total time=   0.1s\n",
            "[CV 3/10] END ....................n_neighbors=4;, score=0.978 total time=   0.1s\n",
            "[CV 4/10] END ....................n_neighbors=4;, score=0.973 total time=   0.1s\n",
            "[CV 5/10] END ....................n_neighbors=4;, score=0.981 total time=   0.1s\n",
            "[CV 6/10] END ....................n_neighbors=4;, score=0.976 total time=   0.1s\n",
            "[CV 7/10] END ....................n_neighbors=4;, score=0.973 total time=   0.1s\n",
            "[CV 8/10] END ....................n_neighbors=4;, score=0.982 total time=   0.1s\n",
            "[CV 9/10] END ....................n_neighbors=4;, score=0.978 total time=   0.1s\n",
            "[CV 10/10] END ...................n_neighbors=4;, score=0.981 total time=   0.1s\n",
            "[CV 1/10] END ....................n_neighbors=5;, score=0.968 total time=   0.1s\n",
            "[CV 2/10] END ....................n_neighbors=5;, score=0.972 total time=   0.1s\n",
            "[CV 3/10] END ....................n_neighbors=5;, score=0.970 total time=   0.1s\n",
            "[CV 4/10] END ....................n_neighbors=5;, score=0.969 total time=   0.1s\n",
            "[CV 5/10] END ....................n_neighbors=5;, score=0.973 total time=   0.1s\n",
            "[CV 6/10] END ....................n_neighbors=5;, score=0.968 total time=   0.1s\n",
            "[CV 7/10] END ....................n_neighbors=5;, score=0.968 total time=   0.1s\n",
            "[CV 8/10] END ....................n_neighbors=5;, score=0.976 total time=   0.1s\n",
            "[CV 9/10] END ....................n_neighbors=5;, score=0.973 total time=   0.1s\n",
            "[CV 10/10] END ...................n_neighbors=5;, score=0.972 total time=   0.1s\n",
            "[CV 1/10] END ....................n_neighbors=6;, score=0.971 total time=   0.1s\n",
            "[CV 2/10] END ....................n_neighbors=6;, score=0.974 total time=   0.1s\n",
            "[CV 3/10] END ....................n_neighbors=6;, score=0.972 total time=   0.1s\n",
            "[CV 4/10] END ....................n_neighbors=6;, score=0.970 total time=   0.1s\n",
            "[CV 5/10] END ....................n_neighbors=6;, score=0.975 total time=   0.1s\n",
            "[CV 6/10] END ....................n_neighbors=6;, score=0.969 total time=   0.1s\n",
            "[CV 7/10] END ....................n_neighbors=6;, score=0.971 total time=   0.1s\n",
            "[CV 8/10] END ....................n_neighbors=6;, score=0.976 total time=   0.1s\n",
            "[CV 9/10] END ....................n_neighbors=6;, score=0.973 total time=   0.1s\n",
            "[CV 10/10] END ...................n_neighbors=6;, score=0.973 total time=   0.1s\n",
            "[CV 1/10] END ....................n_neighbors=7;, score=0.964 total time=   0.1s\n",
            "[CV 2/10] END ....................n_neighbors=7;, score=0.967 total time=   0.1s\n",
            "[CV 3/10] END ....................n_neighbors=7;, score=0.964 total time=   0.1s\n",
            "[CV 4/10] END ....................n_neighbors=7;, score=0.966 total time=   0.1s\n",
            "[CV 5/10] END ....................n_neighbors=7;, score=0.968 total time=   0.1s\n",
            "[CV 6/10] END ....................n_neighbors=7;, score=0.964 total time=   0.1s\n",
            "[CV 7/10] END ....................n_neighbors=7;, score=0.962 total time=   0.1s\n",
            "[CV 8/10] END ....................n_neighbors=7;, score=0.974 total time=   0.1s\n",
            "[CV 9/10] END ....................n_neighbors=7;, score=0.969 total time=   0.1s\n",
            "[CV 10/10] END ...................n_neighbors=7;, score=0.970 total time=   0.1s\n",
            "[CV 1/10] END ....................n_neighbors=8;, score=0.965 total time=   0.1s\n",
            "[CV 2/10] END ....................n_neighbors=8;, score=0.968 total time=   0.1s\n",
            "[CV 3/10] END ....................n_neighbors=8;, score=0.966 total time=   0.1s\n",
            "[CV 4/10] END ....................n_neighbors=8;, score=0.966 total time=   0.1s\n",
            "[CV 5/10] END ....................n_neighbors=8;, score=0.969 total time=   0.1s\n",
            "[CV 6/10] END ....................n_neighbors=8;, score=0.965 total time=   0.1s\n",
            "[CV 7/10] END ....................n_neighbors=8;, score=0.965 total time=   0.1s\n",
            "[CV 8/10] END ....................n_neighbors=8;, score=0.975 total time=   0.1s\n",
            "[CV 9/10] END ....................n_neighbors=8;, score=0.971 total time=   0.1s\n",
            "[CV 10/10] END ...................n_neighbors=8;, score=0.971 total time=   0.1s\n",
            "[CV 1/10] END ....................n_neighbors=9;, score=0.959 total time=   0.1s\n",
            "[CV 2/10] END ....................n_neighbors=9;, score=0.964 total time=   0.1s\n",
            "[CV 3/10] END ....................n_neighbors=9;, score=0.961 total time=   0.1s\n",
            "[CV 4/10] END ....................n_neighbors=9;, score=0.961 total time=   0.1s\n",
            "[CV 5/10] END ....................n_neighbors=9;, score=0.963 total time=   0.1s\n",
            "[CV 6/10] END ....................n_neighbors=9;, score=0.961 total time=   0.1s\n",
            "[CV 7/10] END ....................n_neighbors=9;, score=0.959 total time=   0.1s\n",
            "[CV 8/10] END ....................n_neighbors=9;, score=0.968 total time=   0.1s\n",
            "[CV 9/10] END ....................n_neighbors=9;, score=0.966 total time=   0.1s\n",
            "[CV 10/10] END ...................n_neighbors=9;, score=0.968 total time=   0.1s\n",
            "[CV 1/10] END ...................n_neighbors=10;, score=0.961 total time=   0.1s\n",
            "[CV 2/10] END ...................n_neighbors=10;, score=0.965 total time=   0.1s\n",
            "[CV 3/10] END ...................n_neighbors=10;, score=0.963 total time=   0.1s\n",
            "[CV 4/10] END ...................n_neighbors=10;, score=0.963 total time=   0.1s\n",
            "[CV 5/10] END ...................n_neighbors=10;, score=0.966 total time=   0.1s\n",
            "[CV 6/10] END ...................n_neighbors=10;, score=0.963 total time=   0.1s\n",
            "[CV 7/10] END ...................n_neighbors=10;, score=0.963 total time=   0.1s\n",
            "[CV 8/10] END ...................n_neighbors=10;, score=0.969 total time=   0.1s\n",
            "[CV 9/10] END ...................n_neighbors=10;, score=0.965 total time=   0.1s\n",
            "[CV 10/10] END ..................n_neighbors=10;, score=0.969 total time=   0.1s\n",
            "[CV 1/10] END ...................n_neighbors=11;, score=0.953 total time=   0.1s\n",
            "[CV 2/10] END ...................n_neighbors=11;, score=0.958 total time=   0.1s\n",
            "[CV 3/10] END ...................n_neighbors=11;, score=0.957 total time=   0.1s\n",
            "[CV 4/10] END ...................n_neighbors=11;, score=0.961 total time=   0.1s\n",
            "[CV 5/10] END ...................n_neighbors=11;, score=0.958 total time=   0.1s\n",
            "[CV 6/10] END ...................n_neighbors=11;, score=0.960 total time=   0.1s\n",
            "[CV 7/10] END ...................n_neighbors=11;, score=0.956 total time=   0.1s\n",
            "[CV 8/10] END ...................n_neighbors=11;, score=0.964 total time=   0.1s\n",
            "[CV 9/10] END ...................n_neighbors=11;, score=0.963 total time=   0.1s\n",
            "[CV 10/10] END ..................n_neighbors=11;, score=0.963 total time=   0.1s\n",
            "[CV 1/10] END ...................n_neighbors=12;, score=0.955 total time=   0.1s\n",
            "[CV 2/10] END ...................n_neighbors=12;, score=0.962 total time=   0.1s\n",
            "[CV 3/10] END ...................n_neighbors=12;, score=0.959 total time=   0.1s\n",
            "[CV 4/10] END ...................n_neighbors=12;, score=0.959 total time=   0.1s\n",
            "[CV 5/10] END ...................n_neighbors=12;, score=0.961 total time=   0.1s\n",
            "[CV 6/10] END ...................n_neighbors=12;, score=0.961 total time=   0.1s\n",
            "[CV 7/10] END ...................n_neighbors=12;, score=0.959 total time=   0.1s\n",
            "[CV 8/10] END ...................n_neighbors=12;, score=0.966 total time=   0.1s\n",
            "[CV 9/10] END ...................n_neighbors=12;, score=0.963 total time=   0.1s\n",
            "[CV 10/10] END ..................n_neighbors=12;, score=0.964 total time=   0.1s\n",
            "[CV 1/10] END ...................n_neighbors=13;, score=0.952 total time=   0.1s\n",
            "[CV 2/10] END ...................n_neighbors=13;, score=0.959 total time=   0.1s\n",
            "[CV 3/10] END ...................n_neighbors=13;, score=0.952 total time=   0.1s\n",
            "[CV 4/10] END ...................n_neighbors=13;, score=0.959 total time=   0.1s\n",
            "[CV 5/10] END ...................n_neighbors=13;, score=0.954 total time=   0.1s\n",
            "[CV 6/10] END ...................n_neighbors=13;, score=0.958 total time=   0.1s\n",
            "[CV 7/10] END ...................n_neighbors=13;, score=0.954 total time=   0.1s\n",
            "[CV 8/10] END ...................n_neighbors=13;, score=0.963 total time=   0.1s\n",
            "[CV 9/10] END ...................n_neighbors=13;, score=0.960 total time=   0.1s\n",
            "[CV 10/10] END ..................n_neighbors=13;, score=0.961 total time=   0.2s\n",
            "[CV 1/10] END ...................n_neighbors=14;, score=0.954 total time=   0.2s\n",
            "[CV 2/10] END ...................n_neighbors=14;, score=0.960 total time=   0.2s\n",
            "[CV 3/10] END ...................n_neighbors=14;, score=0.955 total time=   0.2s\n",
            "[CV 4/10] END ...................n_neighbors=14;, score=0.959 total time=   0.2s\n",
            "[CV 5/10] END ...................n_neighbors=14;, score=0.958 total time=   0.1s\n",
            "[CV 6/10] END ...................n_neighbors=14;, score=0.959 total time=   0.2s\n",
            "[CV 7/10] END ...................n_neighbors=14;, score=0.955 total time=   0.2s\n",
            "[CV 8/10] END ...................n_neighbors=14;, score=0.964 total time=   0.2s\n",
            "[CV 9/10] END ...................n_neighbors=14;, score=0.960 total time=   0.1s\n",
            "[CV 10/10] END ..................n_neighbors=14;, score=0.963 total time=   0.2s\n",
            "[CV 1/10] END ...................n_neighbors=15;, score=0.949 total time=   0.2s\n",
            "[CV 2/10] END ...................n_neighbors=15;, score=0.956 total time=   0.2s\n",
            "[CV 3/10] END ...................n_neighbors=15;, score=0.952 total time=   0.2s\n",
            "[CV 4/10] END ...................n_neighbors=15;, score=0.956 total time=   0.1s\n",
            "[CV 5/10] END ...................n_neighbors=15;, score=0.952 total time=   0.1s\n",
            "[CV 6/10] END ...................n_neighbors=15;, score=0.958 total time=   0.1s\n",
            "[CV 7/10] END ...................n_neighbors=15;, score=0.951 total time=   0.1s\n",
            "[CV 8/10] END ...................n_neighbors=15;, score=0.961 total time=   0.1s\n",
            "[CV 9/10] END ...................n_neighbors=15;, score=0.956 total time=   0.1s\n",
            "[CV 10/10] END ..................n_neighbors=15;, score=0.960 total time=   0.1s\n",
            "[CV 1/10] END ...................n_neighbors=16;, score=0.950 total time=   0.1s\n",
            "[CV 2/10] END ...................n_neighbors=16;, score=0.957 total time=   0.1s\n",
            "[CV 3/10] END ...................n_neighbors=16;, score=0.953 total time=   0.1s\n",
            "[CV 4/10] END ...................n_neighbors=16;, score=0.957 total time=   0.1s\n",
            "[CV 5/10] END ...................n_neighbors=16;, score=0.954 total time=   0.1s\n",
            "[CV 6/10] END ...................n_neighbors=16;, score=0.959 total time=   0.1s\n",
            "[CV 7/10] END ...................n_neighbors=16;, score=0.953 total time=   0.1s\n",
            "[CV 8/10] END ...................n_neighbors=16;, score=0.961 total time=   0.1s\n",
            "[CV 9/10] END ...................n_neighbors=16;, score=0.957 total time=   0.1s\n",
            "[CV 10/10] END ..................n_neighbors=16;, score=0.962 total time=   0.1s\n",
            "[CV 1/10] END ...................n_neighbors=17;, score=0.946 total time=   0.1s\n",
            "[CV 2/10] END ...................n_neighbors=17;, score=0.953 total time=   0.1s\n",
            "[CV 3/10] END ...................n_neighbors=17;, score=0.948 total time=   0.1s\n",
            "[CV 4/10] END ...................n_neighbors=17;, score=0.955 total time=   0.1s\n",
            "[CV 5/10] END ...................n_neighbors=17;, score=0.948 total time=   0.1s\n",
            "[CV 6/10] END ...................n_neighbors=17;, score=0.956 total time=   0.1s\n",
            "[CV 7/10] END ...................n_neighbors=17;, score=0.951 total time=   0.1s\n",
            "[CV 8/10] END ...................n_neighbors=17;, score=0.957 total time=   0.1s\n",
            "[CV 9/10] END ...................n_neighbors=17;, score=0.952 total time=   0.1s\n",
            "[CV 10/10] END ..................n_neighbors=17;, score=0.958 total time=   0.1s\n",
            "[CV 1/10] END ...................n_neighbors=18;, score=0.946 total time=   0.1s\n",
            "[CV 2/10] END ...................n_neighbors=18;, score=0.955 total time=   0.1s\n",
            "[CV 3/10] END ...................n_neighbors=18;, score=0.949 total time=   0.1s\n",
            "[CV 4/10] END ...................n_neighbors=18;, score=0.956 total time=   0.1s\n",
            "[CV 5/10] END ...................n_neighbors=18;, score=0.949 total time=   0.1s\n",
            "[CV 6/10] END ...................n_neighbors=18;, score=0.956 total time=   0.1s\n",
            "[CV 7/10] END ...................n_neighbors=18;, score=0.951 total time=   0.1s\n",
            "[CV 8/10] END ...................n_neighbors=18;, score=0.960 total time=   0.1s\n",
            "[CV 9/10] END ...................n_neighbors=18;, score=0.953 total time=   0.1s\n",
            "[CV 10/10] END ..................n_neighbors=18;, score=0.960 total time=   0.1s\n",
            "[CV 1/10] END ...................n_neighbors=19;, score=0.944 total time=   0.1s\n",
            "[CV 2/10] END ...................n_neighbors=19;, score=0.952 total time=   0.1s\n",
            "[CV 3/10] END ...................n_neighbors=19;, score=0.945 total time=   0.1s\n",
            "[CV 4/10] END ...................n_neighbors=19;, score=0.952 total time=   0.1s\n",
            "[CV 5/10] END ...................n_neighbors=19;, score=0.945 total time=   0.1s\n",
            "[CV 6/10] END ...................n_neighbors=19;, score=0.955 total time=   0.1s\n",
            "[CV 7/10] END ...................n_neighbors=19;, score=0.949 total time=   0.1s\n",
            "[CV 8/10] END ...................n_neighbors=19;, score=0.957 total time=   0.1s\n",
            "[CV 9/10] END ...................n_neighbors=19;, score=0.951 total time=   0.1s\n",
            "[CV 10/10] END ..................n_neighbors=19;, score=0.958 total time=   0.1s\n",
            "[CV 1/10] END ...................n_neighbors=20;, score=0.945 total time=   0.1s\n",
            "[CV 2/10] END ...................n_neighbors=20;, score=0.952 total time=   0.1s\n",
            "[CV 3/10] END ...................n_neighbors=20;, score=0.947 total time=   0.1s\n",
            "[CV 4/10] END ...................n_neighbors=20;, score=0.952 total time=   0.1s\n",
            "[CV 5/10] END ...................n_neighbors=20;, score=0.947 total time=   0.1s\n",
            "[CV 6/10] END ...................n_neighbors=20;, score=0.956 total time=   0.1s\n",
            "[CV 7/10] END ...................n_neighbors=20;, score=0.949 total time=   0.1s\n",
            "[CV 8/10] END ...................n_neighbors=20;, score=0.957 total time=   0.1s\n",
            "[CV 9/10] END ...................n_neighbors=20;, score=0.953 total time=   0.1s\n",
            "[CV 10/10] END ..................n_neighbors=20;, score=0.959 total time=   0.1s\n",
            "[CV 1/10] END ...................n_neighbors=21;, score=0.940 total time=   0.1s\n",
            "[CV 2/10] END ...................n_neighbors=21;, score=0.947 total time=   0.1s\n",
            "[CV 3/10] END ...................n_neighbors=21;, score=0.943 total time=   0.1s\n",
            "[CV 4/10] END ...................n_neighbors=21;, score=0.950 total time=   0.1s\n",
            "[CV 5/10] END ...................n_neighbors=21;, score=0.943 total time=   0.1s\n",
            "[CV 6/10] END ...................n_neighbors=21;, score=0.952 total time=   0.1s\n",
            "[CV 7/10] END ...................n_neighbors=21;, score=0.945 total time=   0.1s\n",
            "[CV 8/10] END ...................n_neighbors=21;, score=0.954 total time=   0.1s\n",
            "[CV 9/10] END ...................n_neighbors=21;, score=0.949 total time=   0.1s\n",
            "[CV 10/10] END ..................n_neighbors=21;, score=0.956 total time=   0.1s\n",
            "[CV 1/10] END ...................n_neighbors=22;, score=0.942 total time=   0.1s\n",
            "[CV 2/10] END ...................n_neighbors=22;, score=0.948 total time=   0.1s\n",
            "[CV 3/10] END ...................n_neighbors=22;, score=0.945 total time=   0.1s\n",
            "[CV 4/10] END ...................n_neighbors=22;, score=0.950 total time=   0.1s\n",
            "[CV 5/10] END ...................n_neighbors=22;, score=0.944 total time=   0.1s\n",
            "[CV 6/10] END ...................n_neighbors=22;, score=0.955 total time=   0.1s\n",
            "[CV 7/10] END ...................n_neighbors=22;, score=0.945 total time=   0.1s\n",
            "[CV 8/10] END ...................n_neighbors=22;, score=0.955 total time=   0.1s\n",
            "[CV 9/10] END ...................n_neighbors=22;, score=0.951 total time=   0.1s\n",
            "[CV 10/10] END ..................n_neighbors=22;, score=0.958 total time=   0.1s\n",
            "[CV 1/10] END ...................n_neighbors=23;, score=0.940 total time=   0.1s\n",
            "[CV 2/10] END ...................n_neighbors=23;, score=0.946 total time=   0.1s\n",
            "[CV 3/10] END ...................n_neighbors=23;, score=0.941 total time=   0.1s\n",
            "[CV 4/10] END ...................n_neighbors=23;, score=0.948 total time=   0.1s\n",
            "[CV 5/10] END ...................n_neighbors=23;, score=0.941 total time=   0.1s\n",
            "[CV 6/10] END ...................n_neighbors=23;, score=0.951 total time=   0.1s\n",
            "[CV 7/10] END ...................n_neighbors=23;, score=0.943 total time=   0.1s\n",
            "[CV 8/10] END ...................n_neighbors=23;, score=0.953 total time=   0.1s\n",
            "[CV 9/10] END ...................n_neighbors=23;, score=0.948 total time=   0.1s\n",
            "[CV 10/10] END ..................n_neighbors=23;, score=0.956 total time=   0.1s\n",
            "[CV 1/10] END ...................n_neighbors=24;, score=0.943 total time=   0.1s\n",
            "[CV 2/10] END ...................n_neighbors=24;, score=0.946 total time=   0.1s\n",
            "[CV 3/10] END ...................n_neighbors=24;, score=0.943 total time=   0.1s\n",
            "[CV 4/10] END ...................n_neighbors=24;, score=0.950 total time=   0.1s\n",
            "[CV 5/10] END ...................n_neighbors=24;, score=0.945 total time=   0.1s\n",
            "[CV 6/10] END ...................n_neighbors=24;, score=0.953 total time=   0.1s\n",
            "[CV 7/10] END ...................n_neighbors=24;, score=0.943 total time=   0.1s\n",
            "[CV 8/10] END ...................n_neighbors=24;, score=0.954 total time=   0.1s\n",
            "[CV 9/10] END ...................n_neighbors=24;, score=0.949 total time=   0.1s\n",
            "[CV 10/10] END ..................n_neighbors=24;, score=0.957 total time=   0.1s\n",
            "[CV 1/10] END ...................n_neighbors=25;, score=0.940 total time=   0.1s\n",
            "[CV 2/10] END ...................n_neighbors=25;, score=0.945 total time=   0.1s\n",
            "[CV 3/10] END ...................n_neighbors=25;, score=0.940 total time=   0.1s\n",
            "[CV 4/10] END ...................n_neighbors=25;, score=0.948 total time=   0.1s\n",
            "[CV 5/10] END ...................n_neighbors=25;, score=0.937 total time=   0.1s\n",
            "[CV 6/10] END ...................n_neighbors=25;, score=0.949 total time=   0.1s\n",
            "[CV 7/10] END ...................n_neighbors=25;, score=0.942 total time=   0.1s\n",
            "[CV 8/10] END ...................n_neighbors=25;, score=0.952 total time=   0.1s\n",
            "[CV 9/10] END ...................n_neighbors=25;, score=0.948 total time=   0.1s\n",
            "[CV 10/10] END ..................n_neighbors=25;, score=0.954 total time=   0.1s\n",
            "[CV 1/10] END ...................n_neighbors=26;, score=0.942 total time=   0.1s\n",
            "[CV 2/10] END ...................n_neighbors=26;, score=0.943 total time=   0.1s\n",
            "[CV 3/10] END ...................n_neighbors=26;, score=0.941 total time=   0.1s\n",
            "[CV 4/10] END ...................n_neighbors=26;, score=0.948 total time=   0.1s\n",
            "[CV 5/10] END ...................n_neighbors=26;, score=0.941 total time=   0.1s\n",
            "[CV 6/10] END ...................n_neighbors=26;, score=0.952 total time=   0.1s\n",
            "[CV 7/10] END ...................n_neighbors=26;, score=0.942 total time=   0.1s\n",
            "[CV 8/10] END ...................n_neighbors=26;, score=0.954 total time=   0.1s\n",
            "[CV 9/10] END ...................n_neighbors=26;, score=0.950 total time=   0.1s\n",
            "[CV 10/10] END ..................n_neighbors=26;, score=0.954 total time=   0.1s\n",
            "[CV 1/10] END ...................n_neighbors=27;, score=0.940 total time=   0.1s\n",
            "[CV 2/10] END ...................n_neighbors=27;, score=0.941 total time=   0.1s\n",
            "[CV 3/10] END ...................n_neighbors=27;, score=0.941 total time=   0.1s\n",
            "[CV 4/10] END ...................n_neighbors=27;, score=0.946 total time=   0.1s\n",
            "[CV 5/10] END ...................n_neighbors=27;, score=0.937 total time=   0.1s\n",
            "[CV 6/10] END ...................n_neighbors=27;, score=0.950 total time=   0.1s\n",
            "[CV 7/10] END ...................n_neighbors=27;, score=0.939 total time=   0.1s\n",
            "[CV 8/10] END ...................n_neighbors=27;, score=0.951 total time=   0.1s\n",
            "[CV 9/10] END ...................n_neighbors=27;, score=0.947 total time=   0.1s\n",
            "[CV 10/10] END ..................n_neighbors=27;, score=0.952 total time=   0.1s\n",
            "[CV 1/10] END ...................n_neighbors=28;, score=0.940 total time=   0.1s\n",
            "[CV 2/10] END ...................n_neighbors=28;, score=0.941 total time=   0.1s\n",
            "[CV 3/10] END ...................n_neighbors=28;, score=0.940 total time=   0.1s\n",
            "[CV 4/10] END ...................n_neighbors=28;, score=0.947 total time=   0.1s\n",
            "[CV 5/10] END ...................n_neighbors=28;, score=0.937 total time=   0.1s\n",
            "[CV 6/10] END ...................n_neighbors=28;, score=0.951 total time=   0.1s\n",
            "[CV 7/10] END ...................n_neighbors=28;, score=0.941 total time=   0.1s\n",
            "[CV 8/10] END ...................n_neighbors=28;, score=0.951 total time=   0.1s\n",
            "[CV 9/10] END ...................n_neighbors=28;, score=0.948 total time=   0.1s\n",
            "[CV 10/10] END ..................n_neighbors=28;, score=0.952 total time=   0.1s\n",
            "[CV 1/10] END ...................n_neighbors=29;, score=0.935 total time=   0.1s\n",
            "[CV 2/10] END ...................n_neighbors=29;, score=0.939 total time=   0.1s\n",
            "[CV 3/10] END ...................n_neighbors=29;, score=0.937 total time=   0.1s\n",
            "[CV 4/10] END ...................n_neighbors=29;, score=0.943 total time=   0.1s\n",
            "[CV 5/10] END ...................n_neighbors=29;, score=0.936 total time=   0.1s\n",
            "[CV 6/10] END ...................n_neighbors=29;, score=0.949 total time=   0.1s\n",
            "[CV 7/10] END ...................n_neighbors=29;, score=0.937 total time=   0.1s\n",
            "[CV 8/10] END ...................n_neighbors=29;, score=0.947 total time=   0.1s\n",
            "[CV 9/10] END ...................n_neighbors=29;, score=0.947 total time=   0.1s\n",
            "[CV 10/10] END ..................n_neighbors=29;, score=0.950 total time=   0.1s\n",
            "[CV 1/10] END ...................n_neighbors=30;, score=0.935 total time=   0.1s\n",
            "[CV 2/10] END ...................n_neighbors=30;, score=0.939 total time=   0.1s\n",
            "[CV 3/10] END ...................n_neighbors=30;, score=0.936 total time=   0.1s\n",
            "[CV 4/10] END ...................n_neighbors=30;, score=0.944 total time=   0.1s\n",
            "[CV 5/10] END ...................n_neighbors=30;, score=0.936 total time=   0.1s\n",
            "[CV 6/10] END ...................n_neighbors=30;, score=0.950 total time=   0.1s\n",
            "[CV 7/10] END ...................n_neighbors=30;, score=0.938 total time=   0.1s\n",
            "[CV 8/10] END ...................n_neighbors=30;, score=0.950 total time=   0.1s\n",
            "[CV 9/10] END ...................n_neighbors=30;, score=0.948 total time=   0.1s\n",
            "[CV 10/10] END ..................n_neighbors=30;, score=0.951 total time=   0.1s\n",
            "tuned hyperparameters :(best parameters)  {'n_neighbors': 1}\n",
            "accuracy : 0.983557394002068\n"
          ]
        }
      ]
    },
    {
      "cell_type": "code",
      "source": [
        "knn_model=KNeighborsClassifier(n_neighbors=1)\n",
        "knn_model.fit(X_oversampled_scaled_train,y_oversampled_scaled_train)"
      ],
      "metadata": {
        "colab": {
          "base_uri": "https://localhost:8080/"
        },
        "outputId": "e1adadf1-22f4-496e-fd14-ec6c6f3e22c1",
        "id": "PfTa8D7c-KPt"
      },
      "execution_count": 121,
      "outputs": [
        {
          "output_type": "execute_result",
          "data": {
            "text/plain": [
              "KNeighborsClassifier(n_neighbors=1)"
            ]
          },
          "metadata": {},
          "execution_count": 121
        }
      ]
    },
    {
      "cell_type": "code",
      "source": [
        "y_oversampled_scaled_pred=knn_model.predict(X_oversampled_scaled_test)\n",
        "\n",
        "# Create the confusion matrix\n",
        "cm = confusion_matrix(y_oversampled_scaled_test, y_oversampled_scaled_pred)\n",
        "disp = ConfusionMatrixDisplay(confusion_matrix=cm ,display_labels=[\"No failure\",\"TWF\", \"HDF\", \"PWF\", \"OSF\"])\n",
        "disp.plot(cmap=plt.cm.OrRd)\n",
        "plt.xlabel(\"Predicted labels\")\n",
        "plt.ylabel(\"Actual labels\")\n",
        "plt.show()"
      ],
      "metadata": {
        "colab": {
          "base_uri": "https://localhost:8080/",
          "height": 279
        },
        "outputId": "01518d5e-48e1-4c00-c990-a2c4fb0798d9",
        "id": "_st5j3wO-KPt"
      },
      "execution_count": 122,
      "outputs": [
        {
          "output_type": "display_data",
          "data": {
            "text/plain": [
              "<Figure size 432x288 with 2 Axes>"
            ],
            "image/png": "[encoded data removed]"
          },
          "metadata": {
            "needs_background": "light"
          }
        }
      ]
    },
    {
      "cell_type": "code",
      "source": [
        "print(classification_report(y_oversampled_scaled_test, y_oversampled_scaled_pred, digits=4))\n",
        "# Plotting the ROC curve and calculating the AUC\n",
        "# get false and true positive rates\n",
        "y_oversampled_scaled_pred_prob=classifier.predict_proba(X_oversampled_scaled_test)\n",
        "auc_score = roc_auc_score(y_oversampled_scaled_test, y_oversampled_scaled_pred_prob, multi_class =\"ovo\")\n",
        "print(\"AUC: \", auc_score)"
      ],
      "metadata": {
        "colab": {
          "base_uri": "https://localhost:8080/"
        },
        "outputId": "5b9b79af-405c-4e3b-dd77-dfa89fac6e61",
        "id": "-ntjANXc-KPt"
      },
      "execution_count": 123,
      "outputs": [
        {
          "output_type": "stream",
          "name": "stdout",
          "text": [
            "              precision    recall  f1-score   support\n",
            "\n",
            "           0     0.9936    0.9653    0.9792      1930\n",
            "           1     0.1176    0.4444    0.1860         9\n",
            "           2     0.5000    0.9000    0.6429        20\n",
            "           3     0.6842    0.7222    0.7027        18\n",
            "           4     0.6111    0.9565    0.7458        23\n",
            "\n",
            "    accuracy                         0.9600      2000\n",
            "   macro avg     0.5813    0.7977    0.6513      2000\n",
            "weighted avg     0.9775    0.9600    0.9671      2000\n",
            "\n",
            "AUC:  0.9541164269980726\n"
          ]
        }
      ]
    },
    {
      "cell_type": "code",
      "source": [
        "accuracy = accuracy_score(y_oversampled_scaled_test,y_oversampled_scaled_pred)\n",
        "recall = recall_score(y_oversampled_scaled_test,y_oversampled_scaled_pred, average='weighted')\n",
        "precision = precision_score(y_oversampled_scaled_test,y_oversampled_scaled_pred, average='weighted')\n",
        "f1_sc = f1_score(y_oversampled_scaled_test,y_oversampled_scaled_pred, average='weighted')\n",
        "\n",
        "auc = roc_auc_score(y_oversampled_scaled_test, classifier.predict_proba(X_oversampled_scaled_test), multi_class =\"ovo\", average='weighted')\n",
        "model_eval_metrics.loc['GS-Oversampled-KNN'] = [accuracy, recall, precision, f1_sc, auc]\n",
        "model_eval_metrics.tail(-8)"
      ],
      "metadata": {
        "id": "FLx69Xn6APcm",
        "colab": {
          "base_uri": "https://localhost:8080/",
          "height": 175
        },
        "outputId": "57c45602-86bc-441e-bd2a-e13437e3a3fb"
      },
      "execution_count": 124,
      "outputs": [
        {
          "output_type": "execute_result",
          "data": {
            "text/plain": [
              "                    Accuracy  Recall  Precision  F1-Score  AUC score\n",
              "Base-KNN              0.9670  0.9670   0.954171  0.959220   0.505267\n",
              "Scaled-KNN            0.9695  0.9695   0.961825  0.964745   0.917268\n",
              "Oversampled-KNN       0.9460  0.9460   0.977060  0.958439   0.953226\n",
              "GS-Oversampled-KNN    0.9600  0.9600   0.977539  0.967131   0.953226"
            ],
            "text/html": [
              "\n",
              "  <div id=\"df-b223643a-5e2b-47e8-8790-f7f99e3c8e6f\">\n",
              "    <div class=\"colab-df-container\">\n",
              "      <div>\n",
              "<style scoped>\n",
              "    .dataframe tbody tr th:only-of-type {\n",
              "        vertical-align: middle;\n",
              "    }\n",
              "\n",
              "    .dataframe tbody tr th {\n",
              "        vertical-align: top;\n",
              "    }\n",
              "\n",
              "    .dataframe thead th {\n",
              "        text-align: right;\n",
              "    }\n",
              "</style>\n",
              "<table border=\"1\" class=\"dataframe\">\n",
              "  <thead>\n",
              "    <tr style=\"text-align: right;\">\n",
              "      <th></th>\n",
              "      <th>Accuracy</th>\n",
              "      <th>Recall</th>\n",
              "      <th>Precision</th>\n",
              "      <th>F1-Score</th>\n",
              "      <th>AUC score</th>\n",
              "    </tr>\n",
              "  </thead>\n",
              "  <tbody>\n",
              "    <tr>\n",
              "      <th>Base-KNN</th>\n",
              "      <td>0.9670</td>\n",
              "      <td>0.9670</td>\n",
              "      <td>0.954171</td>\n",
              "      <td>0.959220</td>\n",
              "      <td>0.505267</td>\n",
              "    </tr>\n",
              "    <tr>\n",
              "      <th>Scaled-KNN</th>\n",
              "      <td>0.9695</td>\n",
              "      <td>0.9695</td>\n",
              "      <td>0.961825</td>\n",
              "      <td>0.964745</td>\n",
              "      <td>0.917268</td>\n",
              "    </tr>\n",
              "    <tr>\n",
              "      <th>Oversampled-KNN</th>\n",
              "      <td>0.9460</td>\n",
              "      <td>0.9460</td>\n",
              "      <td>0.977060</td>\n",
              "      <td>0.958439</td>\n",
              "      <td>0.953226</td>\n",
              "    </tr>\n",
              "    <tr>\n",
              "      <th>GS-Oversampled-KNN</th>\n",
              "      <td>0.9600</td>\n",
              "      <td>0.9600</td>\n",
              "      <td>0.977539</td>\n",
              "      <td>0.967131</td>\n",
              "      <td>0.953226</td>\n",
              "    </tr>\n",
              "  </tbody>\n",
              "</table>\n",
              "</div>\n",
              "      <button class=\"colab-df-convert\" onclick=\"convertToInteractive('df-b223643a-5e2b-47e8-8790-f7f99e3c8e6f')\"\n",
              "              title=\"Convert this dataframe to an interactive table.\"\n",
              "              style=\"display:none;\">\n",
              "        \n",
              "  <svg xmlns=\"http://www.w3.org/2000/svg\" height=\"24px\"viewBox=\"0 0 24 24\"\n",
              "       width=\"24px\">\n",
              "    <path d=\"M0 0h24v24H0V0z\" fill=\"none\"/>\n",
              "    <path d=\"M18.56 5.44l.94 2.06.94-2.06 2.06-.94-2.06-.94-.94-2.06-.94 2.06-2.06.94zm-11 1L8.5 8.5l.94-2.06 2.06-.94-2.06-.94L8.5 2.5l-.94 2.06-2.06.94zm10 10l.94 2.06.94-2.06 2.06-.94-2.06-.94-.94-2.06-.94 2.06-2.06.94z\"/><path d=\"M17.41 7.96l-1.37-1.37c-.4-.4-.92-.59-1.43-.59-.52 0-1.04.2-1.43.59L10.3 9.45l-7.72 7.72c-.78.78-.78 2.05 0 2.83L4 21.41c.39.39.9.59 1.41.59.51 0 1.02-.2 1.41-.59l7.78-7.78 2.81-2.81c.8-.78.8-2.07 0-2.86zM5.41 20L4 18.59l7.72-7.72 1.47 1.35L5.41 20z\"/>\n",
              "  </svg>\n",
              "      </button>\n",
              "      \n",
              "  <style>\n",
              "    .colab-df-container {\n",
              "      display:flex;\n",
              "      flex-wrap:wrap;\n",
              "      gap: 12px;\n",
              "    }\n",
              "\n",
              "    .colab-df-convert {\n",
              "      background-color: #E8F0FE;\n",
              "      border: none;\n",
              "      border-radius: 50%;\n",
              "      cursor: pointer;\n",
              "      display: none;\n",
              "      fill: #1967D2;\n",
              "      height: 32px;\n",
              "      padding: 0 0 0 0;\n",
              "      width: 32px;\n",
              "    }\n",
              "\n",
              "    .colab-df-convert:hover {\n",
              "      background-color: #E2EBFA;\n",
              "      box-shadow: 0px 1px 2px rgba(60, 64, 67, 0.3), 0px 1px 3px 1px rgba(60, 64, 67, 0.15);\n",
              "      fill: #174EA6;\n",
              "    }\n",
              "\n",
              "    [theme=dark] .colab-df-convert {\n",
              "      background-color: #3B4455;\n",
              "      fill: #D2E3FC;\n",
              "    }\n",
              "\n",
              "    [theme=dark] .colab-df-convert:hover {\n",
              "      background-color: #434B5C;\n",
              "      box-shadow: 0px 1px 3px 1px rgba(0, 0, 0, 0.15);\n",
              "      filter: drop-shadow(0px 1px 2px rgba(0, 0, 0, 0.3));\n",
              "      fill: #FFFFFF;\n",
              "    }\n",
              "  </style>\n",
              "\n",
              "      <script>\n",
              "        const buttonEl =\n",
              "          document.querySelector('#df-b223643a-5e2b-47e8-8790-f7f99e3c8e6f button.colab-df-convert');\n",
              "        buttonEl.style.display =\n",
              "          google.colab.kernel.accessAllowed ? 'block' : 'none';\n",
              "\n",
              "        async function convertToInteractive(key) {\n",
              "          const element = document.querySelector('#df-b223643a-5e2b-47e8-8790-f7f99e3c8e6f');\n",
              "          const dataTable =\n",
              "            await google.colab.kernel.invokeFunction('convertToInteractive',\n",
              "                                                     [key], {});\n",
              "          if (!dataTable) return;\n",
              "\n",
              "          const docLinkHtml = 'Like what you see? Visit the ' +\n",
              "            '<a target=\"_blank\" href=https://colab.research.google.com/notebooks/data_table.ipynb>data table notebook</a>'\n",
              "            + ' to learn more about interactive tables.';\n",
              "          element.innerHTML = '';\n",
              "          dataTable['output_type'] = 'display_data';\n",
              "          await google.colab.output.renderOutput(dataTable, element);\n",
              "          const docLink = document.createElement('div');\n",
              "          docLink.innerHTML = docLinkHtml;\n",
              "          element.appendChild(docLink);\n",
              "        }\n",
              "      </script>\n",
              "    </div>\n",
              "  </div>\n",
              "  "
            ]
          },
          "metadata": {},
          "execution_count": 124
        }
      ]
    },
    {
      "cell_type": "code",
      "source": [
        "model_eval_metrics"
      ],
      "metadata": {
        "colab": {
          "base_uri": "https://localhost:8080/",
          "height": 426
        },
        "id": "EkrqGJzZEXy-",
        "outputId": "b7ae3a7e-a488-4bb2-de24-5194698c121a"
      },
      "execution_count": 125,
      "outputs": [
        {
          "output_type": "execute_result",
          "data": {
            "text/plain": [
              "                              Accuracy  Recall  Precision  F1-Score  AUC score\n",
              "Base-Random-Forest              0.9745  0.9745   0.967372  0.967727   0.981142\n",
              "Scaled-Random-Forest            0.9745  0.9745   0.967372  0.967727   0.981670\n",
              "Oversampled-Random-Forest       0.9115  0.9115   0.975332  0.937956   0.978800\n",
              "GS-Oversampled-Random-Forest    0.9715  0.9715   0.982222  0.976208   0.953226\n",
              "Base-Logistric-Reg              0.9655  0.9655   0.950123  0.955899   0.505267\n",
              "Scaled-Logistic-Reg             0.9750  0.9750   0.968661  0.970115   0.917268\n",
              "Oversampled-Logistic-Reg        0.9265  0.9265   0.979426  0.947692   0.953226\n",
              "GS-Oversampled-Logistic-Reg     0.9295  0.9295   0.979706  0.949881   0.953226\n",
              "Base-KNN                        0.9670  0.9670   0.954171  0.959220   0.505267\n",
              "Scaled-KNN                      0.9695  0.9695   0.961825  0.964745   0.917268\n",
              "Oversampled-KNN                 0.9460  0.9460   0.977060  0.958439   0.953226\n",
              "GS-Oversampled-KNN              0.9600  0.9600   0.977539  0.967131   0.953226"
            ],
            "text/html": [
              "\n",
              "  <div id=\"df-0c8807e6-0cec-446e-982c-ce07bdcc1f62\">\n",
              "    <div class=\"colab-df-container\">\n",
              "      <div>\n",
              "<style scoped>\n",
              "    .dataframe tbody tr th:only-of-type {\n",
              "        vertical-align: middle;\n",
              "    }\n",
              "\n",
              "    .dataframe tbody tr th {\n",
              "        vertical-align: top;\n",
              "    }\n",
              "\n",
              "    .dataframe thead th {\n",
              "        text-align: right;\n",
              "    }\n",
              "</style>\n",
              "<table border=\"1\" class=\"dataframe\">\n",
              "  <thead>\n",
              "    <tr style=\"text-align: right;\">\n",
              "      <th></th>\n",
              "      <th>Accuracy</th>\n",
              "      <th>Recall</th>\n",
              "      <th>Precision</th>\n",
              "      <th>F1-Score</th>\n",
              "      <th>AUC score</th>\n",
              "    </tr>\n",
              "  </thead>\n",
              "  <tbody>\n",
              "    <tr>\n",
              "      <th>Base-Random-Forest</th>\n",
              "      <td>0.9745</td>\n",
              "      <td>0.9745</td>\n",
              "      <td>0.967372</td>\n",
              "      <td>0.967727</td>\n",
              "      <td>0.981142</td>\n",
              "    </tr>\n",
              "    <tr>\n",
              "      <th>Scaled-Random-Forest</th>\n",
              "      <td>0.9745</td>\n",
              "      <td>0.9745</td>\n",
              "      <td>0.967372</td>\n",
              "      <td>0.967727</td>\n",
              "      <td>0.981670</td>\n",
              "    </tr>\n",
              "    <tr>\n",
              "      <th>Oversampled-Random-Forest</th>\n",
              "      <td>0.9115</td>\n",
              "      <td>0.9115</td>\n",
              "      <td>0.975332</td>\n",
              "      <td>0.937956</td>\n",
              "      <td>0.978800</td>\n",
              "    </tr>\n",
              "    <tr>\n",
              "      <th>GS-Oversampled-Random-Forest</th>\n",
              "      <td>0.9715</td>\n",
              "      <td>0.9715</td>\n",
              "      <td>0.982222</td>\n",
              "      <td>0.976208</td>\n",
              "      <td>0.953226</td>\n",
              "    </tr>\n",
              "    <tr>\n",
              "      <th>Base-Logistric-Reg</th>\n",
              "      <td>0.9655</td>\n",
              "      <td>0.9655</td>\n",
              "      <td>0.950123</td>\n",
              "      <td>0.955899</td>\n",
              "      <td>0.505267</td>\n",
              "    </tr>\n",
              "    <tr>\n",
              "      <th>Scaled-Logistic-Reg</th>\n",
              "      <td>0.9750</td>\n",
              "      <td>0.9750</td>\n",
              "      <td>0.968661</td>\n",
              "      <td>0.970115</td>\n",
              "      <td>0.917268</td>\n",
              "    </tr>\n",
              "    <tr>\n",
              "      <th>Oversampled-Logistic-Reg</th>\n",
              "      <td>0.9265</td>\n",
              "      <td>0.9265</td>\n",
              "      <td>0.979426</td>\n",
              "      <td>0.947692</td>\n",
              "      <td>0.953226</td>\n",
              "    </tr>\n",
              "    <tr>\n",
              "      <th>GS-Oversampled-Logistic-Reg</th>\n",
              "      <td>0.9295</td>\n",
              "      <td>0.9295</td>\n",
              "      <td>0.979706</td>\n",
              "      <td>0.949881</td>\n",
              "      <td>0.953226</td>\n",
              "    </tr>\n",
              "    <tr>\n",
              "      <th>Base-KNN</th>\n",
              "      <td>0.9670</td>\n",
              "      <td>0.9670</td>\n",
              "      <td>0.954171</td>\n",
              "      <td>0.959220</td>\n",
              "      <td>0.505267</td>\n",
              "    </tr>\n",
              "    <tr>\n",
              "      <th>Scaled-KNN</th>\n",
              "      <td>0.9695</td>\n",
              "      <td>0.9695</td>\n",
              "      <td>0.961825</td>\n",
              "      <td>0.964745</td>\n",
              "      <td>0.917268</td>\n",
              "    </tr>\n",
              "    <tr>\n",
              "      <th>Oversampled-KNN</th>\n",
              "      <td>0.9460</td>\n",
              "      <td>0.9460</td>\n",
              "      <td>0.977060</td>\n",
              "      <td>0.958439</td>\n",
              "      <td>0.953226</td>\n",
              "    </tr>\n",
              "    <tr>\n",
              "      <th>GS-Oversampled-KNN</th>\n",
              "      <td>0.9600</td>\n",
              "      <td>0.9600</td>\n",
              "      <td>0.977539</td>\n",
              "      <td>0.967131</td>\n",
              "      <td>0.953226</td>\n",
              "    </tr>\n",
              "  </tbody>\n",
              "</table>\n",
              "</div>\n",
              "      <button class=\"colab-df-convert\" onclick=\"convertToInteractive('df-0c8807e6-0cec-446e-982c-ce07bdcc1f62')\"\n",
              "              title=\"Convert this dataframe to an interactive table.\"\n",
              "              style=\"display:none;\">\n",
              "        \n",
              "  <svg xmlns=\"http://www.w3.org/2000/svg\" height=\"24px\"viewBox=\"0 0 24 24\"\n",
              "       width=\"24px\">\n",
              "    <path d=\"M0 0h24v24H0V0z\" fill=\"none\"/>\n",
              "    <path d=\"M18.56 5.44l.94 2.06.94-2.06 2.06-.94-2.06-.94-.94-2.06-.94 2.06-2.06.94zm-11 1L8.5 8.5l.94-2.06 2.06-.94-2.06-.94L8.5 2.5l-.94 2.06-2.06.94zm10 10l.94 2.06.94-2.06 2.06-.94-2.06-.94-.94-2.06-.94 2.06-2.06.94z\"/><path d=\"M17.41 7.96l-1.37-1.37c-.4-.4-.92-.59-1.43-.59-.52 0-1.04.2-1.43.59L10.3 9.45l-7.72 7.72c-.78.78-.78 2.05 0 2.83L4 21.41c.39.39.9.59 1.41.59.51 0 1.02-.2 1.41-.59l7.78-7.78 2.81-2.81c.8-.78.8-2.07 0-2.86zM5.41 20L4 18.59l7.72-7.72 1.47 1.35L5.41 20z\"/>\n",
              "  </svg>\n",
              "      </button>\n",
              "      \n",
              "  <style>\n",
              "    .colab-df-container {\n",
              "      display:flex;\n",
              "      flex-wrap:wrap;\n",
              "      gap: 12px;\n",
              "    }\n",
              "\n",
              "    .colab-df-convert {\n",
              "      background-color: #E8F0FE;\n",
              "      border: none;\n",
              "      border-radius: 50%;\n",
              "      cursor: pointer;\n",
              "      display: none;\n",
              "      fill: #1967D2;\n",
              "      height: 32px;\n",
              "      padding: 0 0 0 0;\n",
              "      width: 32px;\n",
              "    }\n",
              "\n",
              "    .colab-df-convert:hover {\n",
              "      background-color: #E2EBFA;\n",
              "      box-shadow: 0px 1px 2px rgba(60, 64, 67, 0.3), 0px 1px 3px 1px rgba(60, 64, 67, 0.15);\n",
              "      fill: #174EA6;\n",
              "    }\n",
              "\n",
              "    [theme=dark] .colab-df-convert {\n",
              "      background-color: #3B4455;\n",
              "      fill: #D2E3FC;\n",
              "    }\n",
              "\n",
              "    [theme=dark] .colab-df-convert:hover {\n",
              "      background-color: #434B5C;\n",
              "      box-shadow: 0px 1px 3px 1px rgba(0, 0, 0, 0.15);\n",
              "      filter: drop-shadow(0px 1px 2px rgba(0, 0, 0, 0.3));\n",
              "      fill: #FFFFFF;\n",
              "    }\n",
              "  </style>\n",
              "\n",
              "      <script>\n",
              "        const buttonEl =\n",
              "          document.querySelector('#df-0c8807e6-0cec-446e-982c-ce07bdcc1f62 button.colab-df-convert');\n",
              "        buttonEl.style.display =\n",
              "          google.colab.kernel.accessAllowed ? 'block' : 'none';\n",
              "\n",
              "        async function convertToInteractive(key) {\n",
              "          const element = document.querySelector('#df-0c8807e6-0cec-446e-982c-ce07bdcc1f62');\n",
              "          const dataTable =\n",
              "            await google.colab.kernel.invokeFunction('convertToInteractive',\n",
              "                                                     [key], {});\n",
              "          if (!dataTable) return;\n",
              "\n",
              "          const docLinkHtml = 'Like what you see? Visit the ' +\n",
              "            '<a target=\"_blank\" href=https://colab.research.google.com/notebooks/data_table.ipynb>data table notebook</a>'\n",
              "            + ' to learn more about interactive tables.';\n",
              "          element.innerHTML = '';\n",
              "          dataTable['output_type'] = 'display_data';\n",
              "          await google.colab.output.renderOutput(dataTable, element);\n",
              "          const docLink = document.createElement('div');\n",
              "          docLink.innerHTML = docLinkHtml;\n",
              "          element.appendChild(docLink);\n",
              "        }\n",
              "      </script>\n",
              "    </div>\n",
              "  </div>\n",
              "  "
            ]
          },
          "metadata": {},
          "execution_count": 125
        }
      ]
    },
    {
      "cell_type": "markdown",
      "source": [
        "## ANN"
      ],
      "metadata": {
        "id": "NEso3mIbjQaU"
      }
    },
    {
      "cell_type": "markdown",
      "source": [
        "### Preprocessing"
      ],
      "metadata": {
        "id": "47WMZ0sDNt60"
      }
    },
    {
      "cell_type": "markdown",
      "source": [
        "Since neural networks are built on the comparisions between the features with the output data in mind, the approach to label the failure categories from 1 to 4 will affect the performance of the model greatly. As a result, the failure modes need to be provided in one-hot encoding form. The grouped dataset can be encoded to be used with ANN."
      ],
      "metadata": {
        "id": "FCjtv5AoNyDH"
      }
    },
    {
      "cell_type": "code",
      "source": [
        "processed_data_grouped = pd.get_dummies(processed_data_grouped, columns=[\"Machine failure\"])"
      ],
      "metadata": {
        "id": "5paRZ0VX6PDn"
      },
      "execution_count": 129,
      "outputs": []
    },
    {
      "cell_type": "code",
      "source": [
        "processed_data_grouped.head()"
      ],
      "metadata": {
        "colab": {
          "base_uri": "https://localhost:8080/",
          "height": 268
        },
        "id": "7Z6EKZsUwnNl",
        "outputId": "f3ae95b4-f087-47cf-abd5-521d51cfdb16"
      },
      "execution_count": 130,
      "outputs": [
        {
          "output_type": "execute_result",
          "data": {
            "text/plain": [
              "   Air temperature [K]  Process temperature [K]  Rotational speed [rpm]  \\\n",
              "0                298.1                    308.6                    1551   \n",
              "1                298.2                    308.7                    1408   \n",
              "2                298.1                    308.5                    1498   \n",
              "3                298.2                    308.6                    1433   \n",
              "4                298.2                    308.7                    1408   \n",
              "\n",
              "   Torque [Nm]  Tool wear [min]  Machine failure_0  Machine failure_1  \\\n",
              "0         42.8                0                  1                  0   \n",
              "1         46.3                3                  1                  0   \n",
              "2         49.4                5                  1                  0   \n",
              "3         39.5                7                  1                  0   \n",
              "4         40.0                9                  1                  0   \n",
              "\n",
              "   Machine failure_2  Machine failure_3  Machine failure_4  \n",
              "0                  0                  0                  0  \n",
              "1                  0                  0                  0  \n",
              "2                  0                  0                  0  \n",
              "3                  0                  0                  0  \n",
              "4                  0                  0                  0  "
            ],
            "text/html": [
              "\n",
              "  <div id=\"df-8a36bb79-882c-4dd1-802d-f8f66ae6924a\">\n",
              "    <div class=\"colab-df-container\">\n",
              "      <div>\n",
              "<style scoped>\n",
              "    .dataframe tbody tr th:only-of-type {\n",
              "        vertical-align: middle;\n",
              "    }\n",
              "\n",
              "    .dataframe tbody tr th {\n",
              "        vertical-align: top;\n",
              "    }\n",
              "\n",
              "    .dataframe thead th {\n",
              "        text-align: right;\n",
              "    }\n",
              "</style>\n",
              "<table border=\"1\" class=\"dataframe\">\n",
              "  <thead>\n",
              "    <tr style=\"text-align: right;\">\n",
              "      <th></th>\n",
              "      <th>Air temperature [K]</th>\n",
              "      <th>Process temperature [K]</th>\n",
              "      <th>Rotational speed [rpm]</th>\n",
              "      <th>Torque [Nm]</th>\n",
              "      <th>Tool wear [min]</th>\n",
              "      <th>Machine failure_0</th>\n",
              "      <th>Machine failure_1</th>\n",
              "      <th>Machine failure_2</th>\n",
              "      <th>Machine failure_3</th>\n",
              "      <th>Machine failure_4</th>\n",
              "    </tr>\n",
              "  </thead>\n",
              "  <tbody>\n",
              "    <tr>\n",
              "      <th>0</th>\n",
              "      <td>298.1</td>\n",
              "      <td>308.6</td>\n",
              "      <td>1551</td>\n",
              "      <td>42.8</td>\n",
              "      <td>0</td>\n",
              "      <td>1</td>\n",
              "      <td>0</td>\n",
              "      <td>0</td>\n",
              "      <td>0</td>\n",
              "      <td>0</td>\n",
              "    </tr>\n",
              "    <tr>\n",
              "      <th>1</th>\n",
              "      <td>298.2</td>\n",
              "      <td>308.7</td>\n",
              "      <td>1408</td>\n",
              "      <td>46.3</td>\n",
              "      <td>3</td>\n",
              "      <td>1</td>\n",
              "      <td>0</td>\n",
              "      <td>0</td>\n",
              "      <td>0</td>\n",
              "      <td>0</td>\n",
              "    </tr>\n",
              "    <tr>\n",
              "      <th>2</th>\n",
              "      <td>298.1</td>\n",
              "      <td>308.5</td>\n",
              "      <td>1498</td>\n",
              "      <td>49.4</td>\n",
              "      <td>5</td>\n",
              "      <td>1</td>\n",
              "      <td>0</td>\n",
              "      <td>0</td>\n",
              "      <td>0</td>\n",
              "      <td>0</td>\n",
              "    </tr>\n",
              "    <tr>\n",
              "      <th>3</th>\n",
              "      <td>298.2</td>\n",
              "      <td>308.6</td>\n",
              "      <td>1433</td>\n",
              "      <td>39.5</td>\n",
              "      <td>7</td>\n",
              "      <td>1</td>\n",
              "      <td>0</td>\n",
              "      <td>0</td>\n",
              "      <td>0</td>\n",
              "      <td>0</td>\n",
              "    </tr>\n",
              "    <tr>\n",
              "      <th>4</th>\n",
              "      <td>298.2</td>\n",
              "      <td>308.7</td>\n",
              "      <td>1408</td>\n",
              "      <td>40.0</td>\n",
              "      <td>9</td>\n",
              "      <td>1</td>\n",
              "      <td>0</td>\n",
              "      <td>0</td>\n",
              "      <td>0</td>\n",
              "      <td>0</td>\n",
              "    </tr>\n",
              "  </tbody>\n",
              "</table>\n",
              "</div>\n",
              "      <button class=\"colab-df-convert\" onclick=\"convertToInteractive('df-8a36bb79-882c-4dd1-802d-f8f66ae6924a')\"\n",
              "              title=\"Convert this dataframe to an interactive table.\"\n",
              "              style=\"display:none;\">\n",
              "        \n",
              "  <svg xmlns=\"http://www.w3.org/2000/svg\" height=\"24px\"viewBox=\"0 0 24 24\"\n",
              "       width=\"24px\">\n",
              "    <path d=\"M0 0h24v24H0V0z\" fill=\"none\"/>\n",
              "    <path d=\"M18.56 5.44l.94 2.06.94-2.06 2.06-.94-2.06-.94-.94-2.06-.94 2.06-2.06.94zm-11 1L8.5 8.5l.94-2.06 2.06-.94-2.06-.94L8.5 2.5l-.94 2.06-2.06.94zm10 10l.94 2.06.94-2.06 2.06-.94-2.06-.94-.94-2.06-.94 2.06-2.06.94z\"/><path d=\"M17.41 7.96l-1.37-1.37c-.4-.4-.92-.59-1.43-.59-.52 0-1.04.2-1.43.59L10.3 9.45l-7.72 7.72c-.78.78-.78 2.05 0 2.83L4 21.41c.39.39.9.59 1.41.59.51 0 1.02-.2 1.41-.59l7.78-7.78 2.81-2.81c.8-.78.8-2.07 0-2.86zM5.41 20L4 18.59l7.72-7.72 1.47 1.35L5.41 20z\"/>\n",
              "  </svg>\n",
              "      </button>\n",
              "      \n",
              "  <style>\n",
              "    .colab-df-container {\n",
              "      display:flex;\n",
              "      flex-wrap:wrap;\n",
              "      gap: 12px;\n",
              "    }\n",
              "\n",
              "    .colab-df-convert {\n",
              "      background-color: #E8F0FE;\n",
              "      border: none;\n",
              "      border-radius: 50%;\n",
              "      cursor: pointer;\n",
              "      display: none;\n",
              "      fill: #1967D2;\n",
              "      height: 32px;\n",
              "      padding: 0 0 0 0;\n",
              "      width: 32px;\n",
              "    }\n",
              "\n",
              "    .colab-df-convert:hover {\n",
              "      background-color: #E2EBFA;\n",
              "      box-shadow: 0px 1px 2px rgba(60, 64, 67, 0.3), 0px 1px 3px 1px rgba(60, 64, 67, 0.15);\n",
              "      fill: #174EA6;\n",
              "    }\n",
              "\n",
              "    [theme=dark] .colab-df-convert {\n",
              "      background-color: #3B4455;\n",
              "      fill: #D2E3FC;\n",
              "    }\n",
              "\n",
              "    [theme=dark] .colab-df-convert:hover {\n",
              "      background-color: #434B5C;\n",
              "      box-shadow: 0px 1px 3px 1px rgba(0, 0, 0, 0.15);\n",
              "      filter: drop-shadow(0px 1px 2px rgba(0, 0, 0, 0.3));\n",
              "      fill: #FFFFFF;\n",
              "    }\n",
              "  </style>\n",
              "\n",
              "      <script>\n",
              "        const buttonEl =\n",
              "          document.querySelector('#df-8a36bb79-882c-4dd1-802d-f8f66ae6924a button.colab-df-convert');\n",
              "        buttonEl.style.display =\n",
              "          google.colab.kernel.accessAllowed ? 'block' : 'none';\n",
              "\n",
              "        async function convertToInteractive(key) {\n",
              "          const element = document.querySelector('#df-8a36bb79-882c-4dd1-802d-f8f66ae6924a');\n",
              "          const dataTable =\n",
              "            await google.colab.kernel.invokeFunction('convertToInteractive',\n",
              "                                                     [key], {});\n",
              "          if (!dataTable) return;\n",
              "\n",
              "          const docLinkHtml = 'Like what you see? Visit the ' +\n",
              "            '<a target=\"_blank\" href=https://colab.research.google.com/notebooks/data_table.ipynb>data table notebook</a>'\n",
              "            + ' to learn more about interactive tables.';\n",
              "          element.innerHTML = '';\n",
              "          dataTable['output_type'] = 'display_data';\n",
              "          await google.colab.output.renderOutput(dataTable, element);\n",
              "          const docLink = document.createElement('div');\n",
              "          docLink.innerHTML = docLinkHtml;\n",
              "          element.appendChild(docLink);\n",
              "        }\n",
              "      </script>\n",
              "    </div>\n",
              "  </div>\n",
              "  "
            ]
          },
          "metadata": {},
          "execution_count": 130
        }
      ]
    },
    {
      "cell_type": "markdown",
      "source": [
        "Renaming for easier understanding"
      ],
      "metadata": {
        "id": "Q7-00aJ7w0vz"
      }
    },
    {
      "cell_type": "code",
      "source": [
        "processed_data_grouped.rename(columns = {'Machine failure_0': 'Machine Success', 'Machine failure_1': 'TWF', 'Machine failure_2': 'HDF', 'Machine failure_3': 'PWF', 'Machine failure_4': 'OSF'}, inplace = True)"
      ],
      "metadata": {
        "id": "MWuVBIgIwAni"
      },
      "execution_count": 131,
      "outputs": []
    },
    {
      "cell_type": "code",
      "source": [
        "processed_data_grouped.head()"
      ],
      "metadata": {
        "colab": {
          "base_uri": "https://localhost:8080/",
          "height": 206
        },
        "id": "BLsq17jmw6Nv",
        "outputId": "7c6ca872-250a-47ee-9570-38dfa2265a32"
      },
      "execution_count": 132,
      "outputs": [
        {
          "output_type": "execute_result",
          "data": {
            "text/plain": [
              "   Air temperature [K]  Process temperature [K]  Rotational speed [rpm]  \\\n",
              "0                298.1                    308.6                    1551   \n",
              "1                298.2                    308.7                    1408   \n",
              "2                298.1                    308.5                    1498   \n",
              "3                298.2                    308.6                    1433   \n",
              "4                298.2                    308.7                    1408   \n",
              "\n",
              "   Torque [Nm]  Tool wear [min]  Machine Success  TWF  HDF  PWF  OSF  \n",
              "0         42.8                0                1    0    0    0    0  \n",
              "1         46.3                3                1    0    0    0    0  \n",
              "2         49.4                5                1    0    0    0    0  \n",
              "3         39.5                7                1    0    0    0    0  \n",
              "4         40.0                9                1    0    0    0    0  "
            ],
            "text/html": [
              "\n",
              "  <div id=\"df-a3fbd672-065c-480b-b5e6-77453bdd08f8\">\n",
              "    <div class=\"colab-df-container\">\n",
              "      <div>\n",
              "<style scoped>\n",
              "    .dataframe tbody tr th:only-of-type {\n",
              "        vertical-align: middle;\n",
              "    }\n",
              "\n",
              "    .dataframe tbody tr th {\n",
              "        vertical-align: top;\n",
              "    }\n",
              "\n",
              "    .dataframe thead th {\n",
              "        text-align: right;\n",
              "    }\n",
              "</style>\n",
              "<table border=\"1\" class=\"dataframe\">\n",
              "  <thead>\n",
              "    <tr style=\"text-align: right;\">\n",
              "      <th></th>\n",
              "      <th>Air temperature [K]</th>\n",
              "      <th>Process temperature [K]</th>\n",
              "      <th>Rotational speed [rpm]</th>\n",
              "      <th>Torque [Nm]</th>\n",
              "      <th>Tool wear [min]</th>\n",
              "      <th>Machine Success</th>\n",
              "      <th>TWF</th>\n",
              "      <th>HDF</th>\n",
              "      <th>PWF</th>\n",
              "      <th>OSF</th>\n",
              "    </tr>\n",
              "  </thead>\n",
              "  <tbody>\n",
              "    <tr>\n",
              "      <th>0</th>\n",
              "      <td>298.1</td>\n",
              "      <td>308.6</td>\n",
              "      <td>1551</td>\n",
              "      <td>42.8</td>\n",
              "      <td>0</td>\n",
              "      <td>1</td>\n",
              "      <td>0</td>\n",
              "      <td>0</td>\n",
              "      <td>0</td>\n",
              "      <td>0</td>\n",
              "    </tr>\n",
              "    <tr>\n",
              "      <th>1</th>\n",
              "      <td>298.2</td>\n",
              "      <td>308.7</td>\n",
              "      <td>1408</td>\n",
              "      <td>46.3</td>\n",
              "      <td>3</td>\n",
              "      <td>1</td>\n",
              "      <td>0</td>\n",
              "      <td>0</td>\n",
              "      <td>0</td>\n",
              "      <td>0</td>\n",
              "    </tr>\n",
              "    <tr>\n",
              "      <th>2</th>\n",
              "      <td>298.1</td>\n",
              "      <td>308.5</td>\n",
              "      <td>1498</td>\n",
              "      <td>49.4</td>\n",
              "      <td>5</td>\n",
              "      <td>1</td>\n",
              "      <td>0</td>\n",
              "      <td>0</td>\n",
              "      <td>0</td>\n",
              "      <td>0</td>\n",
              "    </tr>\n",
              "    <tr>\n",
              "      <th>3</th>\n",
              "      <td>298.2</td>\n",
              "      <td>308.6</td>\n",
              "      <td>1433</td>\n",
              "      <td>39.5</td>\n",
              "      <td>7</td>\n",
              "      <td>1</td>\n",
              "      <td>0</td>\n",
              "      <td>0</td>\n",
              "      <td>0</td>\n",
              "      <td>0</td>\n",
              "    </tr>\n",
              "    <tr>\n",
              "      <th>4</th>\n",
              "      <td>298.2</td>\n",
              "      <td>308.7</td>\n",
              "      <td>1408</td>\n",
              "      <td>40.0</td>\n",
              "      <td>9</td>\n",
              "      <td>1</td>\n",
              "      <td>0</td>\n",
              "      <td>0</td>\n",
              "      <td>0</td>\n",
              "      <td>0</td>\n",
              "    </tr>\n",
              "  </tbody>\n",
              "</table>\n",
              "</div>\n",
              "      <button class=\"colab-df-convert\" onclick=\"convertToInteractive('df-a3fbd672-065c-480b-b5e6-77453bdd08f8')\"\n",
              "              title=\"Convert this dataframe to an interactive table.\"\n",
              "              style=\"display:none;\">\n",
              "        \n",
              "  <svg xmlns=\"http://www.w3.org/2000/svg\" height=\"24px\"viewBox=\"0 0 24 24\"\n",
              "       width=\"24px\">\n",
              "    <path d=\"M0 0h24v24H0V0z\" fill=\"none\"/>\n",
              "    <path d=\"M18.56 5.44l.94 2.06.94-2.06 2.06-.94-2.06-.94-.94-2.06-.94 2.06-2.06.94zm-11 1L8.5 8.5l.94-2.06 2.06-.94-2.06-.94L8.5 2.5l-.94 2.06-2.06.94zm10 10l.94 2.06.94-2.06 2.06-.94-2.06-.94-.94-2.06-.94 2.06-2.06.94z\"/><path d=\"M17.41 7.96l-1.37-1.37c-.4-.4-.92-.59-1.43-.59-.52 0-1.04.2-1.43.59L10.3 9.45l-7.72 7.72c-.78.78-.78 2.05 0 2.83L4 21.41c.39.39.9.59 1.41.59.51 0 1.02-.2 1.41-.59l7.78-7.78 2.81-2.81c.8-.78.8-2.07 0-2.86zM5.41 20L4 18.59l7.72-7.72 1.47 1.35L5.41 20z\"/>\n",
              "  </svg>\n",
              "      </button>\n",
              "      \n",
              "  <style>\n",
              "    .colab-df-container {\n",
              "      display:flex;\n",
              "      flex-wrap:wrap;\n",
              "      gap: 12px;\n",
              "    }\n",
              "\n",
              "    .colab-df-convert {\n",
              "      background-color: #E8F0FE;\n",
              "      border: none;\n",
              "      border-radius: 50%;\n",
              "      cursor: pointer;\n",
              "      display: none;\n",
              "      fill: #1967D2;\n",
              "      height: 32px;\n",
              "      padding: 0 0 0 0;\n",
              "      width: 32px;\n",
              "    }\n",
              "\n",
              "    .colab-df-convert:hover {\n",
              "      background-color: #E2EBFA;\n",
              "      box-shadow: 0px 1px 2px rgba(60, 64, 67, 0.3), 0px 1px 3px 1px rgba(60, 64, 67, 0.15);\n",
              "      fill: #174EA6;\n",
              "    }\n",
              "\n",
              "    [theme=dark] .colab-df-convert {\n",
              "      background-color: #3B4455;\n",
              "      fill: #D2E3FC;\n",
              "    }\n",
              "\n",
              "    [theme=dark] .colab-df-convert:hover {\n",
              "      background-color: #434B5C;\n",
              "      box-shadow: 0px 1px 3px 1px rgba(0, 0, 0, 0.15);\n",
              "      filter: drop-shadow(0px 1px 2px rgba(0, 0, 0, 0.3));\n",
              "      fill: #FFFFFF;\n",
              "    }\n",
              "  </style>\n",
              "\n",
              "      <script>\n",
              "        const buttonEl =\n",
              "          document.querySelector('#df-a3fbd672-065c-480b-b5e6-77453bdd08f8 button.colab-df-convert');\n",
              "        buttonEl.style.display =\n",
              "          google.colab.kernel.accessAllowed ? 'block' : 'none';\n",
              "\n",
              "        async function convertToInteractive(key) {\n",
              "          const element = document.querySelector('#df-a3fbd672-065c-480b-b5e6-77453bdd08f8');\n",
              "          const dataTable =\n",
              "            await google.colab.kernel.invokeFunction('convertToInteractive',\n",
              "                                                     [key], {});\n",
              "          if (!dataTable) return;\n",
              "\n",
              "          const docLinkHtml = 'Like what you see? Visit the ' +\n",
              "            '<a target=\"_blank\" href=https://colab.research.google.com/notebooks/data_table.ipynb>data table notebook</a>'\n",
              "            + ' to learn more about interactive tables.';\n",
              "          element.innerHTML = '';\n",
              "          dataTable['output_type'] = 'display_data';\n",
              "          await google.colab.output.renderOutput(dataTable, element);\n",
              "          const docLink = document.createElement('div');\n",
              "          docLink.innerHTML = docLinkHtml;\n",
              "          element.appendChild(docLink);\n",
              "        }\n",
              "      </script>\n",
              "    </div>\n",
              "  </div>\n",
              "  "
            ]
          },
          "metadata": {},
          "execution_count": 132
        }
      ]
    },
    {
      "cell_type": "code",
      "source": [
        "NN_X=processed_data_grouped.iloc[:,:5].values\n",
        "NN_y=processed_data_grouped.iloc[:,5:].values"
      ],
      "metadata": {
        "id": "U--Vv_Wn4oGb"
      },
      "execution_count": 133,
      "outputs": []
    },
    {
      "cell_type": "code",
      "source": [
        "print(NN_X)"
      ],
      "metadata": {
        "colab": {
          "base_uri": "https://localhost:8080/"
        },
        "id": "HKmttVb88x6q",
        "outputId": "b760c212-adf3-4600-ce08-2be04c323903"
      },
      "execution_count": 134,
      "outputs": [
        {
          "output_type": "stream",
          "name": "stdout",
          "text": [
            "[[ 298.1  308.6 1551.    42.8    0. ]\n",
            " [ 298.2  308.7 1408.    46.3    3. ]\n",
            " [ 298.1  308.5 1498.    49.4    5. ]\n",
            " ...\n",
            " [ 299.   308.6 1645.    33.4   22. ]\n",
            " [ 299.   308.7 1408.    48.5   25. ]\n",
            " [ 299.   308.7 1500.    40.2   30. ]]\n"
          ]
        }
      ]
    },
    {
      "cell_type": "code",
      "source": [
        "print(NN_y)"
      ],
      "metadata": {
        "colab": {
          "base_uri": "https://localhost:8080/"
        },
        "id": "ZCEyJy539AFm",
        "outputId": "f3dce4a8-b78c-437e-c771-cda34443e5a3"
      },
      "execution_count": 135,
      "outputs": [
        {
          "output_type": "stream",
          "name": "stdout",
          "text": [
            "[[1 0 0 0 0]\n",
            " [1 0 0 0 0]\n",
            " [1 0 0 0 0]\n",
            " ...\n",
            " [1 0 0 0 0]\n",
            " [1 0 0 0 0]\n",
            " [1 0 0 0 0]]\n"
          ]
        }
      ]
    },
    {
      "cell_type": "code",
      "source": [
        "NN_X_train , NN_X_test, NN_y_train, NN_y_test = train_test_split(NN_X,NN_y,test_size=0.20,random_state=0)"
      ],
      "metadata": {
        "id": "u69_Gw7o-Byg"
      },
      "execution_count": 136,
      "outputs": []
    },
    {
      "cell_type": "markdown",
      "source": [
        "# Scaled: Defining the Dependent and Independent Variables\n",
        "\n"
      ],
      "metadata": {
        "id": "tvqUAfse6KVd"
      }
    },
    {
      "cell_type": "code",
      "source": [
        "NN_scaled_df=processed_data_grouped.copy() "
      ],
      "metadata": {
        "id": "9GblyjHl6KVe"
      },
      "execution_count": 137,
      "outputs": []
    },
    {
      "cell_type": "code",
      "source": [
        "NN_X_scaled=processed_data_grouped.iloc[:,:5].values\n",
        "NN_y_scaled=processed_data_grouped.iloc[:,5:].values"
      ],
      "metadata": {
        "id": "QiMf_uGm6KVf"
      },
      "execution_count": 138,
      "outputs": []
    },
    {
      "cell_type": "markdown",
      "source": [
        "## Scaled: Splitting the Data"
      ],
      "metadata": {
        "id": "uw9Geeox6KVf"
      }
    },
    {
      "cell_type": "code",
      "source": [
        "NN_X_scaled_train , NN_X_scaled_test, NN_y_scaled_train, NN_y_scaled_test = train_test_split(NN_X_scaled,NN_y_scaled,test_size=0.20,random_state=0)"
      ],
      "metadata": {
        "id": "VB7daFDa6KVf"
      },
      "execution_count": 139,
      "outputs": []
    },
    {
      "cell_type": "markdown",
      "source": [
        "## Scaling the Data"
      ],
      "metadata": {
        "id": "RklP3a-L5ryg"
      }
    },
    {
      "cell_type": "code",
      "source": [
        "from sklearn.preprocessing import StandardScaler\n",
        "sc = StandardScaler()\n",
        "NN_X_scaled_train = sc.fit_transform(NN_X_scaled_train)\n",
        "NN_X_scaled_test = sc.transform(NN_X_scaled_test)"
      ],
      "metadata": {
        "id": "0DoYL5FZ5ryp"
      },
      "execution_count": 140,
      "outputs": []
    },
    {
      "cell_type": "code",
      "source": [
        "print(NN_X_scaled_train)"
      ],
      "metadata": {
        "colab": {
          "base_uri": "https://localhost:8080/"
        },
        "outputId": "47908165-799b-41a0-a847-6115468d7700",
        "id": "rg9httpo5ryp"
      },
      "execution_count": 141,
      "outputs": [
        {
          "output_type": "stream",
          "name": "stdout",
          "text": [
            "[[-0.09509118  0.40612254  0.93821897 -0.74940818  0.26299762]\n",
            " [-0.89093729 -0.8664902   0.36891261 -1.06077593 -0.94382689]\n",
            " [ 0.2530915  -0.1297144   0.06193369 -0.25724626  0.63915072]\n",
            " ...\n",
            " [ 0.65101456  0.07122445 -0.46830262  0.41570984  1.26607254]\n",
            " [-0.84119691 -0.59857173 -0.65807141  0.74716583 -1.16324953]\n",
            " [-0.14483156 -0.53159211 -1.07667902  1.75157792  0.48242026]]\n"
          ]
        }
      ]
    },
    {
      "cell_type": "code",
      "source": [
        "print(NN_X_scaled_test)"
      ],
      "metadata": {
        "colab": {
          "base_uri": "https://localhost:8080/"
        },
        "outputId": "67933860-fa45-4556-b7a6-1e35fa57348b",
        "id": "VYu4GGFB5rys"
      },
      "execution_count": 142,
      "outputs": [
        {
          "output_type": "stream",
          "name": "stdout",
          "text": [
            "[[-1.1396392  -1.2013883  -1.14365624  1.3096366   0.76453508]\n",
            " [-2.18418723 -2.54098066 -0.51853553  0.99826885  0.40405503]\n",
            " [-0.39353347 -1.00044944 -0.2729524   0.32531275  0.79588118]\n",
            " ...\n",
            " [-0.19457194  0.74102063  0.61449575 -0.61883461  0.40405503]\n",
            " [-0.19457194 -0.66555135 -0.07760218  0.28513627  0.82722727]\n",
            " [ 0.84997609  0.67404102 -1.09342333  0.92796001 -1.28863389]]\n"
          ]
        }
      ]
    },
    {
      "cell_type": "markdown",
      "source": [
        "# Oversampled and Scaled: Defining the Dependent and Independent Variables\n"
      ],
      "metadata": {
        "id": "Xp_Qtyhv5ryt"
      }
    },
    {
      "cell_type": "code",
      "source": [
        "NN_oversampled_scaled_df=processed_data_grouped.copy() "
      ],
      "metadata": {
        "id": "7zYIE7ef5ryt"
      },
      "execution_count": 143,
      "outputs": []
    },
    {
      "cell_type": "code",
      "source": [
        "NN_X_oversampled_scaled=processed_data_grouped.iloc[:,:5].values\n",
        "NN_y_oversampled_scaled=processed_data_grouped.iloc[:,5:].values"
      ],
      "metadata": {
        "id": "N--VZqaS5ryt"
      },
      "execution_count": 144,
      "outputs": []
    },
    {
      "cell_type": "markdown",
      "source": [
        "## Oversampled and Scaled: Splitting the Data"
      ],
      "metadata": {
        "id": "yCnbEvAJ5ryt"
      }
    },
    {
      "cell_type": "code",
      "source": [
        "NN_X_oversampled_scaled_train , NN_X_oversampled_scaled_test, NN_y_oversampled_scaled_train, NN_y_oversampled_scaled_test = train_test_split(NN_X_oversampled_scaled,NN_y_oversampled_scaled,test_size=0.20,random_state=0)"
      ],
      "metadata": {
        "id": "ZVxqee7s5ryt"
      },
      "execution_count": 145,
      "outputs": []
    },
    {
      "cell_type": "markdown",
      "source": [
        "The data was oversampled so that the data is balanced between failing or succeeding."
      ],
      "metadata": {
        "id": "Ip1ww5Um5ryt"
      }
    },
    {
      "cell_type": "code",
      "source": [
        "NN_oversample = SMOTE()\n",
        "NN_X_oversampled_scaled_train, NN_y_oversampled_scaled_train = oversample.fit_resample(NN_X_oversampled_scaled_train, NN_y_oversampled_scaled_train)"
      ],
      "metadata": {
        "id": "NxpG8khn5ryu"
      },
      "execution_count": 146,
      "outputs": []
    },
    {
      "cell_type": "code",
      "source": [
        "NN_X_oversampled_scaled_train = sc.fit_transform(NN_X_oversampled_scaled_train)\n",
        "NN_X_oversampled_scaled_test = sc.transform(NN_X_oversampled_scaled_test)"
      ],
      "metadata": {
        "id": "x1SWkd895ryu"
      },
      "execution_count": 147,
      "outputs": []
    },
    {
      "cell_type": "markdown",
      "source": [
        "### Base"
      ],
      "metadata": {
        "id": "YzDyL-fbj_DB"
      }
    },
    {
      "cell_type": "code",
      "source": [
        "import tensorflow as tf\n",
        "ann_model=tf.keras.models.Sequential()"
      ],
      "metadata": {
        "id": "kDWvAtx5kCHz"
      },
      "execution_count": 148,
      "outputs": []
    },
    {
      "cell_type": "code",
      "source": [
        "ann_model.add(tf.keras.layers.Dense(units=100,activation=\"relu\",kernel_regularizer=tf.keras.regularizers.L2(0.01)))\n",
        "ann_model.add(tf.keras.layers.Dropout(0.4))\n",
        "ann_model.add(tf.keras.layers.Dense(units=50,activation=\"relu\"))"
      ],
      "metadata": {
        "id": "FE1C2Q-KkHZJ"
      },
      "execution_count": 149,
      "outputs": []
    },
    {
      "cell_type": "code",
      "source": [
        "ann_model.add(tf.keras.layers.Dense(5, activation='softmax'))"
      ],
      "metadata": {
        "id": "Cp_YZmYvkJvO"
      },
      "execution_count": 150,
      "outputs": []
    },
    {
      "cell_type": "code",
      "source": [
        "ann_model.compile(optimizer=tf.keras.optimizers.Adam(learning_rate=0.001), loss='categorical_crossentropy', metrics=['accuracy'])\n",
        "history = ann_model.fit(NN_X_train, NN_y_train, epochs=60, batch_size=10, validation_split=0.2)"
      ],
      "metadata": {
        "id": "f3c4NwdqkV3L"
      },
      "execution_count": null,
      "outputs": []
    },
    {
      "cell_type": "code",
      "source": [
        "plt.plot(history.history['accuracy'])\n",
        "plt.plot(history.history['loss'])\n",
        "plt.title('model accuracy')\n",
        "plt.ylabel('accuracy')\n",
        "plt.xlabel('epoch')\n",
        "plt.legend(['accurracy', 'loss'], loc='upper left')\n",
        "\n",
        "plt.show()"
      ],
      "metadata": {
        "id": "TCcIp-fLk1cV"
      },
      "execution_count": null,
      "outputs": []
    },
    {
      "cell_type": "code",
      "source": [
        "# Predict the NN_X_test\n",
        "NN_y_pred = ann_model.predict(NN_X_test)\n",
        "NN_y_pred_arg=np.argmax(NN_y_pred, axis=1)\n",
        "NN_y_test_arg=np.argmax(NN_y_test, axis=1)"
      ],
      "metadata": {
        "id": "mWMhyzVqBYpu"
      },
      "execution_count": null,
      "outputs": []
    },
    {
      "cell_type": "code",
      "source": [
        "accuracy = accuracy_score(NN_y_test_arg, NN_y_pred_arg)\n",
        "recall = recall_score(NN_y_test_arg, NN_y_pred_arg, average='weighted')\n",
        "precision = precision_score(NN_y_test_arg, NN_y_pred_arg, average='weighted')\n",
        "f1_sc = f1_score(NN_y_test_arg, NN_y_pred_arg, average='weighted')\n",
        "\n",
        "auc = 'N/A'\n",
        "model_eval_metrics.loc['Base-ANN'] = [accuracy, recall, precision, f1_sc, auc]"
      ],
      "metadata": {
        "id": "7sA8QKru0AaU"
      },
      "execution_count": null,
      "outputs": []
    },
    {
      "cell_type": "markdown",
      "source": [
        "### Scaled"
      ],
      "metadata": {
        "id": "9dLYc4Bz7qwY"
      }
    },
    {
      "cell_type": "code",
      "source": [
        "history = ann_model.fit(NN_X_scaled_train, NN_y_scaled_train, epochs=60, batch_size=10, validation_split=0.2)"
      ],
      "metadata": {
        "id": "y1hDYK4874gG"
      },
      "execution_count": null,
      "outputs": []
    },
    {
      "cell_type": "code",
      "source": [
        "plt.plot(history.history['accuracy'])\n",
        "plt.plot(history.history['loss'])\n",
        "plt.title('model accuracy')\n",
        "plt.ylabel('accuracy')\n",
        "plt.xlabel('epoch')\n",
        "plt.legend(['accurracy', 'loss'], loc='upper left')\n",
        "\n",
        "plt.show()"
      ],
      "metadata": {
        "id": "AkSR4CMC74gK"
      },
      "execution_count": null,
      "outputs": []
    },
    {
      "cell_type": "code",
      "source": [
        "# Predict the NN_X_scaled_test\n",
        "NN_y_scaled_pred = ann_model.predict(NN_X_scaled_test)\n",
        "NN_y_scaled_pred_arg=np.argmax(NN_y_scaled_pred, axis=1)\n",
        "NN_y_scaled_test_arg=np.argmax(NN_y_scaled_test, axis=1)"
      ],
      "metadata": {
        "colab": {
          "base_uri": "https://localhost:8080/"
        },
        "id": "nOpJZIXe1OkQ",
        "outputId": "ece4298f-2e4b-4250-ea71-86e8e1922c9f"
      },
      "execution_count": 162,
      "outputs": [
        {
          "output_type": "stream",
          "name": "stdout",
          "text": [
            "63/63 [==============================] - 0s 1ms/step\n"
          ]
        }
      ]
    },
    {
      "cell_type": "code",
      "source": [
        "accuracy = accuracy_score(NN_y_scaled_test_arg, NN_y_scaled_pred_arg)\n",
        "recall = recall_score(NN_y_scaled_test_arg, NN_y_scaled_pred_arg, average='weighted')\n",
        "precision = precision_score(NN_y_scaled_test_arg, NN_y_scaled_pred_arg, average='weighted')\n",
        "f1_sc = f1_score(NN_y_scaled_test_arg, NN_y_scaled_pred_arg, average='weighted')\n",
        "\n",
        "auc = 'N/A'\n",
        "model_eval_metrics.loc['Scaled-ANN'] = [accuracy, recall, precision, f1_sc, auc]"
      ],
      "metadata": {
        "id": "7xj2xgMq1OkR"
      },
      "execution_count": 163,
      "outputs": []
    },
    {
      "cell_type": "markdown",
      "source": [
        "### Oversampled"
      ],
      "metadata": {
        "id": "g_uXheqd8gXk"
      }
    },
    {
      "cell_type": "code",
      "source": [
        "history = ann_model.fit(NN_X_oversampled_scaled_train, NN_y_oversampled_scaled_train, epochs=60, batch_size=10, validation_split=0.2)"
      ],
      "metadata": {
        "colab": {
          "base_uri": "https://localhost:8080/"
        },
        "outputId": "d24fafbb-5e2a-4b2a-e234-e3870cc59a16",
        "id": "KlbboD0E8gXl"
      },
      "execution_count": 164,
      "outputs": [
        {
          "output_type": "stream",
          "name": "stdout",
          "text": [
            "Epoch 1/60\n",
            "1548/1548 [==============================] - 5s 3ms/step - loss: 0.9345 - accuracy: 0.6962 - val_loss: 4.1764 - val_accuracy: 0.0000e+00\n",
            "Epoch 2/60\n",
            "1548/1548 [==============================] - 3s 2ms/step - loss: 0.9014 - accuracy: 0.7048 - val_loss: 4.2628 - val_accuracy: 0.0000e+00\n",
            "Epoch 3/60\n",
            "1548/1548 [==============================] - 4s 2ms/step - loss: 0.9061 - accuracy: 0.7048 - val_loss: 4.2227 - val_accuracy: 0.0000e+00\n",
            "Epoch 4/60\n",
            "1548/1548 [==============================] - 4s 2ms/step - loss: 0.8914 - accuracy: 0.7104 - val_loss: 4.4187 - val_accuracy: 0.0000e+00\n",
            "Epoch 5/60\n",
            "1548/1548 [==============================] - 5s 3ms/step - loss: 0.9005 - accuracy: 0.7070 - val_loss: 4.3701 - val_accuracy: 0.0000e+00\n",
            "Epoch 6/60\n",
            "1548/1548 [==============================] - 7s 4ms/step - loss: 0.8884 - accuracy: 0.7123 - val_loss: 4.2428 - val_accuracy: 0.0000e+00\n",
            "Epoch 7/60\n",
            "1548/1548 [==============================] - 5s 3ms/step - loss: 0.8863 - accuracy: 0.7131 - val_loss: 4.2610 - val_accuracy: 0.0000e+00\n",
            "Epoch 8/60\n",
            "1548/1548 [==============================] - 3s 2ms/step - loss: 0.8893 - accuracy: 0.7108 - val_loss: 4.1846 - val_accuracy: 0.0000e+00\n",
            "Epoch 9/60\n",
            "1548/1548 [==============================] - 3s 2ms/step - loss: 0.8927 - accuracy: 0.7095 - val_loss: 4.1920 - val_accuracy: 0.0000e+00\n",
            "Epoch 10/60\n",
            "1548/1548 [==============================] - 3s 2ms/step - loss: 0.8927 - accuracy: 0.7097 - val_loss: 4.3261 - val_accuracy: 0.0000e+00\n",
            "Epoch 11/60\n",
            "1548/1548 [==============================] - 3s 2ms/step - loss: 0.8770 - accuracy: 0.7162 - val_loss: 4.3595 - val_accuracy: 0.0000e+00\n",
            "Epoch 12/60\n",
            "1548/1548 [==============================] - 3s 2ms/step - loss: 0.8932 - accuracy: 0.7093 - val_loss: 4.4826 - val_accuracy: 0.0000e+00\n",
            "Epoch 13/60\n",
            "1548/1548 [==============================] - 4s 3ms/step - loss: 0.8917 - accuracy: 0.7102 - val_loss: 4.3068 - val_accuracy: 0.0000e+00\n",
            "Epoch 14/60\n",
            "1548/1548 [==============================] - 6s 4ms/step - loss: 0.8862 - accuracy: 0.7125 - val_loss: 4.2071 - val_accuracy: 0.0000e+00\n",
            "Epoch 15/60\n",
            "1548/1548 [==============================] - 3s 2ms/step - loss: 0.8913 - accuracy: 0.7105 - val_loss: 4.2419 - val_accuracy: 0.0000e+00\n",
            "Epoch 16/60\n",
            "1548/1548 [==============================] - 3s 2ms/step - loss: 0.8964 - accuracy: 0.7084 - val_loss: 4.4201 - val_accuracy: 0.0000e+00\n",
            "Epoch 17/60\n",
            "1548/1548 [==============================] - 6s 4ms/step - loss: 0.8909 - accuracy: 0.7107 - val_loss: 4.2342 - val_accuracy: 0.0000e+00\n",
            "Epoch 18/60\n",
            "1548/1548 [==============================] - 6s 4ms/step - loss: 0.8959 - accuracy: 0.7082 - val_loss: 4.3034 - val_accuracy: 0.0000e+00\n",
            "Epoch 19/60\n",
            "1548/1548 [==============================] - 7s 4ms/step - loss: 0.8882 - accuracy: 0.7108 - val_loss: 4.2138 - val_accuracy: 0.0000e+00\n",
            "Epoch 20/60\n",
            "1548/1548 [==============================] - 5s 3ms/step - loss: 0.8949 - accuracy: 0.7084 - val_loss: 4.2003 - val_accuracy: 0.0000e+00\n",
            "Epoch 21/60\n",
            "1548/1548 [==============================] - 5s 4ms/step - loss: 0.8883 - accuracy: 0.7111 - val_loss: 4.1756 - val_accuracy: 0.0000e+00\n",
            "Epoch 22/60\n",
            "1548/1548 [==============================] - 5s 3ms/step - loss: 0.8896 - accuracy: 0.7112 - val_loss: 4.4002 - val_accuracy: 0.0000e+00\n",
            "Epoch 23/60\n",
            "1548/1548 [==============================] - 6s 4ms/step - loss: 0.8904 - accuracy: 0.7100 - val_loss: 4.1747 - val_accuracy: 0.0000e+00\n",
            "Epoch 24/60\n",
            "1548/1548 [==============================] - 5s 3ms/step - loss: 0.8882 - accuracy: 0.7121 - val_loss: 4.2835 - val_accuracy: 0.0000e+00\n",
            "Epoch 25/60\n",
            "1548/1548 [==============================] - 5s 3ms/step - loss: 0.8932 - accuracy: 0.7092 - val_loss: 4.3496 - val_accuracy: 0.0000e+00\n",
            "Epoch 26/60\n",
            "1548/1548 [==============================] - 5s 3ms/step - loss: 0.8946 - accuracy: 0.7089 - val_loss: 4.3763 - val_accuracy: 0.0000e+00\n",
            "Epoch 27/60\n",
            "1548/1548 [==============================] - 5s 3ms/step - loss: 0.8930 - accuracy: 0.7088 - val_loss: 4.3357 - val_accuracy: 0.0000e+00\n",
            "Epoch 28/60\n",
            "1548/1548 [==============================] - 4s 3ms/step - loss: 0.8840 - accuracy: 0.7132 - val_loss: 4.2665 - val_accuracy: 0.0000e+00\n",
            "Epoch 29/60\n",
            "1548/1548 [==============================] - 5s 3ms/step - loss: 0.8895 - accuracy: 0.7104 - val_loss: 4.2147 - val_accuracy: 0.0000e+00\n",
            "Epoch 30/60\n",
            "1548/1548 [==============================] - 3s 2ms/step - loss: 0.8911 - accuracy: 0.7098 - val_loss: 4.3075 - val_accuracy: 0.0000e+00\n",
            "Epoch 31/60\n",
            "1548/1548 [==============================] - 6s 4ms/step - loss: 0.8967 - accuracy: 0.7075 - val_loss: 4.3021 - val_accuracy: 0.0000e+00\n",
            "Epoch 32/60\n",
            "1548/1548 [==============================] - 5s 3ms/step - loss: 0.8880 - accuracy: 0.7105 - val_loss: 4.3009 - val_accuracy: 0.0000e+00\n",
            "Epoch 33/60\n",
            "1548/1548 [==============================] - 5s 3ms/step - loss: 0.8874 - accuracy: 0.7114 - val_loss: 4.3729 - val_accuracy: 0.0000e+00\n",
            "Epoch 34/60\n",
            "1548/1548 [==============================] - 4s 2ms/step - loss: 0.8880 - accuracy: 0.7115 - val_loss: 4.2685 - val_accuracy: 0.0000e+00\n",
            "Epoch 35/60\n",
            "1548/1548 [==============================] - 5s 3ms/step - loss: 0.8875 - accuracy: 0.7118 - val_loss: 4.2750 - val_accuracy: 0.0000e+00\n",
            "Epoch 36/60\n",
            "1548/1548 [==============================] - 4s 3ms/step - loss: 0.8933 - accuracy: 0.7085 - val_loss: 4.3202 - val_accuracy: 0.0000e+00\n",
            "Epoch 37/60\n",
            "1548/1548 [==============================] - 3s 2ms/step - loss: 0.8977 - accuracy: 0.7078 - val_loss: 4.3154 - val_accuracy: 0.0000e+00\n",
            "Epoch 38/60\n",
            "1548/1548 [==============================] - 5s 3ms/step - loss: 0.8891 - accuracy: 0.7110 - val_loss: 4.4598 - val_accuracy: 0.0000e+00\n",
            "Epoch 39/60\n",
            "1548/1548 [==============================] - 5s 3ms/step - loss: 0.8882 - accuracy: 0.7110 - val_loss: 4.3376 - val_accuracy: 0.0000e+00\n",
            "Epoch 40/60\n",
            "1548/1548 [==============================] - 5s 3ms/step - loss: 0.8887 - accuracy: 0.7104 - val_loss: 4.3218 - val_accuracy: 0.0000e+00\n",
            "Epoch 41/60\n",
            "1548/1548 [==============================] - 5s 3ms/step - loss: 0.8863 - accuracy: 0.7119 - val_loss: 4.2355 - val_accuracy: 0.0000e+00\n",
            "Epoch 42/60\n",
            "1548/1548 [==============================] - 3s 2ms/step - loss: 0.8939 - accuracy: 0.7088 - val_loss: 4.3986 - val_accuracy: 0.0000e+00\n",
            "Epoch 43/60\n",
            "1548/1548 [==============================] - 3s 2ms/step - loss: 0.8913 - accuracy: 0.7103 - val_loss: 4.2805 - val_accuracy: 0.0000e+00\n",
            "Epoch 44/60\n",
            "1548/1548 [==============================] - 3s 2ms/step - loss: 0.8870 - accuracy: 0.7117 - val_loss: 4.2531 - val_accuracy: 0.0000e+00\n",
            "Epoch 45/60\n",
            "1548/1548 [==============================] - 3s 2ms/step - loss: 0.8859 - accuracy: 0.7121 - val_loss: 4.2250 - val_accuracy: 0.0000e+00\n",
            "Epoch 46/60\n",
            "1548/1548 [==============================] - 3s 2ms/step - loss: 0.8940 - accuracy: 0.7083 - val_loss: 4.2243 - val_accuracy: 0.0000e+00\n",
            "Epoch 47/60\n",
            "1548/1548 [==============================] - 3s 2ms/step - loss: 0.8824 - accuracy: 0.7133 - val_loss: 4.3177 - val_accuracy: 0.0000e+00\n",
            "Epoch 48/60\n",
            "1548/1548 [==============================] - 3s 2ms/step - loss: 0.8909 - accuracy: 0.7099 - val_loss: 4.3710 - val_accuracy: 0.0000e+00\n",
            "Epoch 49/60\n",
            "1548/1548 [==============================] - 6s 4ms/step - loss: 0.8901 - accuracy: 0.7101 - val_loss: 4.2594 - val_accuracy: 0.0000e+00\n",
            "Epoch 50/60\n",
            "1548/1548 [==============================] - 4s 3ms/step - loss: 0.8984 - accuracy: 0.7066 - val_loss: 4.2865 - val_accuracy: 0.0000e+00\n",
            "Epoch 51/60\n",
            "1548/1548 [==============================] - 3s 2ms/step - loss: 0.8900 - accuracy: 0.7104 - val_loss: 4.4040 - val_accuracy: 0.0000e+00\n",
            "Epoch 52/60\n",
            "1548/1548 [==============================] - 3s 2ms/step - loss: 0.8839 - accuracy: 0.7123 - val_loss: 4.3108 - val_accuracy: 0.0000e+00\n",
            "Epoch 53/60\n",
            "1548/1548 [==============================] - 3s 2ms/step - loss: 0.8878 - accuracy: 0.7106 - val_loss: 4.3685 - val_accuracy: 0.0000e+00\n",
            "Epoch 54/60\n",
            "1548/1548 [==============================] - 3s 2ms/step - loss: 0.8904 - accuracy: 0.7097 - val_loss: 4.2286 - val_accuracy: 0.0000e+00\n",
            "Epoch 55/60\n",
            "1548/1548 [==============================] - 3s 2ms/step - loss: 0.8905 - accuracy: 0.7101 - val_loss: 4.1910 - val_accuracy: 0.0000e+00\n",
            "Epoch 56/60\n",
            "1548/1548 [==============================] - 3s 2ms/step - loss: 0.8870 - accuracy: 0.7110 - val_loss: 4.3251 - val_accuracy: 0.0000e+00\n",
            "Epoch 57/60\n",
            "1548/1548 [==============================] - 3s 2ms/step - loss: 0.8846 - accuracy: 0.7120 - val_loss: 4.2884 - val_accuracy: 0.0000e+00\n",
            "Epoch 58/60\n",
            "1548/1548 [==============================] - 3s 2ms/step - loss: 0.8879 - accuracy: 0.7102 - val_loss: 4.2175 - val_accuracy: 0.0000e+00\n",
            "Epoch 59/60\n",
            "1548/1548 [==============================] - 3s 2ms/step - loss: 0.8899 - accuracy: 0.7108 - val_loss: 4.2983 - val_accuracy: 0.0000e+00\n",
            "Epoch 60/60\n",
            "1548/1548 [==============================] - 3s 2ms/step - loss: 0.8961 - accuracy: 0.7079 - val_loss: 4.2308 - val_accuracy: 0.0000e+00\n"
          ]
        }
      ]
    },
    {
      "cell_type": "code",
      "source": [
        "plt.plot(history.history['accuracy'])\n",
        "plt.plot(history.history['loss'])\n",
        "plt.title('model accuracy')\n",
        "plt.ylabel('accuracy')\n",
        "plt.xlabel('epoch')\n",
        "plt.legend(['accurracy', 'loss'], loc='upper left')\n",
        "\n",
        "plt.show()"
      ],
      "metadata": {
        "id": "r5O11R6I8gXl"
      },
      "execution_count": null,
      "outputs": []
    },
    {
      "cell_type": "code",
      "source": [
        "# Predict the NN_X_scaled_test\n",
        "NN_y_oversampled_scaled_pred = ann_model.predict(NN_X_oversampled_scaled_test)\n",
        "NN_y_oversampled_scaled_pred_arg=np.argmax(NN_y_oversampled_scaled_pred, axis=1)\n",
        "NN_y_oversampled_scaled_test_arg=np.argmax(NN_y_oversampled_scaled_test, axis=1)"
      ],
      "metadata": {
        "colab": {
          "base_uri": "https://localhost:8080/"
        },
        "outputId": "9a411d31-15e2-413f-f708-5a0334517f80",
        "id": "WJN6jPQh2NVB"
      },
      "execution_count": 166,
      "outputs": [
        {
          "output_type": "stream",
          "name": "stdout",
          "text": [
            "63/63 [==============================] - 0s 1ms/step\n"
          ]
        }
      ]
    },
    {
      "cell_type": "code",
      "source": [
        "accuracy = accuracy_score(NN_y_oversampled_scaled_test_arg, NN_y_oversampled_scaled_pred_arg)\n",
        "recall = recall_score(NN_y_oversampled_scaled_test_arg, NN_y_oversampled_scaled_pred_arg, average='weighted')\n",
        "precision = precision_score(NN_y_oversampled_scaled_test_arg, NN_y_oversampled_scaled_pred_arg, average='weighted')\n",
        "f1_sc = f1_score(NN_y_oversampled_scaled_test_arg, NN_y_scaled_pred_arg, average='weighted')\n",
        "\n",
        "auc = 'N/A'\n",
        "model_eval_metrics.loc['Oversampled-ANN'] = [accuracy, recall, precision, f1_sc, auc]"
      ],
      "metadata": {
        "id": "z-f_WZlo2NVB"
      },
      "execution_count": 167,
      "outputs": []
    },
    {
      "cell_type": "code",
      "source": [
        "model_eval_metrics"
      ],
      "metadata": {
        "colab": {
          "base_uri": "https://localhost:8080/",
          "height": 520
        },
        "id": "JT3uah5s3Iad",
        "outputId": "209c5ecd-7db4-421a-ec1a-2864503d9855"
      },
      "execution_count": 168,
      "outputs": [
        {
          "output_type": "execute_result",
          "data": {
            "text/plain": [
              "                              Accuracy  Recall  Precision  F1-Score AUC score\n",
              "Base-Random-Forest              0.9745  0.9745   0.967372  0.967727  0.981142\n",
              "Scaled-Random-Forest            0.9745  0.9745   0.967372  0.967727   0.98167\n",
              "Oversampled-Random-Forest       0.9115  0.9115   0.975332  0.937956    0.9788\n",
              "GS-Oversampled-Random-Forest    0.9715  0.9715   0.982222  0.976208  0.953226\n",
              "Base-Logistric-Reg              0.9655  0.9655   0.950123  0.955899  0.505267\n",
              "Scaled-Logistic-Reg             0.9750  0.9750   0.968661  0.970115  0.917268\n",
              "Oversampled-Logistic-Reg        0.9265  0.9265   0.979426  0.947692  0.953226\n",
              "GS-Oversampled-Logistic-Reg     0.9295  0.9295   0.979706  0.949881  0.953226\n",
              "Base-KNN                        0.9670  0.9670   0.954171  0.959220  0.505267\n",
              "Scaled-KNN                      0.9695  0.9695   0.961825  0.964745  0.917268\n",
              "Oversampled-KNN                 0.9460  0.9460   0.977060  0.958439  0.953226\n",
              "GS-Oversampled-KNN              0.9600  0.9600   0.977539  0.967131  0.953226\n",
              "Base-ANN                        0.9650  0.9650   0.931225  0.947812       N/A\n",
              "Scaled-ANN                      0.9650  0.9650   0.931225  0.947812       N/A\n",
              "Oversampled-ANN                 0.9590  0.9590   0.945212  0.947812       N/A"
            ],
            "text/html": [
              "\n",
              "  <div id=\"df-4ef6112b-c57e-4d7a-a374-83cad686a815\">\n",
              "    <div class=\"colab-df-container\">\n",
              "      <div>\n",
              "<style scoped>\n",
              "    .dataframe tbody tr th:only-of-type {\n",
              "        vertical-align: middle;\n",
              "    }\n",
              "\n",
              "    .dataframe tbody tr th {\n",
              "        vertical-align: top;\n",
              "    }\n",
              "\n",
              "    .dataframe thead th {\n",
              "        text-align: right;\n",
              "    }\n",
              "</style>\n",
              "<table border=\"1\" class=\"dataframe\">\n",
              "  <thead>\n",
              "    <tr style=\"text-align: right;\">\n",
              "      <th></th>\n",
              "      <th>Accuracy</th>\n",
              "      <th>Recall</th>\n",
              "      <th>Precision</th>\n",
              "      <th>F1-Score</th>\n",
              "      <th>AUC score</th>\n",
              "    </tr>\n",
              "  </thead>\n",
              "  <tbody>\n",
              "    <tr>\n",
              "      <th>Base-Random-Forest</th>\n",
              "      <td>0.9745</td>\n",
              "      <td>0.9745</td>\n",
              "      <td>0.967372</td>\n",
              "      <td>0.967727</td>\n",
              "      <td>0.981142</td>\n",
              "    </tr>\n",
              "    <tr>\n",
              "      <th>Scaled-Random-Forest</th>\n",
              "      <td>0.9745</td>\n",
              "      <td>0.9745</td>\n",
              "      <td>0.967372</td>\n",
              "      <td>0.967727</td>\n",
              "      <td>0.98167</td>\n",
              "    </tr>\n",
              "    <tr>\n",
              "      <th>Oversampled-Random-Forest</th>\n",
              "      <td>0.9115</td>\n",
              "      <td>0.9115</td>\n",
              "      <td>0.975332</td>\n",
              "      <td>0.937956</td>\n",
              "      <td>0.9788</td>\n",
              "    </tr>\n",
              "    <tr>\n",
              "      <th>GS-Oversampled-Random-Forest</th>\n",
              "      <td>0.9715</td>\n",
              "      <td>0.9715</td>\n",
              "      <td>0.982222</td>\n",
              "      <td>0.976208</td>\n",
              "      <td>0.953226</td>\n",
              "    </tr>\n",
              "    <tr>\n",
              "      <th>Base-Logistric-Reg</th>\n",
              "      <td>0.9655</td>\n",
              "      <td>0.9655</td>\n",
              "      <td>0.950123</td>\n",
              "      <td>0.955899</td>\n",
              "      <td>0.505267</td>\n",
              "    </tr>\n",
              "    <tr>\n",
              "      <th>Scaled-Logistic-Reg</th>\n",
              "      <td>0.9750</td>\n",
              "      <td>0.9750</td>\n",
              "      <td>0.968661</td>\n",
              "      <td>0.970115</td>\n",
              "      <td>0.917268</td>\n",
              "    </tr>\n",
              "    <tr>\n",
              "      <th>Oversampled-Logistic-Reg</th>\n",
              "      <td>0.9265</td>\n",
              "      <td>0.9265</td>\n",
              "      <td>0.979426</td>\n",
              "      <td>0.947692</td>\n",
              "      <td>0.953226</td>\n",
              "    </tr>\n",
              "    <tr>\n",
              "      <th>GS-Oversampled-Logistic-Reg</th>\n",
              "      <td>0.9295</td>\n",
              "      <td>0.9295</td>\n",
              "      <td>0.979706</td>\n",
              "      <td>0.949881</td>\n",
              "      <td>0.953226</td>\n",
              "    </tr>\n",
              "    <tr>\n",
              "      <th>Base-KNN</th>\n",
              "      <td>0.9670</td>\n",
              "      <td>0.9670</td>\n",
              "      <td>0.954171</td>\n",
              "      <td>0.959220</td>\n",
              "      <td>0.505267</td>\n",
              "    </tr>\n",
              "    <tr>\n",
              "      <th>Scaled-KNN</th>\n",
              "      <td>0.9695</td>\n",
              "      <td>0.9695</td>\n",
              "      <td>0.961825</td>\n",
              "      <td>0.964745</td>\n",
              "      <td>0.917268</td>\n",
              "    </tr>\n",
              "    <tr>\n",
              "      <th>Oversampled-KNN</th>\n",
              "      <td>0.9460</td>\n",
              "      <td>0.9460</td>\n",
              "      <td>0.977060</td>\n",
              "      <td>0.958439</td>\n",
              "      <td>0.953226</td>\n",
              "    </tr>\n",
              "    <tr>\n",
              "      <th>GS-Oversampled-KNN</th>\n",
              "      <td>0.9600</td>\n",
              "      <td>0.9600</td>\n",
              "      <td>0.977539</td>\n",
              "      <td>0.967131</td>\n",
              "      <td>0.953226</td>\n",
              "    </tr>\n",
              "    <tr>\n",
              "      <th>Base-ANN</th>\n",
              "      <td>0.9650</td>\n",
              "      <td>0.9650</td>\n",
              "      <td>0.931225</td>\n",
              "      <td>0.947812</td>\n",
              "      <td>N/A</td>\n",
              "    </tr>\n",
              "    <tr>\n",
              "      <th>Scaled-ANN</th>\n",
              "      <td>0.9650</td>\n",
              "      <td>0.9650</td>\n",
              "      <td>0.931225</td>\n",
              "      <td>0.947812</td>\n",
              "      <td>N/A</td>\n",
              "    </tr>\n",
              "    <tr>\n",
              "      <th>Oversampled-ANN</th>\n",
              "      <td>0.9590</td>\n",
              "      <td>0.9590</td>\n",
              "      <td>0.945212</td>\n",
              "      <td>0.947812</td>\n",
              "      <td>N/A</td>\n",
              "    </tr>\n",
              "  </tbody>\n",
              "</table>\n",
              "</div>\n",
              "      <button class=\"colab-df-convert\" onclick=\"convertToInteractive('df-4ef6112b-c57e-4d7a-a374-83cad686a815')\"\n",
              "              title=\"Convert this dataframe to an interactive table.\"\n",
              "              style=\"display:none;\">\n",
              "        \n",
              "  <svg xmlns=\"http://www.w3.org/2000/svg\" height=\"24px\"viewBox=\"0 0 24 24\"\n",
              "       width=\"24px\">\n",
              "    <path d=\"M0 0h24v24H0V0z\" fill=\"none\"/>\n",
              "    <path d=\"M18.56 5.44l.94 2.06.94-2.06 2.06-.94-2.06-.94-.94-2.06-.94 2.06-2.06.94zm-11 1L8.5 8.5l.94-2.06 2.06-.94-2.06-.94L8.5 2.5l-.94 2.06-2.06.94zm10 10l.94 2.06.94-2.06 2.06-.94-2.06-.94-.94-2.06-.94 2.06-2.06.94z\"/><path d=\"M17.41 7.96l-1.37-1.37c-.4-.4-.92-.59-1.43-.59-.52 0-1.04.2-1.43.59L10.3 9.45l-7.72 7.72c-.78.78-.78 2.05 0 2.83L4 21.41c.39.39.9.59 1.41.59.51 0 1.02-.2 1.41-.59l7.78-7.78 2.81-2.81c.8-.78.8-2.07 0-2.86zM5.41 20L4 18.59l7.72-7.72 1.47 1.35L5.41 20z\"/>\n",
              "  </svg>\n",
              "      </button>\n",
              "      \n",
              "  <style>\n",
              "    .colab-df-container {\n",
              "      display:flex;\n",
              "      flex-wrap:wrap;\n",
              "      gap: 12px;\n",
              "    }\n",
              "\n",
              "    .colab-df-convert {\n",
              "      background-color: #E8F0FE;\n",
              "      border: none;\n",
              "      border-radius: 50%;\n",
              "      cursor: pointer;\n",
              "      display: none;\n",
              "      fill: #1967D2;\n",
              "      height: 32px;\n",
              "      padding: 0 0 0 0;\n",
              "      width: 32px;\n",
              "    }\n",
              "\n",
              "    .colab-df-convert:hover {\n",
              "      background-color: #E2EBFA;\n",
              "      box-shadow: 0px 1px 2px rgba(60, 64, 67, 0.3), 0px 1px 3px 1px rgba(60, 64, 67, 0.15);\n",
              "      fill: #174EA6;\n",
              "    }\n",
              "\n",
              "    [theme=dark] .colab-df-convert {\n",
              "      background-color: #3B4455;\n",
              "      fill: #D2E3FC;\n",
              "    }\n",
              "\n",
              "    [theme=dark] .colab-df-convert:hover {\n",
              "      background-color: #434B5C;\n",
              "      box-shadow: 0px 1px 3px 1px rgba(0, 0, 0, 0.15);\n",
              "      filter: drop-shadow(0px 1px 2px rgba(0, 0, 0, 0.3));\n",
              "      fill: #FFFFFF;\n",
              "    }\n",
              "  </style>\n",
              "\n",
              "      <script>\n",
              "        const buttonEl =\n",
              "          document.querySelector('#df-4ef6112b-c57e-4d7a-a374-83cad686a815 button.colab-df-convert');\n",
              "        buttonEl.style.display =\n",
              "          google.colab.kernel.accessAllowed ? 'block' : 'none';\n",
              "\n",
              "        async function convertToInteractive(key) {\n",
              "          const element = document.querySelector('#df-4ef6112b-c57e-4d7a-a374-83cad686a815');\n",
              "          const dataTable =\n",
              "            await google.colab.kernel.invokeFunction('convertToInteractive',\n",
              "                                                     [key], {});\n",
              "          if (!dataTable) return;\n",
              "\n",
              "          const docLinkHtml = 'Like what you see? Visit the ' +\n",
              "            '<a target=\"_blank\" href=https://colab.research.google.com/notebooks/data_table.ipynb>data table notebook</a>'\n",
              "            + ' to learn more about interactive tables.';\n",
              "          element.innerHTML = '';\n",
              "          dataTable['output_type'] = 'display_data';\n",
              "          await google.colab.output.renderOutput(dataTable, element);\n",
              "          const docLink = document.createElement('div');\n",
              "          docLink.innerHTML = docLinkHtml;\n",
              "          element.appendChild(docLink);\n",
              "        }\n",
              "      </script>\n",
              "    </div>\n",
              "  </div>\n",
              "  "
            ]
          },
          "metadata": {},
          "execution_count": 168
        }
      ]
    },
    {
      "cell_type": "markdown",
      "source": [
        "# Binary Classification"
      ],
      "metadata": {
        "id": "uibSklrOGNw7"
      }
    },
    {
      "cell_type": "markdown",
      "source": [
        "[Notebook](https://https://colab.research.google.com/drive/18nhgfCM3WeAXvrprNL5rRgkXVYH2Rudq?usp=sharing)"
      ],
      "metadata": {
        "id": "aOdp2VAd7-ep"
      }
    }
  ]
}